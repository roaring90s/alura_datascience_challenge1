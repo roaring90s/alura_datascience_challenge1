{
  "nbformat": 4,
  "nbformat_minor": 0,
  "metadata": {
    "colab": {
      "provenance": [],
      "collapsed_sections": [
        "RhEdWd9YUR6H",
        "X62IW3KFUIYm",
        "6n41tOjjJ6LT",
        "2V_vcAPzWZmR",
        "Rq6tU_xSY3jk",
        "DmNp1KPBZCm-",
        "M8kTM_ybThZX",
        "yW9BZm-8UDvh",
        "Fl0cGi3bZKqU",
        "n2a90EFDV3vu",
        "zMI7krNgWGUk",
        "PS8aHE3OWL-2",
        "Iq35BYDZrdvd",
        "Z4xan_Iotx7-",
        "On5h7vBdueHt",
        "G4WhuK0pul29",
        "R9a5khA9uo0E"
      ]
    },
    "kernelspec": {
      "name": "python3",
      "display_name": "Python 3"
    },
    "language_info": {
      "name": "python"
    }
  },
  "cells": [
    {
      "cell_type": "markdown",
      "source": [
        "# Importação dos dados\n",
        "\n"
      ],
      "metadata": {
        "id": "RhEdWd9YUR6H"
      }
    },
    {
      "cell_type": "code",
      "execution_count": 143,
      "metadata": {
        "colab": {
          "base_uri": "https://localhost:8080/",
          "height": 258
        },
        "id": "T3EvaeQ_INIL",
        "outputId": "26f67345-ca92-4d48-fe00-469928f989f7"
      },
      "outputs": [
        {
          "output_type": "execute_result",
          "data": {
            "text/plain": [
              "                 Produto Categoria do Produto    Preço      Frete  \\\n",
              "0     Assistente virtual          eletronicos   219.08   9.249790   \n",
              "1         Mesa de jantar               moveis   256.35  11.234305   \n",
              "2      Jogo de tabuleiro           brinquedos   279.51  21.262681   \n",
              "3            Micro-ondas     eletrodomesticos  1009.99  54.667344   \n",
              "4  Cadeira de escritório               moveis   446.99  26.964689   \n",
              "\n",
              "  Data da Compra        Vendedor Local da compra  Avaliação da compra  \\\n",
              "0     16/01/2021     Pedro Gomes              SP                    4   \n",
              "1     18/05/2022  Beatriz Moraes              RJ                    1   \n",
              "2     15/03/2021      João Souza              DF                    1   \n",
              "3     03/05/2022      João Souza              RS                    4   \n",
              "4     07/11/2020   Larissa Alves              MG                    5   \n",
              "\n",
              "  Tipo de pagamento  Quantidade de parcelas    lat    lon  \n",
              "0    cartao_credito                       8 -22.19 -48.79  \n",
              "1    cartao_credito                       4 -22.25 -42.66  \n",
              "2    cartao_credito                       1 -15.83 -47.86  \n",
              "3            boleto                       1 -30.17 -53.50  \n",
              "4            boleto                       1 -18.10 -44.38  "
            ],
            "text/html": [
              "\n",
              "  <div id=\"df-81c3737e-6895-4251-980b-6625e7e16e07\" class=\"colab-df-container\">\n",
              "    <div>\n",
              "<style scoped>\n",
              "    .dataframe tbody tr th:only-of-type {\n",
              "        vertical-align: middle;\n",
              "    }\n",
              "\n",
              "    .dataframe tbody tr th {\n",
              "        vertical-align: top;\n",
              "    }\n",
              "\n",
              "    .dataframe thead th {\n",
              "        text-align: right;\n",
              "    }\n",
              "</style>\n",
              "<table border=\"1\" class=\"dataframe\">\n",
              "  <thead>\n",
              "    <tr style=\"text-align: right;\">\n",
              "      <th></th>\n",
              "      <th>Produto</th>\n",
              "      <th>Categoria do Produto</th>\n",
              "      <th>Preço</th>\n",
              "      <th>Frete</th>\n",
              "      <th>Data da Compra</th>\n",
              "      <th>Vendedor</th>\n",
              "      <th>Local da compra</th>\n",
              "      <th>Avaliação da compra</th>\n",
              "      <th>Tipo de pagamento</th>\n",
              "      <th>Quantidade de parcelas</th>\n",
              "      <th>lat</th>\n",
              "      <th>lon</th>\n",
              "    </tr>\n",
              "  </thead>\n",
              "  <tbody>\n",
              "    <tr>\n",
              "      <th>0</th>\n",
              "      <td>Assistente virtual</td>\n",
              "      <td>eletronicos</td>\n",
              "      <td>219.08</td>\n",
              "      <td>9.249790</td>\n",
              "      <td>16/01/2021</td>\n",
              "      <td>Pedro Gomes</td>\n",
              "      <td>SP</td>\n",
              "      <td>4</td>\n",
              "      <td>cartao_credito</td>\n",
              "      <td>8</td>\n",
              "      <td>-22.19</td>\n",
              "      <td>-48.79</td>\n",
              "    </tr>\n",
              "    <tr>\n",
              "      <th>1</th>\n",
              "      <td>Mesa de jantar</td>\n",
              "      <td>moveis</td>\n",
              "      <td>256.35</td>\n",
              "      <td>11.234305</td>\n",
              "      <td>18/05/2022</td>\n",
              "      <td>Beatriz Moraes</td>\n",
              "      <td>RJ</td>\n",
              "      <td>1</td>\n",
              "      <td>cartao_credito</td>\n",
              "      <td>4</td>\n",
              "      <td>-22.25</td>\n",
              "      <td>-42.66</td>\n",
              "    </tr>\n",
              "    <tr>\n",
              "      <th>2</th>\n",
              "      <td>Jogo de tabuleiro</td>\n",
              "      <td>brinquedos</td>\n",
              "      <td>279.51</td>\n",
              "      <td>21.262681</td>\n",
              "      <td>15/03/2021</td>\n",
              "      <td>João Souza</td>\n",
              "      <td>DF</td>\n",
              "      <td>1</td>\n",
              "      <td>cartao_credito</td>\n",
              "      <td>1</td>\n",
              "      <td>-15.83</td>\n",
              "      <td>-47.86</td>\n",
              "    </tr>\n",
              "    <tr>\n",
              "      <th>3</th>\n",
              "      <td>Micro-ondas</td>\n",
              "      <td>eletrodomesticos</td>\n",
              "      <td>1009.99</td>\n",
              "      <td>54.667344</td>\n",
              "      <td>03/05/2022</td>\n",
              "      <td>João Souza</td>\n",
              "      <td>RS</td>\n",
              "      <td>4</td>\n",
              "      <td>boleto</td>\n",
              "      <td>1</td>\n",
              "      <td>-30.17</td>\n",
              "      <td>-53.50</td>\n",
              "    </tr>\n",
              "    <tr>\n",
              "      <th>4</th>\n",
              "      <td>Cadeira de escritório</td>\n",
              "      <td>moveis</td>\n",
              "      <td>446.99</td>\n",
              "      <td>26.964689</td>\n",
              "      <td>07/11/2020</td>\n",
              "      <td>Larissa Alves</td>\n",
              "      <td>MG</td>\n",
              "      <td>5</td>\n",
              "      <td>boleto</td>\n",
              "      <td>1</td>\n",
              "      <td>-18.10</td>\n",
              "      <td>-44.38</td>\n",
              "    </tr>\n",
              "  </tbody>\n",
              "</table>\n",
              "</div>\n",
              "    <div class=\"colab-df-buttons\">\n",
              "\n",
              "  <div class=\"colab-df-container\">\n",
              "    <button class=\"colab-df-convert\" onclick=\"convertToInteractive('df-81c3737e-6895-4251-980b-6625e7e16e07')\"\n",
              "            title=\"Convert this dataframe to an interactive table.\"\n",
              "            style=\"display:none;\">\n",
              "\n",
              "  <svg xmlns=\"http://www.w3.org/2000/svg\" height=\"24px\" viewBox=\"0 -960 960 960\">\n",
              "    <path d=\"M120-120v-720h720v720H120Zm60-500h600v-160H180v160Zm220 220h160v-160H400v160Zm0 220h160v-160H400v160ZM180-400h160v-160H180v160Zm440 0h160v-160H620v160ZM180-180h160v-160H180v160Zm440 0h160v-160H620v160Z\"/>\n",
              "  </svg>\n",
              "    </button>\n",
              "\n",
              "  <style>\n",
              "    .colab-df-container {\n",
              "      display:flex;\n",
              "      gap: 12px;\n",
              "    }\n",
              "\n",
              "    .colab-df-convert {\n",
              "      background-color: #E8F0FE;\n",
              "      border: none;\n",
              "      border-radius: 50%;\n",
              "      cursor: pointer;\n",
              "      display: none;\n",
              "      fill: #1967D2;\n",
              "      height: 32px;\n",
              "      padding: 0 0 0 0;\n",
              "      width: 32px;\n",
              "    }\n",
              "\n",
              "    .colab-df-convert:hover {\n",
              "      background-color: #E2EBFA;\n",
              "      box-shadow: 0px 1px 2px rgba(60, 64, 67, 0.3), 0px 1px 3px 1px rgba(60, 64, 67, 0.15);\n",
              "      fill: #174EA6;\n",
              "    }\n",
              "\n",
              "    .colab-df-buttons div {\n",
              "      margin-bottom: 4px;\n",
              "    }\n",
              "\n",
              "    [theme=dark] .colab-df-convert {\n",
              "      background-color: #3B4455;\n",
              "      fill: #D2E3FC;\n",
              "    }\n",
              "\n",
              "    [theme=dark] .colab-df-convert:hover {\n",
              "      background-color: #434B5C;\n",
              "      box-shadow: 0px 1px 3px 1px rgba(0, 0, 0, 0.15);\n",
              "      filter: drop-shadow(0px 1px 2px rgba(0, 0, 0, 0.3));\n",
              "      fill: #FFFFFF;\n",
              "    }\n",
              "  </style>\n",
              "\n",
              "    <script>\n",
              "      const buttonEl =\n",
              "        document.querySelector('#df-81c3737e-6895-4251-980b-6625e7e16e07 button.colab-df-convert');\n",
              "      buttonEl.style.display =\n",
              "        google.colab.kernel.accessAllowed ? 'block' : 'none';\n",
              "\n",
              "      async function convertToInteractive(key) {\n",
              "        const element = document.querySelector('#df-81c3737e-6895-4251-980b-6625e7e16e07');\n",
              "        const dataTable =\n",
              "          await google.colab.kernel.invokeFunction('convertToInteractive',\n",
              "                                                    [key], {});\n",
              "        if (!dataTable) return;\n",
              "\n",
              "        const docLinkHtml = 'Like what you see? Visit the ' +\n",
              "          '<a target=\"_blank\" href=https://colab.research.google.com/notebooks/data_table.ipynb>data table notebook</a>'\n",
              "          + ' to learn more about interactive tables.';\n",
              "        element.innerHTML = '';\n",
              "        dataTable['output_type'] = 'display_data';\n",
              "        await google.colab.output.renderOutput(dataTable, element);\n",
              "        const docLink = document.createElement('div');\n",
              "        docLink.innerHTML = docLinkHtml;\n",
              "        element.appendChild(docLink);\n",
              "      }\n",
              "    </script>\n",
              "  </div>\n",
              "\n",
              "\n",
              "    <div id=\"df-63987779-79de-4c52-9fce-be3c8e2ad366\">\n",
              "      <button class=\"colab-df-quickchart\" onclick=\"quickchart('df-63987779-79de-4c52-9fce-be3c8e2ad366')\"\n",
              "                title=\"Suggest charts\"\n",
              "                style=\"display:none;\">\n",
              "\n",
              "<svg xmlns=\"http://www.w3.org/2000/svg\" height=\"24px\"viewBox=\"0 0 24 24\"\n",
              "     width=\"24px\">\n",
              "    <g>\n",
              "        <path d=\"M19 3H5c-1.1 0-2 .9-2 2v14c0 1.1.9 2 2 2h14c1.1 0 2-.9 2-2V5c0-1.1-.9-2-2-2zM9 17H7v-7h2v7zm4 0h-2V7h2v10zm4 0h-2v-4h2v4z\"/>\n",
              "    </g>\n",
              "</svg>\n",
              "      </button>\n",
              "\n",
              "<style>\n",
              "  .colab-df-quickchart {\n",
              "      --bg-color: #E8F0FE;\n",
              "      --fill-color: #1967D2;\n",
              "      --hover-bg-color: #E2EBFA;\n",
              "      --hover-fill-color: #174EA6;\n",
              "      --disabled-fill-color: #AAA;\n",
              "      --disabled-bg-color: #DDD;\n",
              "  }\n",
              "\n",
              "  [theme=dark] .colab-df-quickchart {\n",
              "      --bg-color: #3B4455;\n",
              "      --fill-color: #D2E3FC;\n",
              "      --hover-bg-color: #434B5C;\n",
              "      --hover-fill-color: #FFFFFF;\n",
              "      --disabled-bg-color: #3B4455;\n",
              "      --disabled-fill-color: #666;\n",
              "  }\n",
              "\n",
              "  .colab-df-quickchart {\n",
              "    background-color: var(--bg-color);\n",
              "    border: none;\n",
              "    border-radius: 50%;\n",
              "    cursor: pointer;\n",
              "    display: none;\n",
              "    fill: var(--fill-color);\n",
              "    height: 32px;\n",
              "    padding: 0;\n",
              "    width: 32px;\n",
              "  }\n",
              "\n",
              "  .colab-df-quickchart:hover {\n",
              "    background-color: var(--hover-bg-color);\n",
              "    box-shadow: 0 1px 2px rgba(60, 64, 67, 0.3), 0 1px 3px 1px rgba(60, 64, 67, 0.15);\n",
              "    fill: var(--button-hover-fill-color);\n",
              "  }\n",
              "\n",
              "  .colab-df-quickchart-complete:disabled,\n",
              "  .colab-df-quickchart-complete:disabled:hover {\n",
              "    background-color: var(--disabled-bg-color);\n",
              "    fill: var(--disabled-fill-color);\n",
              "    box-shadow: none;\n",
              "  }\n",
              "\n",
              "  .colab-df-spinner {\n",
              "    border: 2px solid var(--fill-color);\n",
              "    border-color: transparent;\n",
              "    border-bottom-color: var(--fill-color);\n",
              "    animation:\n",
              "      spin 1s steps(1) infinite;\n",
              "  }\n",
              "\n",
              "  @keyframes spin {\n",
              "    0% {\n",
              "      border-color: transparent;\n",
              "      border-bottom-color: var(--fill-color);\n",
              "      border-left-color: var(--fill-color);\n",
              "    }\n",
              "    20% {\n",
              "      border-color: transparent;\n",
              "      border-left-color: var(--fill-color);\n",
              "      border-top-color: var(--fill-color);\n",
              "    }\n",
              "    30% {\n",
              "      border-color: transparent;\n",
              "      border-left-color: var(--fill-color);\n",
              "      border-top-color: var(--fill-color);\n",
              "      border-right-color: var(--fill-color);\n",
              "    }\n",
              "    40% {\n",
              "      border-color: transparent;\n",
              "      border-right-color: var(--fill-color);\n",
              "      border-top-color: var(--fill-color);\n",
              "    }\n",
              "    60% {\n",
              "      border-color: transparent;\n",
              "      border-right-color: var(--fill-color);\n",
              "    }\n",
              "    80% {\n",
              "      border-color: transparent;\n",
              "      border-right-color: var(--fill-color);\n",
              "      border-bottom-color: var(--fill-color);\n",
              "    }\n",
              "    90% {\n",
              "      border-color: transparent;\n",
              "      border-bottom-color: var(--fill-color);\n",
              "    }\n",
              "  }\n",
              "</style>\n",
              "\n",
              "      <script>\n",
              "        async function quickchart(key) {\n",
              "          const quickchartButtonEl =\n",
              "            document.querySelector('#' + key + ' button');\n",
              "          quickchartButtonEl.disabled = true;  // To prevent multiple clicks.\n",
              "          quickchartButtonEl.classList.add('colab-df-spinner');\n",
              "          try {\n",
              "            const charts = await google.colab.kernel.invokeFunction(\n",
              "                'suggestCharts', [key], {});\n",
              "          } catch (error) {\n",
              "            console.error('Error during call to suggestCharts:', error);\n",
              "          }\n",
              "          quickchartButtonEl.classList.remove('colab-df-spinner');\n",
              "          quickchartButtonEl.classList.add('colab-df-quickchart-complete');\n",
              "        }\n",
              "        (() => {\n",
              "          let quickchartButtonEl =\n",
              "            document.querySelector('#df-63987779-79de-4c52-9fce-be3c8e2ad366 button');\n",
              "          quickchartButtonEl.style.display =\n",
              "            google.colab.kernel.accessAllowed ? 'block' : 'none';\n",
              "        })();\n",
              "      </script>\n",
              "    </div>\n",
              "\n",
              "    </div>\n",
              "  </div>\n"
            ],
            "application/vnd.google.colaboratory.intrinsic+json": {
              "type": "dataframe",
              "variable_name": "loja",
              "summary": "{\n  \"name\": \"loja\",\n  \"rows\": 2359,\n  \"fields\": [\n    {\n      \"column\": \"Produto\",\n      \"properties\": {\n        \"dtype\": \"category\",\n        \"num_unique_values\": 51,\n        \"samples\": [\n          \"Viol\\u00e3o\",\n          \"Bola de basquete\",\n          \"Smartwatch\"\n        ],\n        \"semantic_type\": \"\",\n        \"description\": \"\"\n      }\n    },\n    {\n      \"column\": \"Categoria do Produto\",\n      \"properties\": {\n        \"dtype\": \"category\",\n        \"num_unique_values\": 8,\n        \"samples\": [\n          \"moveis\",\n          \"esporte e lazer\",\n          \"eletronicos\"\n        ],\n        \"semantic_type\": \"\",\n        \"description\": \"\"\n      }\n    },\n    {\n      \"column\": \"Pre\\u00e7o\",\n      \"properties\": {\n        \"dtype\": \"number\",\n        \"std\": 819.5827782539145,\n        \"min\": 10.07,\n        \"max\": 3969.38,\n        \"num_unique_values\": 2315,\n        \"samples\": [\n          446.11,\n          107.31,\n          65.86\n        ],\n        \"semantic_type\": \"\",\n        \"description\": \"\"\n      }\n    },\n    {\n      \"column\": \"Frete\",\n      \"properties\": {\n        \"dtype\": \"number\",\n        \"std\": 43.814183327408166,\n        \"min\": 0.0,\n        \"max\": 214.3770604781,\n        \"num_unique_values\": 2149,\n        \"samples\": [\n          83.815279607,\n          16.069664669,\n          14.0344876928\n        ],\n        \"semantic_type\": \"\",\n        \"description\": \"\"\n      }\n    },\n    {\n      \"column\": \"Data da Compra\",\n      \"properties\": {\n        \"dtype\": \"object\",\n        \"num_unique_values\": 1018,\n        \"samples\": [\n          \"15/09/2022\",\n          \"03/06/2020\",\n          \"06/11/2021\"\n        ],\n        \"semantic_type\": \"\",\n        \"description\": \"\"\n      }\n    },\n    {\n      \"column\": \"Vendedor\",\n      \"properties\": {\n        \"dtype\": \"category\",\n        \"num_unique_values\": 14,\n        \"samples\": [\n          \"Juliana Costa\",\n          \"Mariana Ferreira\",\n          \"Pedro Gomes\"\n        ],\n        \"semantic_type\": \"\",\n        \"description\": \"\"\n      }\n    },\n    {\n      \"column\": \"Local da compra\",\n      \"properties\": {\n        \"dtype\": \"category\",\n        \"num_unique_values\": 26,\n        \"samples\": [\n          \"TO\",\n          \"RN\",\n          \"SP\"\n        ],\n        \"semantic_type\": \"\",\n        \"description\": \"\"\n      }\n    },\n    {\n      \"column\": \"Avalia\\u00e7\\u00e3o da compra\",\n      \"properties\": {\n        \"dtype\": \"number\",\n        \"std\": 1,\n        \"min\": 1,\n        \"max\": 5,\n        \"num_unique_values\": 5,\n        \"samples\": [\n          1,\n          2,\n          5\n        ],\n        \"semantic_type\": \"\",\n        \"description\": \"\"\n      }\n    },\n    {\n      \"column\": \"Tipo de pagamento\",\n      \"properties\": {\n        \"dtype\": \"category\",\n        \"num_unique_values\": 4,\n        \"samples\": [\n          \"boleto\",\n          \"cartao_debito\",\n          \"cartao_credito\"\n        ],\n        \"semantic_type\": \"\",\n        \"description\": \"\"\n      }\n    },\n    {\n      \"column\": \"Quantidade de parcelas\",\n      \"properties\": {\n        \"dtype\": \"number\",\n        \"std\": 2,\n        \"min\": 1,\n        \"max\": 24,\n        \"num_unique_values\": 15,\n        \"samples\": [\n          7,\n          14,\n          8\n        ],\n        \"semantic_type\": \"\",\n        \"description\": \"\"\n      }\n    },\n    {\n      \"column\": \"lat\",\n      \"properties\": {\n        \"dtype\": \"number\",\n        \"std\": 5.372399916530833,\n        \"min\": -30.17,\n        \"max\": 1.41,\n        \"num_unique_values\": 26,\n        \"samples\": [\n          -9.46,\n          -5.81,\n          -22.19\n        ],\n        \"semantic_type\": \"\",\n        \"description\": \"\"\n      }\n    },\n    {\n      \"column\": \"lon\",\n      \"properties\": {\n        \"dtype\": \"number\",\n        \"std\": 4.183180020544179,\n        \"min\": -70.55,\n        \"max\": -36.59,\n        \"num_unique_values\": 26,\n        \"samples\": [\n          -48.26,\n          -36.59,\n          -48.79\n        ],\n        \"semantic_type\": \"\",\n        \"description\": \"\"\n      }\n    }\n  ]\n}"
            }
          },
          "metadata": {},
          "execution_count": 143
        }
      ],
      "source": [
        "import pandas as pd\n",
        "import matplotlib.pyplot as plt\n",
        "import folium\n",
        "from folium.plugins import HeatMap\n",
        "\n",
        "\n",
        "url = \"https://raw.githubusercontent.com/alura-es-cursos/challenge1-data-science/refs/heads/main/base-de-dados-challenge-1/loja_1.csv\"\n",
        "url2 = \"https://raw.githubusercontent.com/alura-es-cursos/challenge1-data-science/refs/heads/main/base-de-dados-challenge-1/loja_2.csv\"\n",
        "url3 = \"https://raw.githubusercontent.com/alura-es-cursos/challenge1-data-science/refs/heads/main/base-de-dados-challenge-1/loja_3.csv\"\n",
        "url4 = \"https://raw.githubusercontent.com/alura-es-cursos/challenge1-data-science/refs/heads/main/base-de-dados-challenge-1/loja_4.csv\"\n",
        "\n",
        "loja = pd.read_csv(url)\n",
        "loja2 = pd.read_csv(url2)\n",
        "loja3 = pd.read_csv(url3)\n",
        "loja4 = pd.read_csv(url4)\n",
        "\n",
        "loja.head()"
      ]
    },
    {
      "cell_type": "markdown",
      "source": [
        "#1. Análise do faturamento\n"
      ],
      "metadata": {
        "id": "X62IW3KFUIYm"
      }
    },
    {
      "cell_type": "markdown",
      "source": [
        "### Somas das colunas 'Preço' para calcular a estimativa de faturamento de cada loja."
      ],
      "metadata": {
        "id": "6n41tOjjJ6LT"
      }
    },
    {
      "cell_type": "code",
      "source": [
        "total_loja1 = loja['Preço'].sum()\n",
        "total_loja2 = loja2['Preço'].sum()\n",
        "total_loja3 = loja3['Preço'].sum()\n",
        "total_loja4 = loja4['Preço'].sum()\n",
        "\n",
        "print(f'A estimativa de faturamento total da primeira loja é: R$ {total_loja1:,.2f}')\n",
        "print(f'A estimativa de faturamento total da segunda loja é: R$ {total_loja2:,.2f}')\n",
        "print(f'A estimativa de faturamento total da terceira loja é: R$ {total_loja3:,.2f}')\n",
        "print(f'A estimativa de faturamento total da quarta loja é: R$ {total_loja4:,.2f}')"
      ],
      "metadata": {
        "id": "xykobSftV64I",
        "colab": {
          "base_uri": "https://localhost:8080/"
        },
        "outputId": "c688af46-3d7d-4a2f-8e5b-5ce3ba667400"
      },
      "execution_count": 144,
      "outputs": [
        {
          "output_type": "stream",
          "name": "stdout",
          "text": [
            "A estimativa de faturamento total da primeira loja é: R$ 1,534,509.12\n",
            "A estimativa de faturamento total da segunda loja é: R$ 1,488,459.06\n",
            "A estimativa de faturamento total da terceira loja é: R$ 1,464,025.03\n",
            "A estimativa de faturamento total da quarta loja é: R$ 1,384,497.58\n"
          ]
        }
      ]
    },
    {
      "cell_type": "markdown",
      "source": [
        "# 2. Vendas por Categoria\n"
      ],
      "metadata": {
        "id": "2V_vcAPzWZmR"
      }
    },
    {
      "cell_type": "code",
      "source": [
        "popularCategorias_loja1 = loja['Categoria do Produto'].value_counts().head(1)\n",
        "print(f'A categoria mais popular da loja 1 é: {popularCategorias_loja1}')\n",
        "\n",
        "popularCategorias_loja2 = loja2['Categoria do Produto'].value_counts().head(1)\n",
        "print(f'A categoria mais popular da loja 2 é: {popularCategorias_loja2}')\n",
        "\n",
        "popularCategorias_loja3 = loja3['Categoria do Produto'].value_counts().head(1)\n",
        "print(f'A categoria mais popular da loja 3 é: {popularCategorias_loja3}')\n",
        "\n",
        "popularCategorias_loja4 = loja4['Categoria do Produto'].value_counts().head(1)\n",
        "print(f'A categoria mais popular da loja 4 é: {popularCategorias_loja4}')\n",
        "\n"
      ],
      "metadata": {
        "colab": {
          "base_uri": "https://localhost:8080/"
        },
        "id": "dAg42hxJLS2N",
        "outputId": "23ccb752-6f3e-437c-c33a-aa06741f4f36"
      },
      "execution_count": 145,
      "outputs": [
        {
          "output_type": "stream",
          "name": "stdout",
          "text": [
            "A categoria mais popular da loja 1 é: Categoria do Produto\n",
            "moveis    465\n",
            "Name: count, dtype: int64\n",
            "A categoria mais popular da loja 2 é: Categoria do Produto\n",
            "moveis    442\n",
            "Name: count, dtype: int64\n",
            "A categoria mais popular da loja 3 é: Categoria do Produto\n",
            "moveis    499\n",
            "Name: count, dtype: int64\n",
            "A categoria mais popular da loja 4 é: Categoria do Produto\n",
            "moveis    480\n",
            "Name: count, dtype: int64\n"
          ]
        }
      ]
    },
    {
      "cell_type": "markdown",
      "source": [
        "# 3. Média de Avaliação das Lojas"
      ],
      "metadata": {
        "id": "Rq6tU_xSY3jk"
      }
    },
    {
      "cell_type": "code",
      "source": [
        "mediaLoja1 = loja['Avaliação da compra'].mean()\n",
        "print(f'A média de avaliação da loja 1 é: {mediaLoja1:,.2f}')\n",
        "\n",
        "mediaLoja2 = loja2['Avaliação da compra'].mean()\n",
        "print(f'A média de avaliação da loja 2 é: {mediaLoja2:,.2f}')\n",
        "\n",
        "mediaLoja3 = loja3['Avaliação da compra'].mean()\n",
        "print(f'A média de avaliação da loja 3 é: {mediaLoja3:,.2f}')\n",
        "\n",
        "mediaLoja4 = loja4['Avaliação da compra'].mean()\n",
        "print(f'A média de avaliação da loja 4 é: {mediaLoja4:,.2f}')"
      ],
      "metadata": {
        "id": "bh3jjjJwY5MU",
        "colab": {
          "base_uri": "https://localhost:8080/"
        },
        "outputId": "277b37cc-21d6-42b0-e715-ca950f70a587"
      },
      "execution_count": 146,
      "outputs": [
        {
          "output_type": "stream",
          "name": "stdout",
          "text": [
            "A média de avaliação da loja 1 é: 3.98\n",
            "A média de avaliação da loja 2 é: 4.04\n",
            "A média de avaliação da loja 3 é: 4.05\n",
            "A média de avaliação da loja 4 é: 4.00\n"
          ]
        }
      ]
    },
    {
      "cell_type": "markdown",
      "source": [
        "# 4. Produtos Mais e Menos Vendidos"
      ],
      "metadata": {
        "id": "DmNp1KPBZCm-"
      }
    },
    {
      "cell_type": "markdown",
      "source": [
        "### Top 3 produtos mais vendidos em cada loja"
      ],
      "metadata": {
        "id": "M8kTM_ybThZX"
      }
    },
    {
      "cell_type": "code",
      "source": [
        "hitProduct_loja1 = loja['Produto'].value_counts().head(3)\n",
        "print(f'Os produtos mais vendidos da loja 1 são: {hitProduct_loja1}')\n",
        "\n",
        "hitProduct_loja2 = loja2['Produto'].value_counts().head(3)\n",
        "print(f'Os produtos mais vendidos da loja 2 são: {hitProduct_loja2}')\n",
        "\n",
        "hitProduct_loja3 = loja3['Produto'].value_counts().head(3)\n",
        "print(f'Os produtos mais vendidos da loja 3 são: {hitProduct_loja3}')\n",
        "\n",
        "hitProduct_loja4 = loja4['Produto'].value_counts().head(3)\n",
        "print(f'Os produtos mais vendidos da loja 4 são: {hitProduct_loja4}')\n"
      ],
      "metadata": {
        "id": "qoyjqijQZHfF",
        "colab": {
          "base_uri": "https://localhost:8080/"
        },
        "outputId": "72d6fc25-799e-4402-a6cf-270c0adc8450"
      },
      "execution_count": 147,
      "outputs": [
        {
          "output_type": "stream",
          "name": "stdout",
          "text": [
            "Os produtos mais vendidos da loja 1 são: Produto\n",
            "Micro-ondas      60\n",
            "TV Led UHD 4K    60\n",
            "Guarda roupas    60\n",
            "Name: count, dtype: int64\n",
            "Os produtos mais vendidos da loja 2 são: Produto\n",
            "Iniciando em programação    65\n",
            "Micro-ondas                 62\n",
            "Bateria                     61\n",
            "Name: count, dtype: int64\n",
            "Os produtos mais vendidos da loja 3 são: Produto\n",
            "Kit banquetas     57\n",
            "Mesa de jantar    56\n",
            "Cama king         56\n",
            "Name: count, dtype: int64\n",
            "Os produtos mais vendidos da loja 4 são: Produto\n",
            "Cama box                   62\n",
            "Faqueiro                   59\n",
            "Dashboards com Power BI    56\n",
            "Name: count, dtype: int64\n"
          ]
        }
      ]
    },
    {
      "cell_type": "markdown",
      "source": [
        "### Top 3 produtos menos vendidos"
      ],
      "metadata": {
        "id": "yW9BZm-8UDvh"
      }
    },
    {
      "cell_type": "code",
      "source": [
        "flopProducts_loja1 = loja['Produto'].value_counts().tail(3)\n",
        "print(f'Os produtos menos vendidos da loja 1 são: {flopProducts_loja1}')\n",
        "\n",
        "flopProducts_loja2 = loja2['Produto'].value_counts().tail(3)\n",
        "print(f'Os produtos menos vendidos da loja 2 são: {flopProducts_loja2}')\n",
        "\n",
        "flopProducts_loja3 = loja3['Produto'].value_counts().tail(3)\n",
        "print(f'Os produtos menos vendidos da loja 3 são: {flopProducts_loja3}')\n",
        "\n",
        "flopProducts_loja4 = loja4['Produto'].value_counts().tail(3)\n",
        "print(f'Os produtos menos vendidos da loja 4 são: {flopProducts_loja4}')"
      ],
      "metadata": {
        "id": "0Sw3sd4IZIGW",
        "colab": {
          "base_uri": "https://localhost:8080/"
        },
        "outputId": "5c4f0f64-67c3-4cae-a697-a61447b3a59f"
      },
      "execution_count": 148,
      "outputs": [
        {
          "output_type": "stream",
          "name": "stdout",
          "text": [
            "Os produtos menos vendidos da loja 1 são: Produto\n",
            "Panela de pressão    35\n",
            "Headset              33\n",
            "Celular ABXY         33\n",
            "Name: count, dtype: int64\n",
            "Os produtos menos vendidos da loja 2 são: Produto\n",
            "Mesa de jantar       34\n",
            "Impressora           34\n",
            "Jogo de tabuleiro    32\n",
            "Name: count, dtype: int64\n",
            "Os produtos menos vendidos da loja 3 são: Produto\n",
            "Mochila             36\n",
            "Micro-ondas         36\n",
            "Blocos de montar    35\n",
            "Name: count, dtype: int64\n",
            "Os produtos menos vendidos da loja 4 são: Produto\n",
            "Violão           37\n",
            "Guarda roupas    34\n",
            "Guitarra         33\n",
            "Name: count, dtype: int64\n"
          ]
        }
      ]
    },
    {
      "cell_type": "markdown",
      "source": [
        "# 5. Frete Médio por Loja\n"
      ],
      "metadata": {
        "id": "Fl0cGi3bZKqU"
      }
    },
    {
      "cell_type": "code",
      "source": [
        "mediaFrete_loja1 = loja['Frete'].mean()\n",
        "print(f'A média do frete da loja 1 é: R$ {mediaFrete_loja1:.2f}')\n",
        "\n",
        "mediaFrete_loja2 = loja2['Frete'].mean()\n",
        "print(f'A média do frete da loja 2 é: R$ {mediaFrete_loja2:.2f}')\n",
        "\n",
        "mediaFrete_loja3 = loja3['Frete'].mean()\n",
        "print(f'A média do frete da loja 3 é: R$ {mediaFrete_loja3:.2f}')\n",
        "\n",
        "mediaFrete_loja4 = loja4['Frete'].mean()\n",
        "print(f'A média do frete da loja 4 é: R$ {mediaFrete_loja4:.2f}')"
      ],
      "metadata": {
        "id": "S2JeaCykZNy9",
        "colab": {
          "base_uri": "https://localhost:8080/"
        },
        "outputId": "96dd899f-3bc2-460e-eee2-9c9bedbf40be"
      },
      "execution_count": 149,
      "outputs": [
        {
          "output_type": "stream",
          "name": "stdout",
          "text": [
            "A média do frete da loja 1 é: R$ 34.69\n",
            "A média do frete da loja 2 é: R$ 33.62\n",
            "A média do frete da loja 3 é: R$ 33.07\n",
            "A média do frete da loja 4 é: R$ 31.28\n"
          ]
        }
      ]
    },
    {
      "cell_type": "markdown",
      "source": [
        "# 6. Visualizações da Análise"
      ],
      "metadata": {
        "id": "Rb8PRndoVz4W"
      }
    },
    {
      "cell_type": "markdown",
      "source": [
        "## 1. Estimativa de Faturamento de Cada Loja"
      ],
      "metadata": {
        "id": "n2a90EFDV3vu"
      }
    },
    {
      "cell_type": "code",
      "source": [
        "lojas = ['Loja 1', 'Loja 2', 'Loja 3', 'Loja 4']\n",
        "faturamentos = [total_loja1, total_loja2, total_loja3, total_loja4]\n",
        "\n",
        "plt.bar(lojas, faturamentos, color = 'steelblue')\n",
        "plt.title('Estimativa de Faturamento por Loja')\n",
        "plt.xlabel('Lojas')\n",
        "plt.ylabel('Faturamento(em milhões R$)')\n",
        "plt.tight_layout()\n",
        "plt.show()"
      ],
      "metadata": {
        "colab": {
          "base_uri": "https://localhost:8080/",
          "height": 0
        },
        "id": "qfxr8YleWE7u",
        "outputId": "db558101-1ed3-4dae-bd14-8c0668ccdbc1"
      },
      "execution_count": 150,
      "outputs": [
        {
          "output_type": "display_data",
          "data": {
            "text/plain": [
              "<Figure size 640x480 with 1 Axes>"
            ],
            "image/png": "[encoded data removed]"
          },
          "metadata": {}
        }
      ]
    },
    {
      "cell_type": "markdown",
      "source": [
        "##2. Média de Avaliação de Cada Loja\n",
        "\n",
        "---\n",
        "\n"
      ],
      "metadata": {
        "id": "zMI7krNgWGUk"
      }
    },
    {
      "cell_type": "code",
      "source": [
        "avaliacoes = [mediaLoja1, mediaLoja2, mediaLoja3, mediaLoja4]\n",
        "\n",
        "plt.barh(lojas, avaliacoes, color = 'seagreen')\n",
        "plt.xlim(min(avaliacoes) - 0.1, max(avaliacoes) + 0.1)\n",
        "plt.title('Média de Avaliação por Loja')\n",
        "plt.xlabel('Nota Média')\n",
        "plt.ylabel('Lojas')\n",
        "plt.tight_layout()\n",
        "plt.show()"
      ],
      "metadata": {
        "colab": {
          "base_uri": "https://localhost:8080/",
          "height": 0
        },
        "id": "9iJAHylBWLsl",
        "outputId": "b7f0a8d6-7272-4407-a675-48745542d796"
      },
      "execution_count": 151,
      "outputs": [
        {
          "output_type": "display_data",
          "data": {
            "text/plain": [
              "<Figure size 640x480 with 1 Axes>"
            ],
            "image/png": "[encoded data removed]"
          },
          "metadata": {}
        }
      ]
    },
    {
      "cell_type": "markdown",
      "source": [
        "##3. Frete Médio por Loja"
      ],
      "metadata": {
        "id": "PS8aHE3OWL-2"
      }
    },
    {
      "cell_type": "code",
      "source": [
        "fretes = [mediaFrete_loja1, mediaFrete_loja2, mediaFrete_loja3, mediaFrete_loja4]\n",
        "\n",
        "plt.plot(lojas, fretes, marker='o', linestyle='-', color= 'darkorange')\n",
        "plt.title('Frete Médio por Loja')\n",
        "plt.xlabel('Lojas')\n",
        "plt.ylabel('Frete Médio (R$)')\n",
        "plt.grid(True)\n",
        "plt.tight_layout()\n",
        "plt.show()"
      ],
      "metadata": {
        "colab": {
          "base_uri": "https://localhost:8080/",
          "height": 487
        },
        "id": "MyRMhceEWU59",
        "outputId": "8c64a3ca-8633-45fb-f7f5-f9bec5aa4b63"
      },
      "execution_count": 152,
      "outputs": [
        {
          "output_type": "display_data",
          "data": {
            "text/plain": [
              "<Figure size 640x480 with 1 Axes>"
            ],
            "image/png": "[encoded data removed]"
          },
          "metadata": {}
        }
      ]
    },
    {
      "cell_type": "markdown",
      "source": [
        "##EXTRA: Análise de Desempenho Geográfico"
      ],
      "metadata": {
        "id": "Iq35BYDZrdvd"
      }
    },
    {
      "cell_type": "markdown",
      "source": [
        "### 1. Loja 1 - Análise geográfica de vendas"
      ],
      "metadata": {
        "id": "Z4xan_Iotx7-"
      }
    },
    {
      "cell_type": "code",
      "source": [
        "coords = loja[['lat', 'lon']].values.tolist()\n",
        "\n",
        "mapa = folium.Map(\n",
        "    location=[loja['lat'].mean(), loja['lon'].mean()],\n",
        "    zoom_start=4,\n",
        "    min_zoom=4,\n",
        "    max_zoom=4,\n",
        "    zoom_control=False\n",
        ")\n",
        "\n",
        "HeatMap(coords).add_to(mapa)\n",
        "\n",
        "mapa"
      ],
      "metadata": {
        "colab": {
          "base_uri": "https://localhost:8080/",
          "height": 838
        },
        "id": "6bwELGJRtJou",
        "outputId": "613424aa-69ab-42c7-9de5-1193a8c5631e"
      },
      "execution_count": 159,
      "outputs": [
        {
          "output_type": "execute_result",
          "data": {
            "text/plain": [
              "<folium.folium.Map at 0x7a514e6cccd0>"
            ],
            "text/html": [
              "<div style=\"width:100%;\"><div style=\"position:relative;width:100%;height:0;padding-bottom:60%;\"><span style=\"color:#565656\">Make this Notebook Trusted to load map: File -> Trust Notebook</span><iframe srcdoc=\"&lt;!DOCTYPE html&gt;\n",
              "&lt;html&gt;\n",
              "&lt;head&gt;\n",
              "    \n",
              "    &lt;meta http-equiv=&quot;content-type&quot; content=&quot;text/html; charset=UTF-8&quot; /&gt;\n",
              "    &lt;script src=&quot;https://cdn.jsdelivr.net/npm/leaflet@1.9.3/dist/leaflet.js&quot;&gt;&lt;/script&gt;\n",
              "    &lt;script src=&quot;https://code.jquery.com/jquery-3.7.1.min.js&quot;&gt;&lt;/script&gt;\n",
              "    &lt;script src=&quot;https://cdn.jsdelivr.net/npm/bootstrap@5.2.2/dist/js/bootstrap.bundle.min.js&quot;&gt;&lt;/script&gt;\n",
              "    &lt;script src=&quot;https://cdnjs.cloudflare.com/ajax/libs/Leaflet.awesome-markers/2.0.2/leaflet.awesome-markers.js&quot;&gt;&lt;/script&gt;\n",
              "    &lt;link rel=&quot;stylesheet&quot; href=&quot;https://cdn.jsdelivr.net/npm/leaflet@1.9.3/dist/leaflet.css&quot;/&gt;\n",
              "    &lt;link rel=&quot;stylesheet&quot; href=&quot;https://cdn.jsdelivr.net/npm/bootstrap@5.2.2/dist/css/bootstrap.min.css&quot;/&gt;\n",
              "    &lt;link rel=&quot;stylesheet&quot; href=&quot;https://netdna.bootstrapcdn.com/bootstrap/3.0.0/css/bootstrap-glyphicons.css&quot;/&gt;\n",
              "    &lt;link rel=&quot;stylesheet&quot; href=&quot;https://cdn.jsdelivr.net/npm/@fortawesome/fontawesome-free@6.2.0/css/all.min.css&quot;/&gt;\n",
              "    &lt;link rel=&quot;stylesheet&quot; href=&quot;https://cdnjs.cloudflare.com/ajax/libs/Leaflet.awesome-markers/2.0.2/leaflet.awesome-markers.css&quot;/&gt;\n",
              "    &lt;link rel=&quot;stylesheet&quot; href=&quot;https://cdn.jsdelivr.net/gh/python-visualization/folium/folium/templates/leaflet.awesome.rotate.min.css&quot;/&gt;\n",
              "    \n",
              "            &lt;meta name=&quot;viewport&quot; content=&quot;width=device-width,\n",
              "                initial-scale=1.0, maximum-scale=1.0, user-scalable=no&quot; /&gt;\n",
              "            &lt;style&gt;\n",
              "                #map_64c46680b2d29476ab5550bc76557b30 {\n",
              "                    position: relative;\n",
              "                    width: 100.0%;\n",
              "                    height: 100.0%;\n",
              "                    left: 0.0%;\n",
              "                    top: 0.0%;\n",
              "                }\n",
              "                .leaflet-container { font-size: 1rem; }\n",
              "            &lt;/style&gt;\n",
              "\n",
              "            &lt;style&gt;html, body {\n",
              "                width: 100%;\n",
              "                height: 100%;\n",
              "                margin: 0;\n",
              "                padding: 0;\n",
              "            }\n",
              "            &lt;/style&gt;\n",
              "\n",
              "            &lt;style&gt;#map {\n",
              "                position:absolute;\n",
              "                top:0;\n",
              "                bottom:0;\n",
              "                right:0;\n",
              "                left:0;\n",
              "                }\n",
              "            &lt;/style&gt;\n",
              "\n",
              "            &lt;script&gt;\n",
              "                L_NO_TOUCH = false;\n",
              "                L_DISABLE_3D = false;\n",
              "            &lt;/script&gt;\n",
              "\n",
              "        \n",
              "    &lt;script src=&quot;https://cdn.jsdelivr.net/gh/python-visualization/folium@main/folium/templates/leaflet_heat.min.js&quot;&gt;&lt;/script&gt;\n",
              "&lt;/head&gt;\n",
              "&lt;body&gt;\n",
              "    \n",
              "    \n",
              "            &lt;div class=&quot;folium-map&quot; id=&quot;map_64c46680b2d29476ab5550bc76557b30&quot; &gt;&lt;/div&gt;\n",
              "        \n",
              "&lt;/body&gt;\n",
              "&lt;script&gt;\n",
              "    \n",
              "    \n",
              "            var map_64c46680b2d29476ab5550bc76557b30 = L.map(\n",
              "                &quot;map_64c46680b2d29476ab5550bc76557b30&quot;,\n",
              "                {\n",
              "                    center: [-20.763365832980075, -47.34938533276813],\n",
              "                    crs: L.CRS.EPSG3857,\n",
              "                    ...{\n",
              "  &quot;zoom&quot;: 4,\n",
              "  &quot;zoomControl&quot;: false,\n",
              "  &quot;preferCanvas&quot;: false,\n",
              "}\n",
              "\n",
              "                }\n",
              "            );\n",
              "\n",
              "            \n",
              "\n",
              "        \n",
              "    \n",
              "            var tile_layer_761928b8607804b65395632d6ccefc66 = L.tileLayer(\n",
              "                &quot;https://tile.openstreetmap.org/{z}/{x}/{y}.png&quot;,\n",
              "                {\n",
              "  &quot;minZoom&quot;: 4,\n",
              "  &quot;maxZoom&quot;: 4,\n",
              "  &quot;maxNativeZoom&quot;: 4,\n",
              "  &quot;noWrap&quot;: false,\n",
              "  &quot;attribution&quot;: &quot;\\u0026copy; \\u003ca href=\\&quot;https://www.openstreetmap.org/copyright\\&quot;\\u003eOpenStreetMap\\u003c/a\\u003e contributors&quot;,\n",
              "  &quot;subdomains&quot;: &quot;abc&quot;,\n",
              "  &quot;detectRetina&quot;: false,\n",
              "  &quot;tms&quot;: false,\n",
              "  &quot;opacity&quot;: 1,\n",
              "}\n",
              "\n",
              "            );\n",
              "        \n",
              "    \n",
              "            tile_layer_761928b8607804b65395632d6ccefc66.addTo(map_64c46680b2d29476ab5550bc76557b30);\n",
              "        \n",
              "    \n",
              "            var heat_map_e9e295f3d7e9d2fc5fca31e8a555574b = L.heatLayer(\n",
              "                [[-22.19, -48.79], [-22.25, -42.66], [-15.83, -47.86], [-30.17, -53.5], [-18.1, -44.38], [-30.17, -53.5], [-22.19, -48.79], [-5.2, -39.53], [-22.19, -48.79], [-22.19, -48.79], [-22.19, -48.79], [-15.83, -47.86], [-22.25, -42.66], [-19.19, -40.34], [-22.19, -48.79], [-30.17, -53.5], [-22.25, -42.66], [-5.2, -39.53], [-22.19, -48.79], [-18.1, -44.38], [-30.17, -53.5], [-22.19, -48.79], [-22.25, -42.66], [-22.19, -48.79], [-18.1, -44.38], [-22.19, -48.79], [-18.1, -44.38], [-22.19, -48.79], [-13.29, -41.71], [-22.19, -48.79], [-22.25, -42.66], [-18.1, -44.38], [-22.25, -42.66], [-22.19, -48.79], [-22.19, -48.79], [-18.1, -44.38], [-22.19, -48.79], [-30.17, -53.5], [-22.19, -48.79], [-9.46, -48.26], [-24.89, -51.55], [-30.17, -53.5], [-22.25, -42.66], [-22.19, -48.79], [-22.19, -48.79], [-22.25, -42.66], [1.41, -51.77], [-18.1, -44.38], [-30.17, -53.5], [-15.98, -49.86], [-24.89, -51.55], [-18.1, -44.38], [-22.19, -48.79], [-30.17, -53.5], [-22.25, -42.66], [-22.19, -48.79], [-15.98, -49.86], [-22.19, -48.79], [-22.19, -48.79], [-18.1, -44.38], [-9.62, -36.82], [-22.19, -48.79], [-18.1, -44.38], [-22.19, -48.79], [-22.19, -48.79], [-22.25, -42.66], [-18.1, -44.38], [-30.17, -53.5], [-6.6, -42.28], [-22.19, -48.79], [-22.19, -48.79], [-18.1, -44.38], [-8.38, -37.86], [-30.17, -53.5], [-22.19, -48.79], [-22.19, -48.79], [-3.47, -65.1], [-22.25, -42.66], [-18.1, -44.38], [-22.19, -48.79], [-13.29, -41.71], [-22.19, -48.79], [-18.1, -44.38], [-18.1, -44.38], [-15.83, -47.86], [-5.81, -36.59], [-22.19, -48.79], [-18.1, -44.38], [-22.19, -48.79], [-22.19, -48.79], [-30.17, -53.5], [-22.19, -48.79], [-22.19, -48.79], [-3.47, -65.1], [-22.25, -42.66], [-15.98, -49.86], [-24.89, -51.55], [-22.19, -48.79], [-18.1, -44.38], [-18.1, -44.38], [-22.19, -48.79], [-18.1, -44.38], [-22.19, -48.79], [-22.19, -48.79], [-22.19, -48.79], [-22.25, -42.66], [-22.19, -48.79], [-3.79, -52.48], [-22.19, -48.79], [-22.19, -48.79], [-22.19, -48.79], [-22.19, -48.79], [-22.19, -48.79], [-22.19, -48.79], [-22.19, -48.79], [-22.19, -48.79], [-15.83, -47.86], [-9.46, -48.26], [-7.28, -36.72], [-22.19, -48.79], [-30.17, -53.5], [-22.19, -48.79], [-22.25, -42.66], [-22.25, -42.66], [-22.19, -48.79], [-22.19, -48.79], [-7.28, -36.72], [-8.38, -37.86], [-24.89, -51.55], [-18.1, -44.38], [-18.1, -44.38], [-22.19, -48.79], [-22.25, -42.66], [-15.83, -47.86], [-22.19, -48.79], [-8.38, -37.86], [-22.25, -42.66], [-22.25, -42.66], [-22.19, -48.79], [-22.19, -48.79], [-27.45, -50.95], [-22.19, -48.79], [-24.89, -51.55], [-19.19, -40.34], [-22.25, -42.66], [-30.17, -53.5], [-8.38, -37.86], [-27.45, -50.95], [-10.57, -37.45], [-22.25, -42.66], [-27.45, -50.95], [-22.19, -48.79], [-30.17, -53.5], [-22.25, -42.66], [-24.89, -51.55], [-24.89, -51.55], [-24.89, -51.55], [-22.19, -48.79], [-22.19, -48.79], [-13.29, -41.71], [-22.25, -42.66], [-22.19, -48.79], [-22.19, -48.79], [-22.19, -48.79], [-22.19, -48.79], [-15.83, -47.86], [-27.45, -50.95], [-22.25, -42.66], [-18.1, -44.38], [-18.1, -44.38], [-22.19, -48.79], [-5.2, -39.53], [-22.19, -48.79], [-24.89, -51.55], [-15.83, -47.86], [-22.25, -42.66], [-22.19, -48.79], [-22.19, -48.79], [-27.45, -50.95], [-22.19, -48.79], [-22.25, -42.66], [-22.19, -48.79], [-18.1, -44.38], [-22.19, -48.79], [-12.64, -55.42], [-27.45, -50.95], [-19.19, -40.34], [-22.19, -48.79], [-22.19, -48.79], [-15.98, -49.86], [-22.19, -48.79], [-18.1, -44.38], [-22.19, -48.79], [-22.19, -48.79], [-30.17, -53.5], [-22.19, -48.79], [-22.19, -48.79], [-22.19, -48.79], [-22.25, -42.66], [-8.38, -37.86], [-22.19, -48.79], [-22.19, -48.79], [-22.25, -42.66], [-18.1, -44.38], [-22.19, -48.79], [-22.19, -48.79], [-22.19, -48.79], [-22.19, -48.79], [-24.89, -51.55], [-22.25, -42.66], [-22.19, -48.79], [-22.19, -48.79], [-22.19, -48.79], [-22.19, -48.79], [-22.19, -48.79], [-22.19, -48.79], [-22.19, -48.79], [-22.19, -48.79], [-24.89, -51.55], [-22.19, -48.79], [-22.19, -48.79], [-22.19, -48.79], [-22.19, -48.79], [-13.29, -41.71], [-22.19, -48.79], [-5.2, -39.53], [-24.89, -51.55], [-22.25, -42.66], [-24.89, -51.55], [-22.19, -48.79], [-22.25, -42.66], [-9.62, -36.82], [-15.83, -47.86], [-15.83, -47.86], [-22.19, -48.79], [-22.19, -48.79], [-22.19, -48.79], [-24.89, -51.55], [-22.19, -48.79], [-22.19, -48.79], [-24.89, -51.55], [-18.1, -44.38], [-22.19, -48.79], [-24.89, -51.55], [-18.1, -44.38], [-22.25, -42.66], [-13.29, -41.71], [-22.19, -48.79], [-22.19, -48.79], [-22.19, -48.79], [-18.1, -44.38], [-22.19, -48.79], [-22.19, -48.79], [-18.1, -44.38], [-19.19, -40.34], [-24.89, -51.55], [-22.19, -48.79], [-22.19, -48.79], [-13.29, -41.71], [-22.19, -48.79], [-22.19, -48.79], [-18.1, -44.38], [-22.19, -48.79], [-22.19, -48.79], [-8.38, -37.86], [-22.19, -48.79], [-22.19, -48.79], [-22.19, -48.79], [-15.83, -47.86], [-22.19, -48.79], [-22.19, -48.79], [-22.19, -48.79], [-22.25, -42.66], [-22.19, -48.79], [-18.1, -44.38], [-20.51, -54.54], [-27.45, -50.95], [-15.83, -47.86], [-22.25, -42.66], [-18.1, -44.38], [-30.17, -53.5], [-22.19, -48.79], [-22.19, -48.79], [-22.25, -42.66], [-22.19, -48.79], [-3.79, -52.48], [-22.19, -48.79], [-22.19, -48.79], [-19.19, -40.34], [-22.19, -48.79], [-22.19, -48.79], [-30.17, -53.5], [-24.89, -51.55], [-8.38, -37.86], [-20.51, -54.54], [-30.17, -53.5], [-22.19, -48.79], [-15.98, -49.86], [-30.17, -53.5], [-22.19, -48.79], [-22.19, -48.79], [-22.25, -42.66], [-18.1, -44.38], [-22.25, -42.66], [-13.29, -41.71], [-22.19, -48.79], [-5.2, -39.53], [-22.19, -48.79], [-22.19, -48.79], [-22.19, -48.79], [-18.1, -44.38], [-15.98, -49.86], [-22.19, -48.79], [-22.19, -48.79], [-27.45, -50.95], [-22.25, -42.66], [-5.2, -39.53], [-22.19, -48.79], [-22.19, -48.79], [-10.57, -37.45], [-22.19, -48.79], [-22.19, -48.79], [-15.98, -49.86], [-10.83, -63.34], [-22.19, -48.79], [-8.38, -37.86], [-27.45, -50.95], [-24.89, -51.55], [-5.2, -39.53], [-22.19, -48.79], [-13.29, -41.71], [-30.17, -53.5], [-22.19, -48.79], [-22.19, -48.79], [-27.45, -50.95], [-22.25, -42.66], [-22.19, -48.79], [-18.1, -44.38], [-22.19, -48.79], [-6.6, -42.28], [-27.45, -50.95], [-22.25, -42.66], [-18.1, -44.38], [-22.19, -48.79], [-22.19, -48.79], [-22.19, -48.79], [-22.19, -48.79], [-13.29, -41.71], [-22.19, -48.79], [-22.19, -48.79], [-30.17, -53.5], [-18.1, -44.38], [-9.62, -36.82], [-15.83, -47.86], [-27.45, -50.95], [-13.29, -41.71], [-22.19, -48.79], [-22.19, -48.79], [-22.19, -48.79], [-22.19, -48.79], [-22.25, -42.66], [-22.19, -48.79], [-18.1, -44.38], [-30.17, -53.5], [-22.19, -48.79], [-22.25, -42.66], [-22.19, -48.79], [-22.19, -48.79], [-7.28, -36.72], [-24.89, -51.55], [-22.25, -42.66], [-27.45, -50.95], [-19.19, -40.34], [-30.17, -53.5], [-18.1, -44.38], [-22.19, -48.79], [-22.19, -48.79], [-22.19, -48.79], [-22.19, -48.79], [-22.19, -48.79], [-18.1, -44.38], [-24.89, -51.55], [-22.19, -48.79], [-30.17, -53.5], [-22.19, -48.79], [-5.2, -39.53], [-18.1, -44.38], [-22.19, -48.79], [-13.29, -41.71], [-22.19, -48.79], [-22.19, -48.79], [-18.1, -44.38], [-22.19, -48.79], [-22.19, -48.79], [-18.1, -44.38], [-22.25, -42.66], [-22.25, -42.66], [-22.19, -48.79], [-24.89, -51.55], [-9.62, -36.82], [-22.19, -48.79], [-22.19, -48.79], [-5.2, -39.53], [-22.19, -48.79], [-22.19, -48.79], [-15.83, -47.86], [-22.25, -42.66], [-15.83, -47.86], [-18.1, -44.38], [-30.17, -53.5], [-5.2, -39.53], [-24.89, -51.55], [-22.19, -48.79], [-22.19, -48.79], [-18.1, -44.38], [-18.1, -44.38], [-22.19, -48.79], [-22.19, -48.79], [-27.45, -50.95], [-22.25, -42.66], [-18.1, -44.38], [-22.19, -48.79], [-22.19, -48.79], [-22.25, -42.66], [-22.19, -48.79], [-3.79, -52.48], [-18.1, -44.38], [-18.1, -44.38], [-22.19, -48.79], [-22.19, -48.79], [-15.83, -47.86], [-15.98, -49.86], [-22.19, -48.79], [-18.1, -44.38], [-22.19, -48.79], [-22.19, -48.79], [-22.19, -48.79], [-22.25, -42.66], [-30.17, -53.5], [-22.19, -48.79], [-22.19, -48.79], [-22.19, -48.79], [-22.19, -48.79], [-8.38, -37.86], [-22.19, -48.79], [-30.17, -53.5], [-18.1, -44.38], [-9.46, -48.26], [-22.25, -42.66], [-30.17, -53.5], [-30.17, -53.5], [-18.1, -44.38], [-22.19, -48.79], [-30.17, -53.5], [-18.1, -44.38], [-22.25, -42.66], [-22.19, -48.79], [-22.25, -42.66], [-12.64, -55.42], [-22.19, -48.79], [-22.19, -48.79], [-22.19, -48.79], [-22.19, -48.79], [-18.1, -44.38], [-22.19, -48.79], [-22.19, -48.79], [-22.19, -48.79], [-22.19, -48.79], [-24.89, -51.55], [-30.17, -53.5], [-24.89, -51.55], [-22.25, -42.66], [-30.17, -53.5], [-22.19, -48.79], [-30.17, -53.5], [-10.57, -37.45], [-22.19, -48.79], [-24.89, -51.55], [-15.83, -47.86], [-22.25, -42.66], [-22.25, -42.66], [-22.25, -42.66], [-22.19, -48.79], [-22.19, -48.79], [-22.19, -48.79], [-22.19, -48.79], [-24.89, -51.55], [-22.25, -42.66], [-22.19, -48.79], [-30.17, -53.5], [-22.19, -48.79], [-18.1, -44.38], [-18.1, -44.38], [-18.1, -44.38], [-22.19, -48.79], [-22.19, -48.79], [-22.19, -48.79], [-13.29, -41.71], [-15.83, -47.86], [-22.19, -48.79], [-22.19, -48.79], [-24.89, -51.55], [-22.19, -48.79], [-22.25, -42.66], [-22.25, -42.66], [-22.25, -42.66], [-18.1, -44.38], [-22.19, -48.79], [-12.64, -55.42], [-13.29, -41.71], [-18.1, -44.38], [-27.45, -50.95], [-27.45, -50.95], [-22.19, -48.79], [-8.38, -37.86], [-22.19, -48.79], [-30.17, -53.5], [-22.19, -48.79], [-18.1, -44.38], [-22.19, -48.79], [-22.19, -48.79], [-24.89, -51.55], [-18.1, -44.38], [-22.19, -48.79], [-19.19, -40.34], [-22.19, -48.79], [-15.98, -49.86], [-7.28, -36.72], [-22.19, -48.79], [-22.19, -48.79], [-13.29, -41.71], [-9.62, -36.82], [-18.1, -44.38], [-22.19, -48.79], [-22.19, -48.79], [-13.29, -41.71], [-10.57, -37.45], [-15.98, -49.86], [-30.17, -53.5], [-22.19, -48.79], [-22.25, -42.66], [-15.83, -47.86], [-22.19, -48.79], [-22.25, -42.66], [-22.19, -48.79], [-22.19, -48.79], [-18.1, -44.38], [-22.19, -48.79], [-18.1, -44.38], [-10.83, -63.34], [-22.19, -48.79], [-24.89, -51.55], [-18.1, -44.38], [-22.19, -48.79], [-22.19, -48.79], [-18.1, -44.38], [-22.19, -48.79], [-15.98, -49.86], [-22.19, -48.79], [-3.79, -52.48], [-8.38, -37.86], [-22.25, -42.66], [-22.25, -42.66], [-22.25, -42.66], [-5.81, -36.59], [-22.19, -48.79], [-22.25, -42.66], [-6.6, -42.28], [-9.62, -36.82], [-10.57, -37.45], [-22.25, -42.66], [-22.19, -48.79], [-22.19, -48.79], [-30.17, -53.5], [-7.28, -36.72], [-18.1, -44.38], [-13.29, -41.71], [-27.45, -50.95], [-22.19, -48.79], [-15.98, -49.86], [-22.19, -48.79], [-22.19, -48.79], [-22.25, -42.66], [-22.25, -42.66], [-22.25, -42.66], [-22.25, -42.66], [-22.19, -48.79], [-22.19, -48.79], [-22.19, -48.79], [-22.25, -42.66], [-22.19, -48.79], [-22.25, -42.66], [-18.1, -44.38], [-18.1, -44.38], [-9.62, -36.82], [-15.83, -47.86], [-22.19, -48.79], [-18.1, -44.38], [-22.25, -42.66], [-30.17, -53.5], [-22.19, -48.79], [-22.25, -42.66], [-22.19, -48.79], [-22.19, -48.79], [-18.1, -44.38], [-18.1, -44.38], [-22.25, -42.66], [-22.19, -48.79], [-18.1, -44.38], [-22.19, -48.79], [-27.45, -50.95], [-13.29, -41.71], [-22.19, -48.79], [-22.25, -42.66], [-22.19, -48.79], [-22.25, -42.66], [-24.89, -51.55], [-18.1, -44.38], [-22.19, -48.79], [-27.45, -50.95], [-19.19, -40.34], [-13.29, -41.71], [-22.19, -48.79], [-22.19, -48.79], [-15.83, -47.86], [-22.19, -48.79], [-22.19, -48.79], [-30.17, -53.5], [-27.45, -50.95], [-22.19, -48.79], [-13.29, -41.71], [-22.19, -48.79], [-24.89, -51.55], [-22.19, -48.79], [-22.19, -48.79], [-30.17, -53.5], [-22.19, -48.79], [-22.19, -48.79], [-7.28, -36.72], [-12.64, -55.42], [-20.51, -54.54], [-22.19, -48.79], [-20.51, -54.54], [-22.19, -48.79], [-13.29, -41.71], [-22.19, -48.79], [-30.17, -53.5], [-22.19, -48.79], [-30.17, -53.5], [-22.19, -48.79], [-19.19, -40.34], [-22.19, -48.79], [-18.1, -44.38], [-18.1, -44.38], [-22.25, -42.66], [-15.98, -49.86], [-22.19, -48.79], [-22.19, -48.79], [-22.19, -48.79], [-22.19, -48.79], [-22.25, -42.66], [-15.98, -49.86], [-22.25, -42.66], [-22.19, -48.79], [-22.19, -48.79], [-18.1, -44.38], [-18.1, -44.38], [-30.17, -53.5], [-22.19, -48.79], [-18.1, -44.38], [-18.1, -44.38], [-30.17, -53.5], [-22.19, -48.79], [-22.25, -42.66], [-30.17, -53.5], [-18.1, -44.38], [-22.19, -48.79], [-18.1, -44.38], [-27.45, -50.95], [-22.19, -48.79], [-13.29, -41.71], [-15.98, -49.86], [-18.1, -44.38], [-22.19, -48.79], [-10.57, -37.45], [-22.19, -48.79], [-18.1, -44.38], [-15.83, -47.86], [-22.19, -48.79], [-22.25, -42.66], [-22.19, -48.79], [-22.19, -48.79], [-22.19, -48.79], [-18.1, -44.38], [-24.89, -51.55], [-30.17, -53.5], [-22.19, -48.79], [-22.19, -48.79], [-19.19, -40.34], [-22.19, -48.79], [-22.19, -48.79], [-22.19, -48.79], [-8.38, -37.86], [-30.17, -53.5], [-22.19, -48.79], [-30.17, -53.5], [-22.19, -48.79], [-18.1, -44.38], [-22.19, -48.79], [-22.19, -48.79], [-22.19, -48.79], [-15.98, -49.86], [-22.19, -48.79], [-22.19, -48.79], [-22.19, -48.79], [-22.19, -48.79], [-18.1, -44.38], [-27.45, -50.95], [-20.51, -54.54], [-22.19, -48.79], [-24.89, -51.55], [-30.17, -53.5], [-22.19, -48.79], [-22.25, -42.66], [-22.19, -48.79], [-18.1, -44.38], [-22.19, -48.79], [-22.25, -42.66], [-18.1, -44.38], [-22.19, -48.79], [-22.19, -48.79], [-18.1, -44.38], [-22.19, -48.79], [-15.83, -47.86], [-18.1, -44.38], [-7.28, -36.72], [-15.83, -47.86], [-22.19, -48.79], [-22.19, -48.79], [-18.1, -44.38], [-13.29, -41.71], [-22.19, -48.79], [-22.19, -48.79], [-27.45, -50.95], [-13.29, -41.71], [-22.19, -48.79], [-22.19, -48.79], [-22.25, -42.66], [-30.17, -53.5], [-22.19, -48.79], [-22.25, -42.66], [-22.19, -48.79], [-22.19, -48.79], [-22.25, -42.66], [-27.45, -50.95], [-8.38, -37.86], [-27.45, -50.95], [-22.25, -42.66], [-22.19, -48.79], [-18.1, -44.38], [-18.1, -44.38], [-24.89, -51.55], [-22.25, -42.66], [-22.19, -48.79], [-22.19, -48.79], [-22.19, -48.79], [-22.25, -42.66], [-18.1, -44.38], [-30.17, -53.5], [-22.25, -42.66], [-18.1, -44.38], [-22.19, -48.79], [-22.19, -48.79], [-22.19, -48.79], [-22.19, -48.79], [-30.17, -53.5], [-18.1, -44.38], [-24.89, -51.55], [-5.42, -45.44], [-18.1, -44.38], [-22.19, -48.79], [-10.57, -37.45], [-30.17, -53.5], [-20.51, -54.54], [-22.19, -48.79], [-24.89, -51.55], [-5.2, -39.53], [-18.1, -44.38], [-22.19, -48.79], [-22.19, -48.79], [-24.89, -51.55], [-13.29, -41.71], [-18.1, -44.38], [-15.98, -49.86], [-22.25, -42.66], [-22.19, -48.79], [-12.64, -55.42], [-22.19, -48.79], [-22.25, -42.66], [-22.25, -42.66], [-30.17, -53.5], [-22.19, -48.79], [-18.1, -44.38], [-22.19, -48.79], [-22.19, -48.79], [-22.19, -48.79], [-15.83, -47.86], [-22.25, -42.66], [-18.1, -44.38], [-27.45, -50.95], [-22.19, -48.79], [-24.89, -51.55], [-22.19, -48.79], [-22.19, -48.79], [-22.19, -48.79], [-22.25, -42.66], [-22.19, -48.79], [-22.25, -42.66], [-24.89, -51.55], [-22.25, -42.66], [-22.19, -48.79], [-24.89, -51.55], [-22.25, -42.66], [-22.19, -48.79], [-22.25, -42.66], [-15.83, -47.86], [-22.19, -48.79], [-22.19, -48.79], [-15.98, -49.86], [-22.25, -42.66], [-22.19, -48.79], [-22.19, -48.79], [-22.19, -48.79], [-24.89, -51.55], [-22.25, -42.66], [-22.19, -48.79], [-22.19, -48.79], [-22.19, -48.79], [-24.89, -51.55], [-22.19, -48.79], [-22.19, -48.79], [-30.17, -53.5], [-19.19, -40.34], [-15.83, -47.86], [-22.19, -48.79], [-27.45, -50.95], [-22.19, -48.79], [-22.19, -48.79], [-22.19, -48.79], [-22.25, -42.66], [-22.25, -42.66], [-22.19, -48.79], [-27.45, -50.95], [-22.19, -48.79], [-22.19, -48.79], [-13.29, -41.71], [-30.17, -53.5], [-24.89, -51.55], [-22.19, -48.79], [-15.83, -47.86], [-18.1, -44.38], [-19.19, -40.34], [-22.19, -48.79], [-24.89, -51.55], [-15.83, -47.86], [-18.1, -44.38], [-22.19, -48.79], [-30.17, -53.5], [-12.64, -55.42], [-27.45, -50.95], [-7.28, -36.72], [-22.19, -48.79], [-30.17, -53.5], [-22.19, -48.79], [-22.19, -48.79], [-27.45, -50.95], [-22.19, -48.79], [-9.46, -48.26], [-22.19, -48.79], [-22.19, -48.79], [-22.19, -48.79], [-22.19, -48.79], [-18.1, -44.38], [-22.19, -48.79], [-30.17, -53.5], [-22.25, -42.66], [1.41, -51.77], [-30.17, -53.5], [-22.25, -42.66], [-13.29, -41.71], [-22.25, -42.66], [-22.19, -48.79], [-22.19, -48.79], [-8.38, -37.86], [-3.79, -52.48], [-13.29, -41.71], [-27.45, -50.95], [-22.25, -42.66], [-22.19, -48.79], [-5.42, -45.44], [-22.19, -48.79], [-5.2, -39.53], [-22.25, -42.66], [-22.19, -48.79], [-22.19, -48.79], [-22.19, -48.79], [-15.98, -49.86], [-27.45, -50.95], [-18.1, -44.38], [-22.19, -48.79], [-30.17, -53.5], [-22.19, -48.79], [-22.19, -48.79], [-24.89, -51.55], [-22.19, -48.79], [-22.19, -48.79], [-30.17, -53.5], [-22.19, -48.79], [-22.19, -48.79], [-22.19, -48.79], [-22.19, -48.79], [-22.19, -48.79], [-22.19, -48.79], [-22.19, -48.79], [-22.25, -42.66], [-18.1, -44.38], [-22.19, -48.79], [-22.19, -48.79], [-24.89, -51.55], [-22.19, -48.79], [-18.1, -44.38], [-22.19, -48.79], [-24.89, -51.55], [-22.19, -48.79], [-8.38, -37.86], [-22.19, -48.79], [-22.19, -48.79], [-22.25, -42.66], [-27.45, -50.95], [-22.19, -48.79], [-22.19, -48.79], [-22.19, -48.79], [-22.19, -48.79], [-30.17, -53.5], [-27.45, -50.95], [-22.25, -42.66], [-18.1, -44.38], [-22.19, -48.79], [-22.19, -48.79], [-22.25, -42.66], [-22.19, -48.79], [-22.25, -42.66], [-27.45, -50.95], [-22.19, -48.79], [-22.19, -48.79], [-15.98, -49.86], [-18.1, -44.38], [-9.46, -48.26], [-30.17, -53.5], [-22.19, -48.79], [-22.25, -42.66], [-22.19, -48.79], [-22.25, -42.66], [-22.19, -48.79], [-22.19, -48.79], [-22.25, -42.66], [-20.51, -54.54], [-22.25, -42.66], [-22.19, -48.79], [-22.25, -42.66], [-5.2, -39.53], [-24.89, -51.55], [-18.1, -44.38], [-18.1, -44.38], [-18.1, -44.38], [-10.57, -37.45], [-22.25, -42.66], [-13.29, -41.71], [-30.17, -53.5], [-13.29, -41.71], [-22.19, -48.79], [-22.19, -48.79], [-22.19, -48.79], [-18.1, -44.38], [-13.29, -41.71], [-22.19, -48.79], [-8.38, -37.86], [-22.19, -48.79], [-22.19, -48.79], [-22.19, -48.79], [-22.25, -42.66], [-19.19, -40.34], [-5.42, -45.44], [-22.19, -48.79], [-22.19, -48.79], [-22.19, -48.79], [-22.19, -48.79], [-13.29, -41.71], [-22.25, -42.66], [-9.62, -36.82], [-22.19, -48.79], [-22.19, -48.79], [-22.19, -48.79], [-19.19, -40.34], [-22.19, -48.79], [-22.25, -42.66], [-18.1, -44.38], [-22.19, -48.79], [-15.83, -47.86], [-22.19, -48.79], [-18.1, -44.38], [-22.19, -48.79], [-22.25, -42.66], [-22.19, -48.79], [-20.51, -54.54], [-24.89, -51.55], [-22.25, -42.66], [-22.19, -48.79], [-22.19, -48.79], [-30.17, -53.5], [-24.89, -51.55], [-22.19, -48.79], [-22.19, -48.79], [-22.19, -48.79], [-22.25, -42.66], [-15.98, -49.86], [-30.17, -53.5], [-15.98, -49.86], [-22.19, -48.79], [-22.25, -42.66], [-22.19, -48.79], [-22.19, -48.79], [-22.25, -42.66], [-22.19, -48.79], [-15.83, -47.86], [-22.19, -48.79], [-19.19, -40.34], [-22.25, -42.66], [-22.19, -48.79], [-3.79, -52.48], [-22.25, -42.66], [-24.89, -51.55], [-5.42, -45.44], [-3.79, -52.48], [-30.17, -53.5], [-18.1, -44.38], [-19.19, -40.34], [-19.19, -40.34], [-22.19, -48.79], [-22.19, -48.79], [-13.29, -41.71], [-13.29, -41.71], [-22.19, -48.79], [-24.89, -51.55], [-22.19, -48.79], [-15.83, -47.86], [-22.19, -48.79], [-22.19, -48.79], [-22.19, -48.79], [-24.89, -51.55], [-22.25, -42.66], [-13.29, -41.71], [-30.17, -53.5], [-22.19, -48.79], [-22.19, -48.79], [-22.19, -48.79], [-22.19, -48.79], [-22.25, -42.66], [-24.89, -51.55], [-27.45, -50.95], [-18.1, -44.38], [-19.19, -40.34], [-22.25, -42.66], [-30.17, -53.5], [-22.19, -48.79], [-22.19, -48.79], [-22.19, -48.79], [-22.19, -48.79], [-30.17, -53.5], [-18.1, -44.38], [-22.19, -48.79], [-22.25, -42.66], [-24.89, -51.55], [-18.1, -44.38], [-22.19, -48.79], [-18.1, -44.38], [-18.1, -44.38], [-30.17, -53.5], [-22.25, -42.66], [-22.19, -48.79], [-22.19, -48.79], [-22.19, -48.79], [-10.83, -63.34], [-22.19, -48.79], [-22.19, -48.79], [-22.19, -48.79], [-22.19, -48.79], [-22.19, -48.79], [-22.19, -48.79], [-13.29, -41.71], [-24.89, -51.55], [-15.98, -49.86], [-22.25, -42.66], [-18.1, -44.38], [-22.19, -48.79], [-18.1, -44.38], [-22.19, -48.79], [-22.19, -48.79], [-22.19, -48.79], [-22.19, -48.79], [-22.25, -42.66], [-22.25, -42.66], [-22.19, -48.79], [-27.45, -50.95], [-22.25, -42.66], [-12.64, -55.42], [-27.45, -50.95], [-22.19, -48.79], [-22.25, -42.66], [-30.17, -53.5], [-18.1, -44.38], [1.41, -51.77], [-22.19, -48.79], [-22.19, -48.79], [-22.25, -42.66], [-22.19, -48.79], [-30.17, -53.5], [-22.25, -42.66], [-18.1, -44.38], [-22.19, -48.79], [-22.19, -48.79], [-22.19, -48.79], [-18.1, -44.38], [-22.25, -42.66], [-22.25, -42.66], [-5.2, -39.53], [-20.51, -54.54], [-15.98, -49.86], [-30.17, -53.5], [-24.89, -51.55], [-22.19, -48.79], [-18.1, -44.38], [-22.19, -48.79], [-30.17, -53.5], [-22.19, -48.79], [-22.19, -48.79], [-22.19, -48.79], [-22.19, -48.79], [-8.38, -37.86], [-22.19, -48.79], [-13.29, -41.71], [-22.25, -42.66], [-22.19, -48.79], [-9.46, -48.26], [-15.83, -47.86], [-9.46, -48.26], [-22.25, -42.66], [-22.19, -48.79], [-18.1, -44.38], [-18.1, -44.38], [-8.38, -37.86], [-22.25, -42.66], [-22.19, -48.79], [-22.19, -48.79], [-27.45, -50.95], [-24.89, -51.55], [-22.19, -48.79], [-22.19, -48.79], [-22.25, -42.66], [-22.25, -42.66], [-5.81, -36.59], [-18.1, -44.38], [-22.19, -48.79], [-22.25, -42.66], [-22.19, -48.79], [-22.19, -48.79], [-18.1, -44.38], [-13.29, -41.71], [-18.1, -44.38], [-20.51, -54.54], [-24.89, -51.55], [-27.45, -50.95], [-22.19, -48.79], [-22.19, -48.79], [-27.45, -50.95], [-22.25, -42.66], [-30.17, -53.5], [-22.19, -48.79], [-7.28, -36.72], [-10.57, -37.45], [-22.25, -42.66], [-22.19, -48.79], [-22.19, -48.79], [-18.1, -44.38], [-22.25, -42.66], [-13.29, -41.71], [-24.89, -51.55], [-22.19, -48.79], [-22.25, -42.66], [-22.19, -48.79], [-18.1, -44.38], [-18.1, -44.38], [-27.45, -50.95], [-27.45, -50.95], [-24.89, -51.55], [-30.17, -53.5], [-22.19, -48.79], [-27.45, -50.95], [-22.19, -48.79], [-22.19, -48.79], [-5.2, -39.53], [-22.25, -42.66], [-22.19, -48.79], [-30.17, -53.5], [-22.19, -48.79], [-30.17, -53.5], [-22.19, -48.79], [-22.19, -48.79], [-27.45, -50.95], [-27.45, -50.95], [-9.62, -36.82], [-27.45, -50.95], [-22.25, -42.66], [-22.25, -42.66], [-24.89, -51.55], [-18.1, -44.38], [-22.19, -48.79], [-22.19, -48.79], [-24.89, -51.55], [-15.98, -49.86], [-22.19, -48.79], [-22.25, -42.66], [-22.19, -48.79], [-22.19, -48.79], [-22.19, -48.79], [-15.98, -49.86], [-19.19, -40.34], [-22.19, -48.79], [-22.19, -48.79], [-22.25, -42.66], [-22.19, -48.79], [-8.38, -37.86], [-22.25, -42.66], [-22.19, -48.79], [-24.89, -51.55], [-22.19, -48.79], [-18.1, -44.38], [-13.29, -41.71], [-24.89, -51.55], [-22.19, -48.79], [-22.19, -48.79], [-22.19, -48.79], [-5.42, -45.44], [-3.79, -52.48], [-22.19, -48.79], [-22.25, -42.66], [-24.89, -51.55], [-19.19, -40.34], [-22.25, -42.66], [-22.19, -48.79], [-30.17, -53.5], [-5.2, -39.53], [-22.19, -48.79], [-22.25, -42.66], [-22.19, -48.79], [-22.25, -42.66], [-18.1, -44.38], [-22.19, -48.79], [-13.29, -41.71], [-22.19, -48.79], [-22.19, -48.79], [-24.89, -51.55], [-22.25, -42.66], [-22.19, -48.79], [-15.83, -47.86], [-22.19, -48.79], [-22.19, -48.79], [-22.19, -48.79], [-15.83, -47.86], [-22.19, -48.79], [-24.89, -51.55], [-22.19, -48.79], [-22.19, -48.79], [-18.1, -44.38], [-22.25, -42.66], [-22.25, -42.66], [-15.98, -49.86], [-24.89, -51.55], [-27.45, -50.95], [-24.89, -51.55], [-22.19, -48.79], [-5.81, -36.59], [-22.19, -48.79], [-22.19, -48.79], [-30.17, -53.5], [-18.1, -44.38], [-22.19, -48.79], [-22.19, -48.79], [-22.19, -48.79], [-22.19, -48.79], [-22.25, -42.66], [-22.25, -42.66], [-27.45, -50.95], [-5.42, -45.44], [-22.19, -48.79], [-30.17, -53.5], [-22.19, -48.79], [-24.89, -51.55], [-30.17, -53.5], [-5.2, -39.53], [-30.17, -53.5], [-22.19, -48.79], [-18.1, -44.38], [-24.89, -51.55], [-22.19, -48.79], [-5.42, -45.44], [-22.19, -48.79], [-22.25, -42.66], [-24.89, -51.55], [-22.19, -48.79], [-22.19, -48.79], [-22.19, -48.79], [-22.19, -48.79], [-22.19, -48.79], [-22.19, -48.79], [-22.19, -48.79], [-18.1, -44.38], [-18.1, -44.38], [-19.19, -40.34], [-27.45, -50.95], [-22.19, -48.79], [-22.19, -48.79], [-18.1, -44.38], [-24.89, -51.55], [-18.1, -44.38], [-22.19, -48.79], [-5.2, -39.53], [-22.19, -48.79], [-22.19, -48.79], [-22.19, -48.79], [-5.2, -39.53], [-22.19, -48.79], [-15.83, -47.86], [-8.38, -37.86], [-24.89, -51.55], [-22.19, -48.79], [-22.19, -48.79], [-24.89, -51.55], [-22.19, -48.79], [-15.98, -49.86], [-30.17, -53.5], [-15.98, -49.86], [-30.17, -53.5], [-22.19, -48.79], [-18.1, -44.38], [-22.19, -48.79], [-22.19, -48.79], [-22.19, -48.79], [-18.1, -44.38], [-24.89, -51.55], [-22.25, -42.66], [-27.45, -50.95], [-18.1, -44.38], [-22.25, -42.66], [-24.89, -51.55], [-13.29, -41.71], [-22.19, -48.79], [-22.19, -48.79], [-22.25, -42.66], [-30.17, -53.5], [-22.19, -48.79], [-22.19, -48.79], [-18.1, -44.38], [-30.17, -53.5], [-18.1, -44.38], [-22.19, -48.79], [-22.19, -48.79], [-22.19, -48.79], [-22.19, -48.79], [-22.25, -42.66], [-19.19, -40.34], [-3.79, -52.48], [-24.89, -51.55], [-22.19, -48.79], [-22.19, -48.79], [-22.25, -42.66], [-13.29, -41.71], [-30.17, -53.5], [-22.19, -48.79], [-13.29, -41.71], [-22.19, -48.79], [-22.25, -42.66], [-18.1, -44.38], [-12.64, -55.42], [-18.1, -44.38], [-18.1, -44.38], [-22.25, -42.66], [-22.25, -42.66], [-22.25, -42.66], [-18.1, -44.38], [-22.19, -48.79], [-22.19, -48.79], [-22.19, -48.79], [-22.19, -48.79], [-22.19, -48.79], [-24.89, -51.55], [-30.17, -53.5], [-12.64, -55.42], [-24.89, -51.55], [-18.1, -44.38], [-22.19, -48.79], [-22.19, -48.79], [-22.19, -48.79], [-15.98, -49.86], [-19.19, -40.34], [-22.19, -48.79], [-22.19, -48.79], [-22.19, -48.79], [-22.19, -48.79], [-30.17, -53.5], [-13.29, -41.71], [-22.19, -48.79], [-22.19, -48.79], [-24.89, -51.55], [-15.83, -47.86], [-22.19, -48.79], [-22.19, -48.79], [-30.17, -53.5], [-22.25, -42.66], [-18.1, -44.38], [-22.19, -48.79], [-18.1, -44.38], [-18.1, -44.38], [-22.19, -48.79], [-30.17, -53.5], [-30.17, -53.5], [-22.19, -48.79], [-22.19, -48.79], [-22.19, -48.79], [-22.25, -42.66], [-22.19, -48.79], [-27.45, -50.95], [-22.25, -42.66], [-30.17, -53.5], [-22.19, -48.79], [-22.25, -42.66], [-22.19, -48.79], [-22.19, -48.79], [-22.19, -48.79], [-30.17, -53.5], [-18.1, -44.38], [-15.83, -47.86], [-22.19, -48.79], [-18.1, -44.38], [-24.89, -51.55], [-22.19, -48.79], [-13.29, -41.71], [-22.19, -48.79], [-15.98, -49.86], [-27.45, -50.95], [-22.19, -48.79], [-22.19, -48.79], [-22.19, -48.79], [-22.19, -48.79], [-22.19, -48.79], [-22.19, -48.79], [-22.19, -48.79], [-24.89, -51.55], [-22.19, -48.79], [-30.17, -53.5], [-22.19, -48.79], [-22.19, -48.79], [-19.19, -40.34], [-20.51, -54.54], [-3.79, -52.48], [-22.25, -42.66], [-18.1, -44.38], [-22.19, -48.79], [-18.1, -44.38], [-22.19, -48.79], [-22.19, -48.79], [-18.1, -44.38], [-9.62, -36.82], [-22.19, -48.79], [-19.19, -40.34], [-22.25, -42.66], [-22.19, -48.79], [-22.19, -48.79], [-22.19, -48.79], [-22.19, -48.79], [-30.17, -53.5], [-9.62, -36.82], [-19.19, -40.34], [-22.19, -48.79], [-13.29, -41.71], [-22.19, -48.79], [-19.19, -40.34], [-18.1, -44.38], [-22.25, -42.66], [-15.83, -47.86], [-22.19, -48.79], [-30.17, -53.5], [-12.64, -55.42], [-22.19, -48.79], [-22.25, -42.66], [-22.19, -48.79], [-18.1, -44.38], [-9.46, -48.26], [-22.19, -48.79], [-22.19, -48.79], [-22.19, -48.79], [-22.19, -48.79], [-22.19, -48.79], [-8.38, -37.86], [-30.17, -53.5], [-22.19, -48.79], [-22.19, -48.79], [-22.25, -42.66], [-22.25, -42.66], [-22.19, -48.79], [-22.19, -48.79], [-18.1, -44.38], [1.41, -51.77], [-22.19, -48.79], [-18.1, -44.38], [-22.19, -48.79], [-15.98, -49.86], [-22.19, -48.79], [-12.64, -55.42], [-19.19, -40.34], [-22.19, -48.79], [-18.1, -44.38], [-22.19, -48.79], [-22.19, -48.79], [-22.25, -42.66], [-27.45, -50.95], [-22.19, -48.79], [-15.83, -47.86], [-30.17, -53.5], [-22.25, -42.66], [-22.25, -42.66], [-22.25, -42.66], [-18.1, -44.38], [-22.19, -48.79], [-22.19, -48.79], [-22.19, -48.79], [-18.1, -44.38], [-18.1, -44.38], [-18.1, -44.38], [-15.83, -47.86], [-22.19, -48.79], [-8.38, -37.86], [-22.19, -48.79], [-30.17, -53.5], [-22.19, -48.79], [-22.19, -48.79], [-27.45, -50.95], [-18.1, -44.38], [-22.25, -42.66], [-5.2, -39.53], [-9.62, -36.82], [-22.19, -48.79], [-18.1, -44.38], [-22.25, -42.66], [-22.19, -48.79], [-18.1, -44.38], [-22.25, -42.66], [-27.45, -50.95], [-22.19, -48.79], [-27.45, -50.95], [-22.19, -48.79], [-22.19, -48.79], [-27.45, -50.95], [-22.19, -48.79], [-18.1, -44.38], [-22.19, -48.79], [-22.19, -48.79], [-19.19, -40.34], [-22.19, -48.79], [-22.19, -48.79], [-13.29, -41.71], [-24.89, -51.55], [-30.17, -53.5], [-22.19, -48.79], [-22.19, -48.79], [-22.19, -48.79], [-27.45, -50.95], [-22.25, -42.66], [-22.25, -42.66], [-22.19, -48.79], [-22.19, -48.79], [-30.17, -53.5], [-22.19, -48.79], [-22.19, -48.79], [-22.19, -48.79], [-18.1, -44.38], [-9.62, -36.82], [-18.1, -44.38], [-22.19, -48.79], [-24.89, -51.55], [-12.64, -55.42], [-22.25, -42.66], [-22.19, -48.79], [-18.1, -44.38], [-22.19, -48.79], [-8.38, -37.86], [-18.1, -44.38], [-22.19, -48.79], [-24.89, -51.55], [-22.19, -48.79], [-27.45, -50.95], [-15.83, -47.86], [-22.19, -48.79], [-27.45, -50.95], [-22.25, -42.66], [-8.77, -70.55], [-22.19, -48.79], [-22.19, -48.79], [-30.17, -53.5], [-22.25, -42.66], [-22.19, -48.79], [-24.89, -51.55], [-22.25, -42.66], [-22.25, -42.66], [-22.19, -48.79], [-22.19, -48.79], [-5.42, -45.44], [-22.25, -42.66], [-8.38, -37.86], [-22.19, -48.79], [-22.19, -48.79], [-22.19, -48.79], [-27.45, -50.95], [-22.25, -42.66], [-22.19, -48.79], [-22.25, -42.66], [-27.45, -50.95], [-18.1, -44.38], [-15.98, -49.86], [-15.83, -47.86], [-22.19, -48.79], [-22.25, -42.66], [-18.1, -44.38], [-22.25, -42.66], [-22.19, -48.79], [-22.19, -48.79], [-22.19, -48.79], [-22.19, -48.79], [-15.98, -49.86], [-22.19, -48.79], [-22.19, -48.79], [-22.19, -48.79], [-22.19, -48.79], [-24.89, -51.55], [-30.17, -53.5], [-24.89, -51.55], [-22.19, -48.79], [-18.1, -44.38], [-22.25, -42.66], [-22.19, -48.79], [-22.25, -42.66], [-15.98, -49.86], [-22.19, -48.79], [-18.1, -44.38], [-22.19, -48.79], [-27.45, -50.95], [-22.19, -48.79], [-15.83, -47.86], [-22.19, -48.79], [-22.25, -42.66], [-22.19, -48.79], [-22.19, -48.79], [-22.19, -48.79], [-22.19, -48.79], [-22.19, -48.79], [-22.19, -48.79], [-12.64, -55.42], [-18.1, -44.38], [-22.25, -42.66], [-22.19, -48.79], [-22.19, -48.79], [-22.19, -48.79], [-22.19, -48.79], [-18.1, -44.38], [-30.17, -53.5], [-7.28, -36.72], [-22.25, -42.66], [-19.19, -40.34], [-22.25, -42.66], [-22.19, -48.79], [-22.19, -48.79], [-15.98, -49.86], [-13.29, -41.71], [-22.19, -48.79], [-5.2, -39.53], [-5.2, -39.53], [-8.38, -37.86], [-15.98, -49.86], [-27.45, -50.95], [-22.19, -48.79], [-30.17, -53.5], [-22.19, -48.79], [-22.19, -48.79], [-22.19, -48.79], [-22.19, -48.79], [-18.1, -44.38], [-30.17, -53.5], [-22.19, -48.79], [-22.19, -48.79], [-22.19, -48.79], [-22.25, -42.66], [-22.19, -48.79], [-22.19, -48.79], [-22.19, -48.79], [-22.19, -48.79], [-30.17, -53.5], [-22.25, -42.66], [-27.45, -50.95], [-22.25, -42.66], [-22.19, -48.79], [-22.25, -42.66], [-3.79, -52.48], [-18.1, -44.38], [-27.45, -50.95], [-30.17, -53.5], [-24.89, -51.55], [-12.64, -55.42], [-18.1, -44.38], [-10.57, -37.45], [-22.25, -42.66], [-22.19, -48.79], [-22.19, -48.79], [-22.19, -48.79], [-22.25, -42.66], [-24.89, -51.55], [-3.79, -52.48], [-18.1, -44.38], [-27.45, -50.95], [-22.19, -48.79], [-30.17, -53.5], [-22.19, -48.79], [-22.19, -48.79], [-24.89, -51.55], [-22.19, -48.79], [-8.38, -37.86], [-18.1, -44.38], [-22.25, -42.66], [-22.19, -48.79], [-24.89, -51.55], [-22.19, -48.79], [-22.19, -48.79], [-12.64, -55.42], [-18.1, -44.38], [-13.29, -41.71], [-22.19, -48.79], [-22.19, -48.79], [-22.19, -48.79], [-22.19, -48.79], [-22.25, -42.66], [-22.19, -48.79], [-22.25, -42.66], [-30.17, -53.5], [-24.89, -51.55], [-18.1, -44.38], [-15.98, -49.86], [-22.25, -42.66], [-22.19, -48.79], [-13.29, -41.71], [-22.19, -48.79], [-18.1, -44.38], [-22.19, -48.79], [-22.19, -48.79], [-22.19, -48.79], [-22.19, -48.79], [-27.45, -50.95], [-15.98, -49.86], [-18.1, -44.38], [-3.79, -52.48], [-24.89, -51.55], [-30.17, -53.5], [-22.19, -48.79], [-22.19, -48.79], [-24.89, -51.55], [-22.19, -48.79], [-22.19, -48.79], [-22.19, -48.79], [-22.19, -48.79], [-22.19, -48.79], [-15.98, -49.86], [-22.19, -48.79], [-22.19, -48.79], [-22.25, -42.66], [-22.19, -48.79], [-5.2, -39.53], [-22.19, -48.79], [-27.45, -50.95], [-22.19, -48.79], [-22.19, -48.79], [-20.51, -54.54], [-30.17, -53.5], [-22.19, -48.79], [-22.19, -48.79], [-22.19, -48.79], [-10.83, -63.34], [-13.29, -41.71], [-22.19, -48.79], [-30.17, -53.5], [-30.17, -53.5], [-22.19, -48.79], [-22.19, -48.79], [-22.19, -48.79], [-27.45, -50.95], [-18.1, -44.38], [-18.1, -44.38], [-22.19, -48.79], [-22.19, -48.79], [-22.19, -48.79], [-22.19, -48.79], [-22.19, -48.79], [-27.45, -50.95], [-8.38, -37.86], [-22.19, -48.79], [-18.1, -44.38], [-22.25, -42.66], [-22.19, -48.79], [-22.19, -48.79], [-19.19, -40.34], [-13.29, -41.71], [-27.45, -50.95], [-22.19, -48.79], [-22.19, -48.79], [-5.2, -39.53], [-13.29, -41.71], [-30.17, -53.5], [-22.19, -48.79], [-15.98, -49.86], [-22.19, -48.79], [-3.79, -52.48], [-22.19, -48.79], [-30.17, -53.5], [-13.29, -41.71], [-22.25, -42.66], [-27.45, -50.95], [-30.17, -53.5], [-22.19, -48.79], [-27.45, -50.95], [-22.19, -48.79], [-22.25, -42.66], [-22.19, -48.79], [-27.45, -50.95], [-5.81, -36.59], [-22.25, -42.66], [-22.25, -42.66], [-18.1, -44.38], [-13.29, -41.71], [-22.19, -48.79], [-18.1, -44.38], [-22.25, -42.66], [-9.46, -48.26], [-22.19, -48.79], [-18.1, -44.38], [-18.1, -44.38], [-22.19, -48.79], [-18.1, -44.38], [-22.19, -48.79], [-22.25, -42.66], [-22.19, -48.79], [-22.19, -48.79], [-22.19, -48.79], [-18.1, -44.38], [-18.1, -44.38], [-22.25, -42.66], [-22.19, -48.79], [-22.19, -48.79], [-22.19, -48.79], [-30.17, -53.5], [-22.25, -42.66], [-18.1, -44.38], [-22.19, -48.79], [-7.28, -36.72], [-22.19, -48.79], [-22.19, -48.79], [-22.25, -42.66], [-22.19, -48.79], [-5.2, -39.53], [-22.19, -48.79], [-22.19, -48.79], [-27.45, -50.95], [-6.6, -42.28], [-22.19, -48.79], [-22.19, -48.79], [-15.98, -49.86], [-22.19, -48.79], [-15.83, -47.86], [-22.25, -42.66], [-30.17, -53.5], [-18.1, -44.38], [-18.1, -44.38], [-30.17, -53.5], [-22.19, -48.79], [-22.19, -48.79], [-22.25, -42.66], [-3.79, -52.48], [-24.89, -51.55], [-22.19, -48.79], [-22.19, -48.79], [-22.19, -48.79], [-30.17, -53.5], [-12.64, -55.42], [-18.1, -44.38], [-27.45, -50.95], [-22.19, -48.79], [-22.25, -42.66], [-22.19, -48.79], [-22.25, -42.66], [-13.29, -41.71], [-22.25, -42.66], [-24.89, -51.55], [-24.89, -51.55], [-30.17, -53.5], [-22.19, -48.79], [-22.19, -48.79], [-22.25, -42.66], [-27.45, -50.95], [-15.83, -47.86], [-27.45, -50.95], [-18.1, -44.38], [-22.19, -48.79], [-22.19, -48.79], [-27.45, -50.95], [-5.42, -45.44], [-22.19, -48.79], [-27.45, -50.95], [-18.1, -44.38], [-30.17, -53.5], [-22.19, -48.79], [-27.45, -50.95], [-22.19, -48.79], [-13.29, -41.71], [-22.19, -48.79], [-22.19, -48.79], [-22.19, -48.79], [-22.19, -48.79], [-22.19, -48.79], [-22.19, -48.79], [-22.25, -42.66], [-22.19, -48.79], [-22.25, -42.66], [-30.17, -53.5], [-18.1, -44.38], [-24.89, -51.55], [-22.19, -48.79], [-18.1, -44.38], [-22.19, -48.79], [-22.19, -48.79], [-13.29, -41.71], [-5.2, -39.53], [-22.25, -42.66], [-22.19, -48.79], [-19.19, -40.34], [-24.89, -51.55], [-13.29, -41.71], [-22.25, -42.66], [-24.89, -51.55], [-15.83, -47.86], [-22.25, -42.66], [-13.29, -41.71], [-30.17, -53.5], [-5.2, -39.53], [-6.6, -42.28], [-22.19, -48.79], [-30.17, -53.5], [-24.89, -51.55], [-18.1, -44.38], [-15.83, -47.86], [-10.83, -63.34], [-22.19, -48.79], [-30.17, -53.5], [-22.19, -48.79], [-13.29, -41.71], [-15.98, -49.86], [-22.19, -48.79], [-22.25, -42.66], [-22.19, -48.79], [-22.19, -48.79], [-18.1, -44.38], [-15.98, -49.86], [-18.1, -44.38], [-22.19, -48.79], [-13.29, -41.71], [-22.25, -42.66], [-30.17, -53.5], [-15.98, -49.86], [-5.81, -36.59], [-22.25, -42.66], [-18.1, -44.38], [-22.19, -48.79], [-24.89, -51.55], [-22.25, -42.66], [-22.19, -48.79], [-22.19, -48.79], [-3.79, -52.48], [-5.2, -39.53], [-22.25, -42.66], [-22.19, -48.79], [-24.89, -51.55], [-22.25, -42.66], [-22.25, -42.66], [-8.38, -37.86], [-22.19, -48.79], [-30.17, -53.5], [-30.17, -53.5], [-18.1, -44.38], [-18.1, -44.38], [-22.19, -48.79], [-10.57, -37.45], [-27.45, -50.95], [-30.17, -53.5], [-22.19, -48.79], [-22.19, -48.79], [-22.19, -48.79], [-22.19, -48.79], [-12.64, -55.42], [-20.51, -54.54], [-30.17, -53.5], [-13.29, -41.71], [-22.25, -42.66], [-22.19, -48.79], [-22.19, -48.79], [-18.1, -44.38], [-22.19, -48.79], [-22.19, -48.79], [-22.19, -48.79], [-24.89, -51.55], [-22.19, -48.79], [-30.17, -53.5], [-19.19, -40.34], [-10.57, -37.45], [-18.1, -44.38], [-22.19, -48.79], [-24.89, -51.55], [-22.25, -42.66], [-22.19, -48.79], [-10.57, -37.45], [-12.64, -55.42], [-22.19, -48.79], [-30.17, -53.5], [-18.1, -44.38], [-22.25, -42.66], [-22.19, -48.79], [-30.17, -53.5], [-18.1, -44.38], [-13.29, -41.71], [-24.89, -51.55], [-22.25, -42.66], [-15.83, -47.86], [-18.1, -44.38], [-15.98, -49.86], [-22.19, -48.79], [-19.19, -40.34], [-18.1, -44.38], [-22.19, -48.79], [-3.79, -52.48], [-3.79, -52.48], [-22.19, -48.79], [-18.1, -44.38], [-18.1, -44.38], [-18.1, -44.38], [-22.25, -42.66], [-22.19, -48.79], [-22.19, -48.79], [-13.29, -41.71], [-8.38, -37.86], [-22.19, -48.79], [-22.19, -48.79], [-3.79, -52.48], [-22.19, -48.79], [-22.19, -48.79], [-15.98, -49.86], [-30.17, -53.5], [-22.19, -48.79], [-18.1, -44.38], [-24.89, -51.55], [-18.1, -44.38], [-3.79, -52.48], [-5.81, -36.59], [-8.38, -37.86], [-22.25, -42.66], [-22.19, -48.79], [-24.89, -51.55], [-30.17, -53.5], [-22.19, -48.79], [-12.64, -55.42], [-27.45, -50.95], [-8.38, -37.86], [-22.19, -48.79], [-18.1, -44.38], [-22.19, -48.79], [-18.1, -44.38], [-22.19, -48.79], [-22.19, -48.79], [-22.25, -42.66], [-13.29, -41.71], [-22.19, -48.79], [-22.25, -42.66], [-22.19, -48.79], [-22.19, -48.79], [-22.19, -48.79], [-15.83, -47.86], [-27.45, -50.95], [-12.64, -55.42], [-27.45, -50.95], [-18.1, -44.38], [-30.17, -53.5], [-22.19, -48.79], [-18.1, -44.38], [-22.19, -48.79], [-5.2, -39.53], [-20.51, -54.54], [-24.89, -51.55], [-22.19, -48.79], [-13.29, -41.71], [-15.98, -49.86], [-20.51, -54.54], [-22.25, -42.66], [-24.89, -51.55], [-22.25, -42.66], [-13.29, -41.71], [-22.19, -48.79], [-22.25, -42.66], [-6.6, -42.28], [-22.19, -48.79], [-22.19, -48.79], [-22.19, -48.79], [-22.19, -48.79], [-22.19, -48.79], [-22.25, -42.66], [-18.1, -44.38], [-27.45, -50.95], [-22.25, -42.66], [-22.19, -48.79], [-9.62, -36.82], [-22.19, -48.79], [-18.1, -44.38], [-22.19, -48.79], [-24.89, -51.55], [-30.17, -53.5], [-22.19, -48.79], [-3.47, -65.1], [-22.19, -48.79], [-27.45, -50.95], [-19.19, -40.34], [-22.25, -42.66], [-22.25, -42.66], [-19.19, -40.34], [-22.19, -48.79], [-22.25, -42.66], [-7.28, -36.72], [-24.89, -51.55], [-22.25, -42.66], [-30.17, -53.5], [-5.2, -39.53], [-30.17, -53.5], [-7.28, -36.72], [-22.25, -42.66], [-22.25, -42.66], [-13.29, -41.71], [-13.29, -41.71], [-22.25, -42.66], [-30.17, -53.5], [-22.19, -48.79], [-22.19, -48.79], [-22.19, -48.79], [-12.64, -55.42], [-15.83, -47.86], [-22.19, -48.79], [-22.19, -48.79], [-15.98, -49.86], [-22.19, -48.79], [-5.2, -39.53], [-18.1, -44.38], [-13.29, -41.71], [-22.19, -48.79], [-3.79, -52.48], [-22.19, -48.79], [-22.19, -48.79], [-12.64, -55.42], [-15.83, -47.86], [-22.25, -42.66], [-22.25, -42.66], [-22.19, -48.79], [-18.1, -44.38], [-9.62, -36.82], [-24.89, -51.55], [-22.19, -48.79], [-22.19, -48.79], [-18.1, -44.38], [-22.19, -48.79], [-22.19, -48.79], [-22.19, -48.79], [-22.25, -42.66], [-20.51, -54.54], [-22.25, -42.66], [-18.1, -44.38], [-18.1, -44.38], [-22.19, -48.79], [-22.19, -48.79], [-22.19, -48.79], [-22.25, -42.66], [-22.25, -42.66], [-18.1, -44.38], [-22.19, -48.79], [-24.89, -51.55], [-22.19, -48.79], [-22.19, -48.79], [-24.89, -51.55], [-22.19, -48.79], [-24.89, -51.55], [-22.25, -42.66], [-22.19, -48.79], [-18.1, -44.38], [-22.19, -48.79], [-24.89, -51.55], [-30.17, -53.5], [-22.19, -48.79], [-18.1, -44.38], [-22.25, -42.66], [-22.25, -42.66], [-24.89, -51.55], [-15.83, -47.86], [-22.19, -48.79], [-19.19, -40.34], [-22.25, -42.66], [-22.19, -48.79], [-5.81, -36.59], [-22.19, -48.79], [-15.98, -49.86], [-30.17, -53.5], [-3.79, -52.48], [-22.19, -48.79], [-15.98, -49.86], [-22.25, -42.66], [-18.1, -44.38], [-18.1, -44.38], [-18.1, -44.38], [-22.19, -48.79], [-18.1, -44.38], [-22.19, -48.79], [-22.19, -48.79], [-18.1, -44.38], [-22.25, -42.66], [-30.17, -53.5], [-22.19, -48.79], [-22.19, -48.79], [-22.25, -42.66], [-22.19, -48.79], [-22.19, -48.79], [-18.1, -44.38], [-30.17, -53.5], [-22.25, -42.66], [-18.1, -44.38], [-18.1, -44.38], [-22.19, -48.79], [-24.89, -51.55], [-13.29, -41.71], [-27.45, -50.95], [-27.45, -50.95], [-22.25, -42.66], [-22.19, -48.79], [-22.25, -42.66], [-22.19, -48.79], [-9.46, -48.26], [-22.19, -48.79], [-22.19, -48.79], [-22.19, -48.79], [-22.19, -48.79], [-24.89, -51.55], [-15.83, -47.86], [-22.19, -48.79], [-22.19, -48.79], [-22.19, -48.79], [-13.29, -41.71], [-27.45, -50.95], [-30.17, -53.5], [-22.19, -48.79], [-22.19, -48.79], [-20.51, -54.54], [-22.19, -48.79], [-22.19, -48.79], [-30.17, -53.5], [-22.19, -48.79], [-22.19, -48.79], [-18.1, -44.38], [-22.19, -48.79], [-22.19, -48.79], [-30.17, -53.5], [-22.19, -48.79], [-13.29, -41.71], [-24.89, -51.55], [-22.19, -48.79], [-22.19, -48.79], [-22.19, -48.79], [-22.19, -48.79], [-22.19, -48.79], [-18.1, -44.38], [-22.19, -48.79], [-19.19, -40.34], [-22.19, -48.79], [-20.51, -54.54], [-18.1, -44.38], [-22.19, -48.79], [-22.19, -48.79], [-22.19, -48.79], [-18.1, -44.38], [-22.19, -48.79], [-24.89, -51.55], [-10.57, -37.45], [-9.46, -48.26], [-30.17, -53.5], [-18.1, -44.38], [-18.1, -44.38], [-18.1, -44.38], [-24.89, -51.55], [-22.19, -48.79], [-22.25, -42.66], [-22.25, -42.66], [-13.29, -41.71], [-7.28, -36.72], [-22.25, -42.66], [-5.42, -45.44], [-22.19, -48.79], [-18.1, -44.38], [-27.45, -50.95], [-22.19, -48.79], [-5.2, -39.53], [-22.25, -42.66], [-18.1, -44.38], [-27.45, -50.95], [-22.19, -48.79], [-22.19, -48.79], [-22.19, -48.79], [-22.19, -48.79], [-27.45, -50.95], [-22.19, -48.79], [-22.25, -42.66], [-18.1, -44.38], [-22.25, -42.66], [-22.19, -48.79], [-22.19, -48.79], [-18.1, -44.38], [-22.25, -42.66], [-22.19, -48.79], [-22.25, -42.66], [-22.19, -48.79], [-22.25, -42.66], [-22.19, -48.79], [-24.89, -51.55], [-5.81, -36.59], [-30.17, -53.5]],\n",
              "                {\n",
              "  &quot;minOpacity&quot;: 0.5,\n",
              "  &quot;maxZoom&quot;: 18,\n",
              "  &quot;radius&quot;: 25,\n",
              "  &quot;blur&quot;: 15,\n",
              "}\n",
              "            );\n",
              "        \n",
              "    \n",
              "            heat_map_e9e295f3d7e9d2fc5fca31e8a555574b.addTo(map_64c46680b2d29476ab5550bc76557b30);\n",
              "        \n",
              "&lt;/script&gt;\n",
              "&lt;/html&gt;\" style=\"position:absolute;width:100%;height:100%;left:0;top:0;border:none !important;\" allowfullscreen webkitallowfullscreen mozallowfullscreen></iframe></div></div>"
            ]
          },
          "metadata": {},
          "execution_count": 159
        }
      ]
    },
    {
      "cell_type": "markdown",
      "source": [
        "###2. Loja 2 - Análise geográfica de vendas"
      ],
      "metadata": {
        "id": "On5h7vBdueHt"
      }
    },
    {
      "cell_type": "code",
      "source": [
        "coords = loja2[['lat', 'lon']].values.tolist()\n",
        "\n",
        "mapa = folium.Map(\n",
        "    location=[loja2['lat'].mean(), loja2['lon'].mean()],\n",
        "    zoom_start=4,\n",
        "    min_zoom=4,\n",
        "    max_zoom=4,\n",
        "    zoom_control=False\n",
        ")\n",
        "\n",
        "HeatMap(coords).add_to(mapa)\n",
        "\n",
        "mapa"
      ],
      "metadata": {
        "colab": {
          "base_uri": "https://localhost:8080/",
          "height": 838
        },
        "id": "bxneD_W9ulR9",
        "outputId": "695c86c8-cce4-4b32-d0c0-26ba52d04348"
      },
      "execution_count": 160,
      "outputs": [
        {
          "output_type": "execute_result",
          "data": {
            "text/plain": [
              "<folium.folium.Map at 0x7a514f67ed10>"
            ],
            "text/html": [
              "<div style=\"width:100%;\"><div style=\"position:relative;width:100%;height:0;padding-bottom:60%;\"><span style=\"color:#565656\">Make this Notebook Trusted to load map: File -> Trust Notebook</span><iframe srcdoc=\"&lt;!DOCTYPE html&gt;\n",
              "&lt;html&gt;\n",
              "&lt;head&gt;\n",
              "    \n",
              "    &lt;meta http-equiv=&quot;content-type&quot; content=&quot;text/html; charset=UTF-8&quot; /&gt;\n",
              "    &lt;script src=&quot;https://cdn.jsdelivr.net/npm/leaflet@1.9.3/dist/leaflet.js&quot;&gt;&lt;/script&gt;\n",
              "    &lt;script src=&quot;https://code.jquery.com/jquery-3.7.1.min.js&quot;&gt;&lt;/script&gt;\n",
              "    &lt;script src=&quot;https://cdn.jsdelivr.net/npm/bootstrap@5.2.2/dist/js/bootstrap.bundle.min.js&quot;&gt;&lt;/script&gt;\n",
              "    &lt;script src=&quot;https://cdnjs.cloudflare.com/ajax/libs/Leaflet.awesome-markers/2.0.2/leaflet.awesome-markers.js&quot;&gt;&lt;/script&gt;\n",
              "    &lt;link rel=&quot;stylesheet&quot; href=&quot;https://cdn.jsdelivr.net/npm/leaflet@1.9.3/dist/leaflet.css&quot;/&gt;\n",
              "    &lt;link rel=&quot;stylesheet&quot; href=&quot;https://cdn.jsdelivr.net/npm/bootstrap@5.2.2/dist/css/bootstrap.min.css&quot;/&gt;\n",
              "    &lt;link rel=&quot;stylesheet&quot; href=&quot;https://netdna.bootstrapcdn.com/bootstrap/3.0.0/css/bootstrap-glyphicons.css&quot;/&gt;\n",
              "    &lt;link rel=&quot;stylesheet&quot; href=&quot;https://cdn.jsdelivr.net/npm/@fortawesome/fontawesome-free@6.2.0/css/all.min.css&quot;/&gt;\n",
              "    &lt;link rel=&quot;stylesheet&quot; href=&quot;https://cdnjs.cloudflare.com/ajax/libs/Leaflet.awesome-markers/2.0.2/leaflet.awesome-markers.css&quot;/&gt;\n",
              "    &lt;link rel=&quot;stylesheet&quot; href=&quot;https://cdn.jsdelivr.net/gh/python-visualization/folium/folium/templates/leaflet.awesome.rotate.min.css&quot;/&gt;\n",
              "    \n",
              "            &lt;meta name=&quot;viewport&quot; content=&quot;width=device-width,\n",
              "                initial-scale=1.0, maximum-scale=1.0, user-scalable=no&quot; /&gt;\n",
              "            &lt;style&gt;\n",
              "                #map_e8509e1cce478f2478c7aba05d06362a {\n",
              "                    position: relative;\n",
              "                    width: 100.0%;\n",
              "                    height: 100.0%;\n",
              "                    left: 0.0%;\n",
              "                    top: 0.0%;\n",
              "                }\n",
              "                .leaflet-container { font-size: 1rem; }\n",
              "            &lt;/style&gt;\n",
              "\n",
              "            &lt;style&gt;html, body {\n",
              "                width: 100%;\n",
              "                height: 100%;\n",
              "                margin: 0;\n",
              "                padding: 0;\n",
              "            }\n",
              "            &lt;/style&gt;\n",
              "\n",
              "            &lt;style&gt;#map {\n",
              "                position:absolute;\n",
              "                top:0;\n",
              "                bottom:0;\n",
              "                right:0;\n",
              "                left:0;\n",
              "                }\n",
              "            &lt;/style&gt;\n",
              "\n",
              "            &lt;script&gt;\n",
              "                L_NO_TOUCH = false;\n",
              "                L_DISABLE_3D = false;\n",
              "            &lt;/script&gt;\n",
              "\n",
              "        \n",
              "    &lt;script src=&quot;https://cdn.jsdelivr.net/gh/python-visualization/folium@main/folium/templates/leaflet_heat.min.js&quot;&gt;&lt;/script&gt;\n",
              "&lt;/head&gt;\n",
              "&lt;body&gt;\n",
              "    \n",
              "    \n",
              "            &lt;div class=&quot;folium-map&quot; id=&quot;map_e8509e1cce478f2478c7aba05d06362a&quot; &gt;&lt;/div&gt;\n",
              "        \n",
              "&lt;/body&gt;\n",
              "&lt;script&gt;\n",
              "    \n",
              "    \n",
              "            var map_e8509e1cce478f2478c7aba05d06362a = L.map(\n",
              "                &quot;map_e8509e1cce478f2478c7aba05d06362a&quot;,\n",
              "                {\n",
              "                    center: [-20.473242899533698, -47.09850784230606],\n",
              "                    crs: L.CRS.EPSG3857,\n",
              "                    ...{\n",
              "  &quot;zoom&quot;: 4,\n",
              "  &quot;zoomControl&quot;: false,\n",
              "  &quot;preferCanvas&quot;: false,\n",
              "}\n",
              "\n",
              "                }\n",
              "            );\n",
              "\n",
              "            \n",
              "\n",
              "        \n",
              "    \n",
              "            var tile_layer_041be9eef10063ac58cded1a2ff025b6 = L.tileLayer(\n",
              "                &quot;https://tile.openstreetmap.org/{z}/{x}/{y}.png&quot;,\n",
              "                {\n",
              "  &quot;minZoom&quot;: 4,\n",
              "  &quot;maxZoom&quot;: 4,\n",
              "  &quot;maxNativeZoom&quot;: 4,\n",
              "  &quot;noWrap&quot;: false,\n",
              "  &quot;attribution&quot;: &quot;\\u0026copy; \\u003ca href=\\&quot;https://www.openstreetmap.org/copyright\\&quot;\\u003eOpenStreetMap\\u003c/a\\u003e contributors&quot;,\n",
              "  &quot;subdomains&quot;: &quot;abc&quot;,\n",
              "  &quot;detectRetina&quot;: false,\n",
              "  &quot;tms&quot;: false,\n",
              "  &quot;opacity&quot;: 1,\n",
              "}\n",
              "\n",
              "            );\n",
              "        \n",
              "    \n",
              "            tile_layer_041be9eef10063ac58cded1a2ff025b6.addTo(map_e8509e1cce478f2478c7aba05d06362a);\n",
              "        \n",
              "    \n",
              "            var heat_map_4b67b5625cd0a1c225550a8feffe51bd = L.heatLayer(\n",
              "                [[-18.1, -44.38], [-22.25, -42.66], [-27.45, -50.95], [-30.17, -53.5], [-22.19, -48.79], [-12.64, -55.42], [-22.19, -48.79], [-22.25, -42.66], [-13.29, -41.71], [-22.19, -48.79], [-18.1, -44.38], [-13.29, -41.71], [-15.98, -49.86], [-18.1, -44.38], [-30.17, -53.5], [-22.19, -48.79], [-18.1, -44.38], [-22.19, -48.79], [-18.1, -44.38], [-22.25, -42.66], [-30.17, -53.5], [-3.79, -52.48], [-22.19, -48.79], [-22.19, -48.79], [-22.25, -42.66], [-18.1, -44.38], [-22.25, -42.66], [-13.29, -41.71], [-22.19, -48.79], [-22.19, -48.79], [-30.17, -53.5], [-27.45, -50.95], [-22.19, -48.79], [-22.19, -48.79], [-18.1, -44.38], [-22.25, -42.66], [-30.17, -53.5], [-13.29, -41.71], [-22.19, -48.79], [-30.17, -53.5], [-22.19, -48.79], [-22.19, -48.79], [-19.19, -40.34], [-30.17, -53.5], [-22.19, -48.79], [-22.19, -48.79], [-15.98, -49.86], [-22.19, -48.79], [-22.19, -48.79], [-22.19, -48.79], [-27.45, -50.95], [-24.89, -51.55], [-22.19, -48.79], [-22.25, -42.66], [-22.19, -48.79], [-13.29, -41.71], [-22.25, -42.66], [-18.1, -44.38], [-22.19, -48.79], [-22.19, -48.79], [-15.98, -49.86], [-5.2, -39.53], [-18.1, -44.38], [-22.19, -48.79], [-3.47, -65.1], [-22.25, -42.66], [-22.19, -48.79], [-18.1, -44.38], [-18.1, -44.38], [-22.25, -42.66], [-22.19, -48.79], [-18.1, -44.38], [-30.17, -53.5], [-22.19, -48.79], [-18.1, -44.38], [-18.1, -44.38], [-18.1, -44.38], [-22.19, -48.79], [-27.45, -50.95], [-22.19, -48.79], [-15.98, -49.86], [-22.19, -48.79], [-18.1, -44.38], [-18.1, -44.38], [-22.19, -48.79], [-22.19, -48.79], [-22.19, -48.79], [-22.19, -48.79], [-22.19, -48.79], [-30.17, -53.5], [-22.25, -42.66], [-22.19, -48.79], [-19.19, -40.34], [-22.19, -48.79], [-22.19, -48.79], [-22.19, -48.79], [-22.19, -48.79], [-22.19, -48.79], [-15.98, -49.86], [-22.19, -48.79], [-18.1, -44.38], [-8.38, -37.86], [-22.19, -48.79], [-22.19, -48.79], [-22.19, -48.79], [-22.19, -48.79], [-9.62, -36.82], [-3.79, -52.48], [-18.1, -44.38], [-19.19, -40.34], [-27.45, -50.95], [-8.38, -37.86], [-22.25, -42.66], [-24.89, -51.55], [-30.17, -53.5], [-22.19, -48.79], [-24.89, -51.55], [-22.25, -42.66], [-22.25, -42.66], [-27.45, -50.95], [-22.19, -48.79], [-22.25, -42.66], [-22.19, -48.79], [-13.29, -41.71], [-22.25, -42.66], [-15.98, -49.86], [-18.1, -44.38], [-22.19, -48.79], [-22.19, -48.79], [-22.25, -42.66], [-30.17, -53.5], [-19.19, -40.34], [-27.45, -50.95], [-5.2, -39.53], [-30.17, -53.5], [-27.45, -50.95], [-22.19, -48.79], [-22.25, -42.66], [-8.38, -37.86], [-5.2, -39.53], [-18.1, -44.38], [-22.19, -48.79], [-8.38, -37.86], [-22.19, -48.79], [-15.83, -47.86], [-13.29, -41.71], [-24.89, -51.55], [-27.45, -50.95], [-24.89, -51.55], [-30.17, -53.5], [-18.1, -44.38], [-22.19, -48.79], [-19.19, -40.34], [-18.1, -44.38], [-15.98, -49.86], [-22.19, -48.79], [-22.19, -48.79], [-22.25, -42.66], [-5.2, -39.53], [-8.38, -37.86], [-9.62, -36.82], [-22.19, -48.79], [-27.45, -50.95], [-22.19, -48.79], [-22.19, -48.79], [-22.19, -48.79], [-22.19, -48.79], [-22.25, -42.66], [-19.19, -40.34], [-22.19, -48.79], [-12.64, -55.42], [-9.62, -36.82], [-8.38, -37.86], [-22.19, -48.79], [-22.19, -48.79], [-24.89, -51.55], [-22.25, -42.66], [-22.25, -42.66], [-22.25, -42.66], [-18.1, -44.38], [-22.19, -48.79], [-15.98, -49.86], [-30.17, -53.5], [-22.25, -42.66], [-27.45, -50.95], [-22.19, -48.79], [-22.19, -48.79], [-22.19, -48.79], [-22.25, -42.66], [-24.89, -51.55], [-27.45, -50.95], [-24.89, -51.55], [-5.81, -36.59], [-22.19, -48.79], [-22.25, -42.66], [-22.25, -42.66], [-5.2, -39.53], [-20.51, -54.54], [-22.19, -48.79], [-22.19, -48.79], [-22.25, -42.66], [-22.19, -48.79], [-22.19, -48.79], [-18.1, -44.38], [-22.19, -48.79], [-22.19, -48.79], [-22.19, -48.79], [-24.89, -51.55], [-22.25, -42.66], [-22.19, -48.79], [-15.83, -47.86], [-22.25, -42.66], [-22.25, -42.66], [-15.83, -47.86], [-22.25, -42.66], [-24.89, -51.55], [-22.19, -48.79], [-30.17, -53.5], [-18.1, -44.38], [-24.89, -51.55], [-22.19, -48.79], [-13.29, -41.71], [-13.29, -41.71], [-22.25, -42.66], [-18.1, -44.38], [-24.89, -51.55], [-24.89, -51.55], [-22.25, -42.66], [-18.1, -44.38], [-18.1, -44.38], [-30.17, -53.5], [-22.19, -48.79], [-22.19, -48.79], [-9.62, -36.82], [-18.1, -44.38], [-22.25, -42.66], [-24.89, -51.55], [-27.45, -50.95], [-22.19, -48.79], [-18.1, -44.38], [-24.89, -51.55], [-22.19, -48.79], [-22.19, -48.79], [-22.19, -48.79], [-22.19, -48.79], [-22.19, -48.79], [-22.19, -48.79], [-8.38, -37.86], [-10.57, -37.45], [-13.29, -41.71], [-18.1, -44.38], [-22.19, -48.79], [-18.1, -44.38], [-22.19, -48.79], [-22.25, -42.66], [-22.19, -48.79], [-15.83, -47.86], [-18.1, -44.38], [-22.19, -48.79], [-22.19, -48.79], [-22.19, -48.79], [-15.98, -49.86], [-13.29, -41.71], [-22.25, -42.66], [-22.19, -48.79], [-22.19, -48.79], [-22.25, -42.66], [-22.19, -48.79], [-19.19, -40.34], [-22.19, -48.79], [-15.98, -49.86], [-22.19, -48.79], [-13.29, -41.71], [-5.42, -45.44], [-7.28, -36.72], [-22.19, -48.79], [-13.29, -41.71], [-5.81, -36.59], [-15.83, -47.86], [-22.25, -42.66], [-22.19, -48.79], [-22.19, -48.79], [-18.1, -44.38], [-22.19, -48.79], [-22.19, -48.79], [-22.19, -48.79], [-22.19, -48.79], [-5.2, -39.53], [-8.38, -37.86], [-22.19, -48.79], [-22.25, -42.66], [-24.89, -51.55], [-22.19, -48.79], [-3.79, -52.48], [-22.19, -48.79], [-13.29, -41.71], [-24.89, -51.55], [-22.19, -48.79], [-22.19, -48.79], [-24.89, -51.55], [-22.19, -48.79], [-12.64, -55.42], [-8.38, -37.86], [-22.19, -48.79], [-22.25, -42.66], [-22.19, -48.79], [-22.19, -48.79], [-22.19, -48.79], [-22.25, -42.66], [-8.38, -37.86], [-18.1, -44.38], [-22.19, -48.79], [-18.1, -44.38], [-22.19, -48.79], [-18.1, -44.38], [-22.19, -48.79], [-22.25, -42.66], [-15.98, -49.86], [-22.19, -48.79], [-18.1, -44.38], [-18.1, -44.38], [-30.17, -53.5], [-22.19, -48.79], [-22.19, -48.79], [-18.1, -44.38], [-24.89, -51.55], [-22.19, -48.79], [-24.89, -51.55], [-22.19, -48.79], [-24.89, -51.55], [-18.1, -44.38], [-22.19, -48.79], [-18.1, -44.38], [-22.19, -48.79], [-22.19, -48.79], [-6.6, -42.28], [-18.1, -44.38], [-30.17, -53.5], [-24.89, -51.55], [-22.25, -42.66], [-24.89, -51.55], [-18.1, -44.38], [-22.19, -48.79], [-22.19, -48.79], [-15.83, -47.86], [-13.29, -41.71], [-8.38, -37.86], [-22.19, -48.79], [-22.19, -48.79], [-22.19, -48.79], [-22.19, -48.79], [-22.25, -42.66], [-22.19, -48.79], [-27.45, -50.95], [-22.25, -42.66], [-22.19, -48.79], [-18.1, -44.38], [-18.1, -44.38], [-15.98, -49.86], [-22.19, -48.79], [-30.17, -53.5], [-18.1, -44.38], [-5.81, -36.59], [-12.64, -55.42], [-22.19, -48.79], [-22.19, -48.79], [-22.19, -48.79], [-24.89, -51.55], [-20.51, -54.54], [-22.19, -48.79], [-22.19, -48.79], [-22.19, -48.79], [-13.29, -41.71], [-27.45, -50.95], [-24.89, -51.55], [-22.19, -48.79], [-8.38, -37.86], [-22.19, -48.79], [-8.38, -37.86], [-18.1, -44.38], [-5.42, -45.44], [-22.19, -48.79], [-22.25, -42.66], [-22.19, -48.79], [-22.19, -48.79], [-30.17, -53.5], [-10.57, -37.45], [-22.19, -48.79], [-22.19, -48.79], [-15.98, -49.86], [-22.19, -48.79], [-22.19, -48.79], [-12.64, -55.42], [-22.19, -48.79], [-22.25, -42.66], [-22.25, -42.66], [-18.1, -44.38], [-30.17, -53.5], [-22.19, -48.79], [-22.25, -42.66], [-5.81, -36.59], [-22.19, -48.79], [-22.19, -48.79], [-22.19, -48.79], [-22.25, -42.66], [-22.19, -48.79], [-30.17, -53.5], [-22.19, -48.79], [-5.81, -36.59], [-18.1, -44.38], [-22.25, -42.66], [-15.98, -49.86], [-18.1, -44.38], [-22.19, -48.79], [-10.57, -37.45], [-22.25, -42.66], [-22.19, -48.79], [-30.17, -53.5], [-22.19, -48.79], [-22.19, -48.79], [-22.19, -48.79], [-22.19, -48.79], [-30.17, -53.5], [-30.17, -53.5], [-22.19, -48.79], [-22.19, -48.79], [-18.1, -44.38], [-18.1, -44.38], [-5.81, -36.59], [-22.19, -48.79], [-22.25, -42.66], [-22.19, -48.79], [-22.19, -48.79], [-22.25, -42.66], [-22.25, -42.66], [-15.98, -49.86], [-22.19, -48.79], [-22.25, -42.66], [-22.19, -48.79], [-27.45, -50.95], [-30.17, -53.5], [-18.1, -44.38], [-22.19, -48.79], [-18.1, -44.38], [-22.19, -48.79], [-22.19, -48.79], [-22.25, -42.66], [-18.1, -44.38], [-22.25, -42.66], [-15.83, -47.86], [-18.1, -44.38], [-22.19, -48.79], [-22.25, -42.66], [-15.98, -49.86], [-22.19, -48.79], [-27.45, -50.95], [-22.25, -42.66], [-22.19, -48.79], [-20.51, -54.54], [-22.19, -48.79], [-15.83, -47.86], [-22.19, -48.79], [-22.19, -48.79], [-22.19, -48.79], [-8.38, -37.86], [-22.19, -48.79], [-18.1, -44.38], [-18.1, -44.38], [-22.19, -48.79], [-22.25, -42.66], [-15.83, -47.86], [-18.1, -44.38], [-22.19, -48.79], [-22.19, -48.79], [-22.19, -48.79], [-15.83, -47.86], [-20.51, -54.54], [-22.19, -48.79], [-22.19, -48.79], [-22.25, -42.66], [-22.19, -48.79], [-22.19, -48.79], [-22.19, -48.79], [-18.1, -44.38], [-18.1, -44.38], [-15.83, -47.86], [-27.45, -50.95], [-13.29, -41.71], [-22.19, -48.79], [-7.28, -36.72], [-22.19, -48.79], [-18.1, -44.38], [-22.19, -48.79], [-22.19, -48.79], [-15.98, -49.86], [-22.19, -48.79], [-30.17, -53.5], [-6.6, -42.28], [-22.19, -48.79], [-22.19, -48.79], [-22.25, -42.66], [-22.25, -42.66], [-22.19, -48.79], [-22.19, -48.79], [-22.19, -48.79], [-22.19, -48.79], [-24.89, -51.55], [-22.25, -42.66], [-27.45, -50.95], [-18.1, -44.38], [-27.45, -50.95], [-18.1, -44.38], [-24.89, -51.55], [-18.1, -44.38], [-22.19, -48.79], [-27.45, -50.95], [-22.19, -48.79], [-13.29, -41.71], [-24.89, -51.55], [-22.25, -42.66], [-18.1, -44.38], [-22.19, -48.79], [-18.1, -44.38], [-8.38, -37.86], [-22.19, -48.79], [-24.89, -51.55], [-22.25, -42.66], [-22.19, -48.79], [-22.19, -48.79], [-9.46, -48.26], [-22.25, -42.66], [-22.19, -48.79], [-22.25, -42.66], [-22.19, -48.79], [-22.19, -48.79], [-15.98, -49.86], [-30.17, -53.5], [-18.1, -44.38], [-22.19, -48.79], [-22.25, -42.66], [-22.19, -48.79], [-22.19, -48.79], [-18.1, -44.38], [-22.19, -48.79], [-22.19, -48.79], [-22.25, -42.66], [-30.17, -53.5], [-22.25, -42.66], [-22.19, -48.79], [-22.19, -48.79], [-22.25, -42.66], [-22.19, -48.79], [-22.19, -48.79], [-18.1, -44.38], [-30.17, -53.5], [-22.19, -48.79], [-5.2, -39.53], [-22.25, -42.66], [-22.19, -48.79], [-22.19, -48.79], [-22.19, -48.79], [-22.19, -48.79], [-22.19, -48.79], [-22.25, -42.66], [-27.45, -50.95], [-22.19, -48.79], [-18.1, -44.38], [-22.25, -42.66], [-24.89, -51.55], [-22.19, -48.79], [-19.19, -40.34], [-18.1, -44.38], [-13.29, -41.71], [-15.83, -47.86], [-22.25, -42.66], [-22.19, -48.79], [-22.25, -42.66], [-22.19, -48.79], [-18.1, -44.38], [-22.19, -48.79], [-22.19, -48.79], [-30.17, -53.5], [-27.45, -50.95], [-22.19, -48.79], [-30.17, -53.5], [-22.19, -48.79], [-27.45, -50.95], [-18.1, -44.38], [-13.29, -41.71], [-24.89, -51.55], [-22.19, -48.79], [-22.25, -42.66], [-24.89, -51.55], [-22.19, -48.79], [-18.1, -44.38], [-22.19, -48.79], [-22.25, -42.66], [-22.25, -42.66], [-22.19, -48.79], [-22.25, -42.66], [-22.19, -48.79], [-22.19, -48.79], [-22.19, -48.79], [-18.1, -44.38], [-22.19, -48.79], [-22.19, -48.79], [-15.98, -49.86], [-18.1, -44.38], [-24.89, -51.55], [-22.19, -48.79], [-18.1, -44.38], [-18.1, -44.38], [-18.1, -44.38], [-18.1, -44.38], [-13.29, -41.71], [-22.19, -48.79], [-22.19, -48.79], [-30.17, -53.5], [-22.19, -48.79], [-22.19, -48.79], [-22.25, -42.66], [-24.89, -51.55], [-5.2, -39.53], [-22.25, -42.66], [-18.1, -44.38], [-22.19, -48.79], [-22.19, -48.79], [-27.45, -50.95], [-22.19, -48.79], [-15.83, -47.86], [-15.83, -47.86], [-22.19, -48.79], [-22.19, -48.79], [-22.19, -48.79], [-22.25, -42.66], [-13.29, -41.71], [-18.1, -44.38], [-18.1, -44.38], [-10.83, -63.34], [-22.19, -48.79], [-22.19, -48.79], [-22.19, -48.79], [-13.29, -41.71], [-27.45, -50.95], [-22.19, -48.79], [-5.2, -39.53], [-22.19, -48.79], [-22.19, -48.79], [-13.29, -41.71], [-22.19, -48.79], [-22.19, -48.79], [-30.17, -53.5], [-22.19, -48.79], [-22.19, -48.79], [-22.25, -42.66], [-15.98, -49.86], [-12.64, -55.42], [-22.19, -48.79], [-22.19, -48.79], [-13.29, -41.71], [-22.19, -48.79], [-15.98, -49.86], [-15.83, -47.86], [-22.19, -48.79], [-22.25, -42.66], [-22.19, -48.79], [-22.19, -48.79], [-27.45, -50.95], [-22.19, -48.79], [-22.19, -48.79], [-15.98, -49.86], [-22.19, -48.79], [-8.38, -37.86], [-22.19, -48.79], [-22.19, -48.79], [-22.19, -48.79], [-22.25, -42.66], [-22.19, -48.79], [-30.17, -53.5], [-22.19, -48.79], [-5.2, -39.53], [-22.19, -48.79], [-22.19, -48.79], [-22.25, -42.66], [-22.19, -48.79], [-22.25, -42.66], [-7.28, -36.72], [-22.19, -48.79], [-22.25, -42.66], [-22.25, -42.66], [-22.25, -42.66], [-22.19, -48.79], [-8.38, -37.86], [-22.19, -48.79], [-22.19, -48.79], [-22.19, -48.79], [-22.25, -42.66], [-18.1, -44.38], [-15.83, -47.86], [-22.19, -48.79], [-22.19, -48.79], [-22.19, -48.79], [-19.19, -40.34], [-22.19, -48.79], [-22.19, -48.79], [-22.19, -48.79], [-24.89, -51.55], [-22.19, -48.79], [-30.17, -53.5], [-22.19, -48.79], [-22.19, -48.79], [-22.19, -48.79], [-15.83, -47.86], [-22.19, -48.79], [-22.19, -48.79], [-22.19, -48.79], [-18.1, -44.38], [-22.19, -48.79], [-22.19, -48.79], [-22.19, -48.79], [-5.42, -45.44], [-22.19, -48.79], [-22.25, -42.66], [-30.17, -53.5], [-22.25, -42.66], [-22.25, -42.66], [-30.17, -53.5], [-30.17, -53.5], [-5.81, -36.59], [-30.17, -53.5], [-8.38, -37.86], [-22.19, -48.79], [-22.19, -48.79], [-22.19, -48.79], [-22.19, -48.79], [-22.19, -48.79], [-22.19, -48.79], [-22.19, -48.79], [-22.19, -48.79], [-13.29, -41.71], [-5.81, -36.59], [-22.19, -48.79], [-22.19, -48.79], [-18.1, -44.38], [-30.17, -53.5], [-18.1, -44.38], [-24.89, -51.55], [-22.19, -48.79], [-22.19, -48.79], [-22.19, -48.79], [-18.1, -44.38], [-22.19, -48.79], [-22.25, -42.66], [-24.89, -51.55], [-22.19, -48.79], [-5.81, -36.59], [-22.25, -42.66], [-22.19, -48.79], [-22.19, -48.79], [-27.45, -50.95], [-22.19, -48.79], [-22.19, -48.79], [-8.38, -37.86], [-9.62, -36.82], [-22.19, -48.79], [-22.19, -48.79], [-22.25, -42.66], [-22.19, -48.79], [-27.45, -50.95], [-22.19, -48.79], [-22.25, -42.66], [-22.19, -48.79], [-5.2, -39.53], [-8.38, -37.86], [-15.83, -47.86], [-22.19, -48.79], [-22.19, -48.79], [-30.17, -53.5], [-22.19, -48.79], [-12.64, -55.42], [-18.1, -44.38], [-22.19, -48.79], [-22.19, -48.79], [-22.19, -48.79], [-22.19, -48.79], [-22.25, -42.66], [-7.28, -36.72], [-20.51, -54.54], [-18.1, -44.38], [-22.19, -48.79], [-22.19, -48.79], [-22.25, -42.66], [-12.64, -55.42], [-22.19, -48.79], [-13.29, -41.71], [-22.19, -48.79], [-30.17, -53.5], [-22.19, -48.79], [-13.29, -41.71], [-22.19, -48.79], [-30.17, -53.5], [-19.19, -40.34], [-30.17, -53.5], [-22.19, -48.79], [-22.25, -42.66], [-22.19, -48.79], [-15.83, -47.86], [-22.19, -48.79], [-5.2, -39.53], [-22.25, -42.66], [-27.45, -50.95], [-22.19, -48.79], [-18.1, -44.38], [-30.17, -53.5], [-22.19, -48.79], [-22.25, -42.66], [-22.19, -48.79], [-22.19, -48.79], [-22.19, -48.79], [-22.19, -48.79], [-30.17, -53.5], [-22.19, -48.79], [-20.51, -54.54], [-18.1, -44.38], [-22.19, -48.79], [-27.45, -50.95], [-22.25, -42.66], [-13.29, -41.71], [-15.83, -47.86], [-22.19, -48.79], [-22.19, -48.79], [-18.1, -44.38], [-18.1, -44.38], [-22.19, -48.79], [-13.29, -41.71], [-22.19, -48.79], [-22.25, -42.66], [-22.25, -42.66], [-22.25, -42.66], [-22.19, -48.79], [-24.89, -51.55], [-22.19, -48.79], [-30.17, -53.5], [-22.25, -42.66], [-22.19, -48.79], [-22.19, -48.79], [-22.25, -42.66], [-18.1, -44.38], [-22.19, -48.79], [-22.19, -48.79], [-19.19, -40.34], [-15.98, -49.86], [-22.19, -48.79], [-5.42, -45.44], [-22.19, -48.79], [-22.19, -48.79], [-18.1, -44.38], [-18.1, -44.38], [-18.1, -44.38], [-22.25, -42.66], [-22.19, -48.79], [-15.98, -49.86], [-13.29, -41.71], [-22.19, -48.79], [-22.19, -48.79], [-27.45, -50.95], [-12.64, -55.42], [-18.1, -44.38], [-30.17, -53.5], [-22.19, -48.79], [-15.83, -47.86], [-22.25, -42.66], [-22.25, -42.66], [-22.19, -48.79], [-22.19, -48.79], [-22.19, -48.79], [-22.19, -48.79], [-22.19, -48.79], [-18.1, -44.38], [-22.19, -48.79], [-22.19, -48.79], [-22.19, -48.79], [-22.19, -48.79], [-22.25, -42.66], [-30.17, -53.5], [-8.38, -37.86], [-15.83, -47.86], [-13.29, -41.71], [-22.25, -42.66], [-22.19, -48.79], [-22.25, -42.66], [-22.19, -48.79], [-24.89, -51.55], [-30.17, -53.5], [-18.1, -44.38], [-15.83, -47.86], [-22.25, -42.66], [-24.89, -51.55], [-22.25, -42.66], [-27.45, -50.95], [-22.19, -48.79], [-24.89, -51.55], [-24.89, -51.55], [-22.19, -48.79], [-22.25, -42.66], [-22.19, -48.79], [-15.83, -47.86], [-22.25, -42.66], [-22.19, -48.79], [-22.25, -42.66], [-3.79, -52.48], [-22.19, -48.79], [-15.83, -47.86], [-8.38, -37.86], [-18.1, -44.38], [-18.1, -44.38], [-13.29, -41.71], [-13.29, -41.71], [-5.2, -39.53], [-22.25, -42.66], [-22.19, -48.79], [-22.19, -48.79], [-22.19, -48.79], [-22.19, -48.79], [-27.45, -50.95], [-18.1, -44.38], [-22.19, -48.79], [-22.25, -42.66], [-15.83, -47.86], [-13.29, -41.71], [-18.1, -44.38], [-24.89, -51.55], [-22.19, -48.79], [-22.25, -42.66], [-18.1, -44.38], [-22.19, -48.79], [-27.45, -50.95], [-22.19, -48.79], [-20.51, -54.54], [-22.19, -48.79], [-18.1, -44.38], [-3.79, -52.48], [-15.83, -47.86], [-22.25, -42.66], [-22.19, -48.79], [-8.38, -37.86], [-18.1, -44.38], [-22.19, -48.79], [-15.83, -47.86], [-24.89, -51.55], [-22.19, -48.79], [-30.17, -53.5], [-22.19, -48.79], [-18.1, -44.38], [-5.2, -39.53], [-10.83, -63.34], [-22.19, -48.79], [-22.25, -42.66], [-22.19, -48.79], [-18.1, -44.38], [-22.19, -48.79], [-22.19, -48.79], [-22.25, -42.66], [-22.25, -42.66], [-19.19, -40.34], [-5.2, -39.53], [-22.19, -48.79], [-27.45, -50.95], [-22.19, -48.79], [-22.19, -48.79], [-22.19, -48.79], [-6.6, -42.28], [-22.19, -48.79], [-22.19, -48.79], [-24.89, -51.55], [-22.19, -48.79], [-18.1, -44.38], [-27.45, -50.95], [-15.98, -49.86], [-18.1, -44.38], [-8.38, -37.86], [-22.25, -42.66], [-22.19, -48.79], [-22.19, -48.79], [-22.25, -42.66], [-22.19, -48.79], [-5.42, -45.44], [-22.25, -42.66], [-18.1, -44.38], [-22.25, -42.66], [-24.89, -51.55], [-30.17, -53.5], [-3.47, -65.1], [-22.19, -48.79], [-22.19, -48.79], [-22.19, -48.79], [-3.79, -52.48], [-13.29, -41.71], [-22.19, -48.79], [-18.1, -44.38], [-18.1, -44.38], [-22.19, -48.79], [-13.29, -41.71], [-22.25, -42.66], [-22.19, -48.79], [-22.25, -42.66], [-22.19, -48.79], [-22.19, -48.79], [-22.19, -48.79], [-13.29, -41.71], [-30.17, -53.5], [-8.38, -37.86], [-18.1, -44.38], [-18.1, -44.38], [-22.25, -42.66], [-22.19, -48.79], [-22.19, -48.79], [-22.19, -48.79], [-22.19, -48.79], [-22.19, -48.79], [-20.51, -54.54], [-22.25, -42.66], [-15.83, -47.86], [-22.25, -42.66], [-22.25, -42.66], [-22.19, -48.79], [-22.19, -48.79], [-8.38, -37.86], [-22.19, -48.79], [-22.25, -42.66], [-22.19, -48.79], [-30.17, -53.5], [-18.1, -44.38], [-22.19, -48.79], [-8.38, -37.86], [-5.2, -39.53], [-18.1, -44.38], [-27.45, -50.95], [-19.19, -40.34], [-22.19, -48.79], [-22.19, -48.79], [-22.19, -48.79], [-22.19, -48.79], [-22.25, -42.66], [-22.19, -48.79], [-22.19, -48.79], [-22.25, -42.66], [-18.1, -44.38], [-15.83, -47.86], [-22.19, -48.79], [-22.19, -48.79], [-22.25, -42.66], [-18.1, -44.38], [-22.19, -48.79], [-15.98, -49.86], [-15.83, -47.86], [-15.83, -47.86], [-22.19, -48.79], [-27.45, -50.95], [-18.1, -44.38], [-13.29, -41.71], [-22.19, -48.79], [-9.46, -48.26], [-22.25, -42.66], [-18.1, -44.38], [-22.19, -48.79], [-27.45, -50.95], [-22.19, -48.79], [-12.64, -55.42], [-15.98, -49.86], [-24.89, -51.55], [-18.1, -44.38], [-5.2, -39.53], [-22.19, -48.79], [-22.19, -48.79], [-22.19, -48.79], [-18.1, -44.38], [-22.19, -48.79], [-22.19, -48.79], [-22.19, -48.79], [-15.83, -47.86], [-22.19, -48.79], [-18.1, -44.38], [-18.1, -44.38], [-22.25, -42.66], [-30.17, -53.5], [-8.38, -37.86], [-13.29, -41.71], [-5.2, -39.53], [-13.29, -41.71], [-8.38, -37.86], [-22.19, -48.79], [-22.19, -48.79], [-22.19, -48.79], [-22.19, -48.79], [-22.19, -48.79], [-22.19, -48.79], [-20.51, -54.54], [-24.89, -51.55], [-22.19, -48.79], [-8.38, -37.86], [-22.19, -48.79], [-6.6, -42.28], [-22.19, -48.79], [-22.19, -48.79], [-18.1, -44.38], [-27.45, -50.95], [-8.38, -37.86], [-24.89, -51.55], [-15.83, -47.86], [-22.19, -48.79], [-22.19, -48.79], [-13.29, -41.71], [-24.89, -51.55], [-22.19, -48.79], [-22.25, -42.66], [-22.19, -48.79], [-22.25, -42.66], [-22.25, -42.66], [-30.17, -53.5], [-22.25, -42.66], [-27.45, -50.95], [-22.19, -48.79], [-22.19, -48.79], [-18.1, -44.38], [-22.19, -48.79], [-18.1, -44.38], [-22.19, -48.79], [-5.42, -45.44], [-24.89, -51.55], [-22.19, -48.79], [-22.19, -48.79], [-22.25, -42.66], [-22.19, -48.79], [-18.1, -44.38], [-22.19, -48.79], [-22.25, -42.66], [-22.19, -48.79], [-18.1, -44.38], [-22.19, -48.79], [-22.19, -48.79], [-22.19, -48.79], [-30.17, -53.5], [-22.19, -48.79], [-22.19, -48.79], [-22.19, -48.79], [-22.19, -48.79], [-22.19, -48.79], [-22.19, -48.79], [-15.98, -49.86], [-22.19, -48.79], [-15.98, -49.86], [-22.19, -48.79], [-22.25, -42.66], [-22.19, -48.79], [-22.25, -42.66], [-10.83, -63.34], [-22.19, -48.79], [-22.19, -48.79], [-15.98, -49.86], [-5.2, -39.53], [-27.45, -50.95], [-5.2, -39.53], [-27.45, -50.95], [-18.1, -44.38], [-24.89, -51.55], [-22.19, -48.79], [-22.19, -48.79], [-22.25, -42.66], [-22.19, -48.79], [-8.38, -37.86], [-15.98, -49.86], [-22.19, -48.79], [-27.45, -50.95], [-22.19, -48.79], [-22.25, -42.66], [-9.62, -36.82], [-22.19, -48.79], [-22.19, -48.79], [-15.83, -47.86], [-15.98, -49.86], [-18.1, -44.38], [-18.1, -44.38], [-15.98, -49.86], [-22.19, -48.79], [-27.45, -50.95], [-22.19, -48.79], [-22.25, -42.66], [-18.1, -44.38], [-30.17, -53.5], [-22.19, -48.79], [-22.19, -48.79], [-22.19, -48.79], [-22.19, -48.79], [-22.19, -48.79], [-22.19, -48.79], [-22.19, -48.79], [-22.19, -48.79], [-22.25, -42.66], [-22.25, -42.66], [-22.19, -48.79], [-24.89, -51.55], [-18.1, -44.38], [-18.1, -44.38], [-22.19, -48.79], [-22.19, -48.79], [-22.19, -48.79], [-18.1, -44.38], [-18.1, -44.38], [-22.19, -48.79], [-22.19, -48.79], [-30.17, -53.5], [-22.19, -48.79], [-22.19, -48.79], [-22.19, -48.79], [-24.89, -51.55], [-22.19, -48.79], [-15.83, -47.86], [-22.19, -48.79], [-15.83, -47.86], [-15.83, -47.86], [-5.2, -39.53], [-27.45, -50.95], [-12.64, -55.42], [-22.19, -48.79], [-24.89, -51.55], [-22.19, -48.79], [-22.25, -42.66], [-15.98, -49.86], [-12.64, -55.42], [-19.19, -40.34], [-18.1, -44.38], [-22.25, -42.66], [-13.29, -41.71], [-15.83, -47.86], [-13.29, -41.71], [-22.19, -48.79], [-18.1, -44.38], [-22.19, -48.79], [-3.79, -52.48], [-22.25, -42.66], [-22.19, -48.79], [-18.1, -44.38], [-22.19, -48.79], [-30.17, -53.5], [-22.19, -48.79], [-22.19, -48.79], [-22.19, -48.79], [-22.19, -48.79], [-22.19, -48.79], [-18.1, -44.38], [-22.19, -48.79], [-22.25, -42.66], [-15.98, -49.86], [-22.25, -42.66], [-30.17, -53.5], [-22.25, -42.66], [-5.2, -39.53], [-15.98, -49.86], [-18.1, -44.38], [-22.19, -48.79], [-22.19, -48.79], [-22.19, -48.79], [-22.25, -42.66], [-22.19, -48.79], [-22.25, -42.66], [-22.19, -48.79], [-22.25, -42.66], [-13.29, -41.71], [-18.1, -44.38], [-22.25, -42.66], [-22.19, -48.79], [-22.19, -48.79], [-3.79, -52.48], [-22.25, -42.66], [-22.19, -48.79], [-22.19, -48.79], [-18.1, -44.38], [-22.19, -48.79], [-22.19, -48.79], [-22.19, -48.79], [-18.1, -44.38], [-18.1, -44.38], [-18.1, -44.38], [-22.19, -48.79], [-30.17, -53.5], [-15.83, -47.86], [-8.38, -37.86], [-22.19, -48.79], [-13.29, -41.71], [-22.25, -42.66], [-24.89, -51.55], [-22.25, -42.66], [-22.19, -48.79], [-22.19, -48.79], [-22.25, -42.66], [-18.1, -44.38], [-22.19, -48.79], [-22.19, -48.79], [-27.45, -50.95], [-5.2, -39.53], [-18.1, -44.38], [-22.19, -48.79], [-22.25, -42.66], [-30.17, -53.5], [-27.45, -50.95], [-22.19, -48.79], [-22.19, -48.79], [-22.19, -48.79], [-22.19, -48.79], [-18.1, -44.38], [-18.1, -44.38], [-22.19, -48.79], [-18.1, -44.38], [-22.19, -48.79], [-18.1, -44.38], [-30.17, -53.5], [-6.6, -42.28], [-22.19, -48.79], [-19.19, -40.34], [-22.19, -48.79], [-22.25, -42.66], [-30.17, -53.5], [-22.19, -48.79], [-22.25, -42.66], [-22.19, -48.79], [-24.89, -51.55], [-12.64, -55.42], [-22.19, -48.79], [-22.19, -48.79], [-22.19, -48.79], [-22.19, -48.79], [-8.38, -37.86], [-27.45, -50.95], [-22.19, -48.79], [-22.19, -48.79], [-22.25, -42.66], [-24.89, -51.55], [-15.83, -47.86], [-24.89, -51.55], [-5.42, -45.44], [-15.83, -47.86], [-18.1, -44.38], [-22.25, -42.66], [-22.19, -48.79], [-30.17, -53.5], [-22.19, -48.79], [-22.25, -42.66], [-22.19, -48.79], [-8.38, -37.86], [-22.19, -48.79], [-22.19, -48.79], [-22.25, -42.66], [-22.25, -42.66], [-8.38, -37.86], [-22.19, -48.79], [-27.45, -50.95], [-18.1, -44.38], [-30.17, -53.5], [-22.19, -48.79], [-22.19, -48.79], [-22.19, -48.79], [-30.17, -53.5], [-22.19, -48.79], [-18.1, -44.38], [-13.29, -41.71], [-18.1, -44.38], [-13.29, -41.71], [-30.17, -53.5], [-22.19, -48.79], [-22.19, -48.79], [-30.17, -53.5], [-22.19, -48.79], [-22.25, -42.66], [-22.19, -48.79], [-22.25, -42.66], [-22.19, -48.79], [-22.19, -48.79], [-22.19, -48.79], [-22.19, -48.79], [-22.19, -48.79], [-22.19, -48.79], [-5.2, -39.53], [-22.19, -48.79], [-22.19, -48.79], [-22.19, -48.79], [-30.17, -53.5], [-18.1, -44.38], [-22.25, -42.66], [-22.25, -42.66], [-18.1, -44.38], [-18.1, -44.38], [-13.29, -41.71], [-22.19, -48.79], [-30.17, -53.5], [-22.19, -48.79], [-18.1, -44.38], [-15.98, -49.86], [-8.38, -37.86], [-22.25, -42.66], [-15.83, -47.86], [-22.19, -48.79], [-22.19, -48.79], [-22.19, -48.79], [-18.1, -44.38], [-22.19, -48.79], [-18.1, -44.38], [-22.19, -48.79], [-22.25, -42.66], [-22.25, -42.66], [-30.17, -53.5], [-22.25, -42.66], [-22.19, -48.79], [-22.25, -42.66], [-15.98, -49.86], [-27.45, -50.95], [-24.89, -51.55], [-19.19, -40.34], [-18.1, -44.38], [-22.19, -48.79], [-22.19, -48.79], [-22.19, -48.79], [-27.45, -50.95], [-22.19, -48.79], [-30.17, -53.5], [-13.29, -41.71], [-5.2, -39.53], [-22.19, -48.79], [-3.79, -52.48], [-15.83, -47.86], [-22.19, -48.79], [-22.25, -42.66], [-30.17, -53.5], [-22.19, -48.79], [-19.19, -40.34], [-22.19, -48.79], [-18.1, -44.38], [-18.1, -44.38], [-5.81, -36.59], [-22.25, -42.66], [-22.19, -48.79], [-22.25, -42.66], [-9.46, -48.26], [-22.19, -48.79], [-22.19, -48.79], [-15.83, -47.86], [-22.25, -42.66], [-22.19, -48.79], [-22.19, -48.79], [-5.2, -39.53], [-22.19, -48.79], [-30.17, -53.5], [-22.19, -48.79], [-22.19, -48.79], [-22.25, -42.66], [-27.45, -50.95], [-22.19, -48.79], [-18.1, -44.38], [-27.45, -50.95], [-22.19, -48.79], [-22.25, -42.66], [-22.19, -48.79], [-15.83, -47.86], [-22.19, -48.79], [-20.51, -54.54], [-22.19, -48.79], [-22.19, -48.79], [-22.19, -48.79], [-27.45, -50.95], [-15.98, -49.86], [-22.25, -42.66], [-30.17, -53.5], [-8.38, -37.86], [-13.29, -41.71], [-22.19, -48.79], [-22.19, -48.79], [-22.25, -42.66], [-22.19, -48.79], [-22.19, -48.79], [-20.51, -54.54], [-9.46, -48.26], [-22.19, -48.79], [-22.19, -48.79], [-27.45, -50.95], [-22.19, -48.79], [-27.45, -50.95], [-22.25, -42.66], [-24.89, -51.55], [-22.19, -48.79], [-13.29, -41.71], [-8.38, -37.86], [-22.25, -42.66], [-22.19, -48.79], [-22.19, -48.79], [-18.1, -44.38], [-22.19, -48.79], [-24.89, -51.55], [-22.19, -48.79], [-30.17, -53.5], [-22.25, -42.66], [-22.25, -42.66], [-9.62, -36.82], [-18.1, -44.38], [-18.1, -44.38], [-30.17, -53.5], [-22.19, -48.79], [-18.1, -44.38], [-22.19, -48.79], [-7.28, -36.72], [-15.83, -47.86], [-15.98, -49.86], [-22.19, -48.79], [-18.1, -44.38], [-8.38, -37.86], [-22.19, -48.79], [-20.51, -54.54], [-18.1, -44.38], [-22.19, -48.79], [-18.1, -44.38], [-22.19, -48.79], [-22.19, -48.79], [-5.81, -36.59], [-22.19, -48.79], [-22.25, -42.66], [-30.17, -53.5], [-22.19, -48.79], [-22.19, -48.79], [-22.19, -48.79], [-18.1, -44.38], [-30.17, -53.5], [-13.29, -41.71], [-18.1, -44.38], [-22.19, -48.79], [-13.29, -41.71], [-22.25, -42.66], [-22.19, -48.79], [-27.45, -50.95], [-22.19, -48.79], [-24.89, -51.55], [-15.98, -49.86], [-22.19, -48.79], [-22.19, -48.79], [-22.19, -48.79], [-22.19, -48.79], [-22.25, -42.66], [-30.17, -53.5], [-22.19, -48.79], [-22.19, -48.79], [-22.19, -48.79], [-18.1, -44.38], [-22.19, -48.79], [-18.1, -44.38], [-15.98, -49.86], [-22.19, -48.79], [-27.45, -50.95], [-22.19, -48.79], [-22.19, -48.79], [-18.1, -44.38], [-19.19, -40.34], [-22.19, -48.79], [-24.89, -51.55], [-22.19, -48.79], [-22.19, -48.79], [-22.19, -48.79], [-22.19, -48.79], [-22.19, -48.79], [-24.89, -51.55], [-22.19, -48.79], [-22.19, -48.79], [-22.25, -42.66], [-20.51, -54.54], [-22.25, -42.66], [-13.29, -41.71], [-30.17, -53.5], [-19.19, -40.34], [-22.19, -48.79], [-7.28, -36.72], [-22.19, -48.79], [-22.25, -42.66], [-22.19, -48.79], [-22.19, -48.79], [-22.19, -48.79], [-22.19, -48.79], [-27.45, -50.95], [-22.25, -42.66], [-22.19, -48.79], [-18.1, -44.38], [-27.45, -50.95], [-22.19, -48.79], [-22.19, -48.79], [-18.1, -44.38], [-22.19, -48.79], [-18.1, -44.38], [-22.19, -48.79], [-22.19, -48.79], [-24.89, -51.55], [-22.19, -48.79], [-22.19, -48.79], [-22.19, -48.79], [-22.25, -42.66], [-22.25, -42.66], [-15.98, -49.86], [-22.25, -42.66], [-18.1, -44.38], [-22.19, -48.79], [-22.25, -42.66], [-5.42, -45.44], [-22.25, -42.66], [-22.25, -42.66], [-18.1, -44.38], [-22.19, -48.79], [-30.17, -53.5], [-18.1, -44.38], [-18.1, -44.38], [-22.25, -42.66], [-22.25, -42.66], [-22.19, -48.79], [-18.1, -44.38], [-15.98, -49.86], [-15.83, -47.86], [-24.89, -51.55], [-22.19, -48.79], [-22.25, -42.66], [-22.25, -42.66], [-22.19, -48.79], [-22.19, -48.79], [-22.19, -48.79], [-22.25, -42.66], [-22.25, -42.66], [-7.28, -36.72], [-22.19, -48.79], [-22.19, -48.79], [-27.45, -50.95], [-24.89, -51.55], [-22.19, -48.79], [-22.19, -48.79], [-22.19, -48.79], [-18.1, -44.38], [-22.19, -48.79], [-22.19, -48.79], [-22.19, -48.79], [-18.1, -44.38], [-24.89, -51.55], [-27.45, -50.95], [-18.1, -44.38], [-22.19, -48.79], [-18.1, -44.38], [-24.89, -51.55], [-15.83, -47.86], [-22.19, -48.79], [-12.64, -55.42], [-20.51, -54.54], [-22.25, -42.66], [-22.19, -48.79], [-22.19, -48.79], [-22.25, -42.66], [-18.1, -44.38], [-30.17, -53.5], [-24.89, -51.55], [-15.98, -49.86], [-18.1, -44.38], [-18.1, -44.38], [-22.19, -48.79], [-22.19, -48.79], [-18.1, -44.38], [-22.19, -48.79], [-22.25, -42.66], [-15.98, -49.86], [-9.62, -36.82], [-18.1, -44.38], [-22.19, -48.79], [-22.19, -48.79], [-18.1, -44.38], [-22.19, -48.79], [-22.19, -48.79], [-15.98, -49.86], [-20.51, -54.54], [-30.17, -53.5], [-22.19, -48.79], [-22.19, -48.79], [-30.17, -53.5], [-22.19, -48.79], [-15.98, -49.86], [-27.45, -50.95], [-22.19, -48.79], [-24.89, -51.55], [-3.79, -52.48], [-18.1, -44.38], [-9.62, -36.82], [-18.1, -44.38], [-22.25, -42.66], [-18.1, -44.38], [-19.19, -40.34], [-22.19, -48.79], [-7.28, -36.72], [-13.29, -41.71], [-22.25, -42.66], [-18.1, -44.38], [-13.29, -41.71], [-8.38, -37.86], [-22.19, -48.79], [-20.51, -54.54], [-22.19, -48.79], [-22.25, -42.66], [-22.19, -48.79], [-22.19, -48.79], [-22.19, -48.79], [-30.17, -53.5], [-22.19, -48.79], [-5.42, -45.44], [-22.25, -42.66], [-22.19, -48.79], [-18.1, -44.38], [-15.83, -47.86], [-27.45, -50.95], [-15.83, -47.86], [-22.19, -48.79], [-22.19, -48.79], [-30.17, -53.5], [-22.19, -48.79], [-19.19, -40.34], [-18.1, -44.38], [-22.19, -48.79], [-24.89, -51.55], [-22.19, -48.79], [-15.83, -47.86], [-30.17, -53.5], [-22.19, -48.79], [-22.19, -48.79], [-19.19, -40.34], [-18.1, -44.38], [-22.19, -48.79], [-22.19, -48.79], [-22.19, -48.79], [-22.19, -48.79], [-22.25, -42.66], [-22.19, -48.79], [-22.19, -48.79], [-22.19, -48.79], [-22.19, -48.79], [-22.19, -48.79], [-22.25, -42.66], [-22.25, -42.66], [-22.25, -42.66], [-22.19, -48.79], [-19.19, -40.34], [-13.29, -41.71], [-15.98, -49.86], [-5.2, -39.53], [-5.2, -39.53], [-27.45, -50.95], [-22.19, -48.79], [-22.19, -48.79], [-22.19, -48.79], [-22.19, -48.79], [-24.89, -51.55], [-15.83, -47.86], [-18.1, -44.38], [-22.19, -48.79], [-22.25, -42.66], [-22.19, -48.79], [-30.17, -53.5], [-22.19, -48.79], [-5.2, -39.53], [-22.19, -48.79], [-15.83, -47.86], [-22.19, -48.79], [-3.79, -52.48], [-30.17, -53.5], [-18.1, -44.38], [-22.19, -48.79], [-18.1, -44.38], [-18.1, -44.38], [-22.19, -48.79], [-30.17, -53.5], [-27.45, -50.95], [-22.19, -48.79], [-22.19, -48.79], [-22.19, -48.79], [-22.19, -48.79], [-18.1, -44.38], [-18.1, -44.38], [-22.19, -48.79], [-22.19, -48.79], [-22.19, -48.79], [-22.25, -42.66], [-27.45, -50.95], [-22.19, -48.79], [-22.19, -48.79], [-19.19, -40.34], [-22.25, -42.66], [-27.45, -50.95], [-22.19, -48.79], [-22.19, -48.79], [-22.19, -48.79], [-19.19, -40.34], [-22.19, -48.79], [-18.1, -44.38], [-22.19, -48.79], [-18.1, -44.38], [-22.19, -48.79], [-19.19, -40.34], [-22.25, -42.66], [-22.19, -48.79], [-22.19, -48.79], [-22.25, -42.66], [-22.19, -48.79], [-24.89, -51.55], [-22.19, -48.79], [-19.19, -40.34], [-22.19, -48.79], [-27.45, -50.95], [-22.19, -48.79], [-22.19, -48.79], [-22.25, -42.66], [-22.19, -48.79], [-24.89, -51.55], [-27.45, -50.95], [-22.25, -42.66], [-13.29, -41.71], [-22.19, -48.79], [-22.19, -48.79], [-10.57, -37.45], [-18.1, -44.38], [-22.19, -48.79], [-22.19, -48.79], [-3.79, -52.48], [-18.1, -44.38], [-22.19, -48.79], [-22.19, -48.79], [-22.19, -48.79], [-22.19, -48.79], [-18.1, -44.38], [-22.19, -48.79], [-22.19, -48.79], [-22.25, -42.66], [-22.19, -48.79], [-22.19, -48.79], [-15.98, -49.86], [-6.6, -42.28], [-22.19, -48.79], [-22.19, -48.79], [-24.89, -51.55], [-22.19, -48.79], [-22.19, -48.79], [-22.19, -48.79], [-18.1, -44.38], [-18.1, -44.38], [-22.19, -48.79], [-18.1, -44.38], [-18.1, -44.38], [-27.45, -50.95], [-22.25, -42.66], [-15.98, -49.86], [-22.25, -42.66], [-13.29, -41.71], [-24.89, -51.55], [-22.19, -48.79], [-18.1, -44.38], [-27.45, -50.95], [-22.19, -48.79], [-15.98, -49.86], [-18.1, -44.38], [-3.79, -52.48], [-22.19, -48.79], [-22.19, -48.79], [-22.19, -48.79], [-18.1, -44.38], [-9.46, -48.26], [-13.29, -41.71], [-22.19, -48.79], [-22.19, -48.79], [-5.42, -45.44], [-22.25, -42.66], [-22.19, -48.79], [-15.83, -47.86], [-18.1, -44.38], [-18.1, -44.38], [-22.19, -48.79], [-22.25, -42.66], [-10.83, -63.34], [-22.25, -42.66], [-13.29, -41.71], [-3.79, -52.48], [-22.19, -48.79], [-5.2, -39.53], [-22.19, -48.79], [-18.1, -44.38], [-22.19, -48.79], [-22.19, -48.79], [-18.1, -44.38], [-22.19, -48.79], [-22.19, -48.79], [-22.25, -42.66], [-15.98, -49.86], [-15.83, -47.86], [-22.25, -42.66], [-24.89, -51.55], [-15.83, -47.86], [-19.19, -40.34], [-22.19, -48.79], [-8.38, -37.86], [-22.19, -48.79], [-22.19, -48.79], [-22.19, -48.79], [-8.38, -37.86], [-22.25, -42.66], [-22.19, -48.79], [-9.62, -36.82], [-22.19, -48.79], [-20.51, -54.54], [-19.19, -40.34], [-22.19, -48.79], [-22.19, -48.79], [-18.1, -44.38], [-22.19, -48.79], [-24.89, -51.55], [-22.19, -48.79], [-13.29, -41.71], [-15.83, -47.86], [-27.45, -50.95], [-22.19, -48.79], [-5.42, -45.44], [-22.25, -42.66], [-18.1, -44.38], [-18.1, -44.38], [-18.1, -44.38], [-22.19, -48.79], [-22.19, -48.79], [-27.45, -50.95], [-15.83, -47.86], [-22.19, -48.79], [-22.19, -48.79], [-19.19, -40.34], [-22.25, -42.66], [-18.1, -44.38], [-22.19, -48.79], [-22.25, -42.66], [-5.2, -39.53], [-18.1, -44.38], [-22.25, -42.66], [-22.25, -42.66], [-30.17, -53.5], [-24.89, -51.55], [-22.19, -48.79], [-22.19, -48.79], [-19.19, -40.34], [-27.45, -50.95], [-22.25, -42.66], [-18.1, -44.38], [-3.47, -65.1], [-12.64, -55.42], [-22.25, -42.66], [-22.19, -48.79], [-22.19, -48.79], [-18.1, -44.38], [-22.25, -42.66], [-22.19, -48.79], [-5.2, -39.53], [-22.19, -48.79], [-22.25, -42.66], [-22.19, -48.79], [-22.19, -48.79], [-18.1, -44.38], [-22.19, -48.79], [-8.38, -37.86], [-22.25, -42.66], [-22.25, -42.66], [-18.1, -44.38], [-22.19, -48.79], [-22.19, -48.79], [-22.19, -48.79], [-24.89, -51.55], [-15.98, -49.86], [-22.19, -48.79], [-5.2, -39.53], [-30.17, -53.5], [-24.89, -51.55], [-22.19, -48.79], [-18.1, -44.38], [-22.19, -48.79], [-22.25, -42.66], [-24.89, -51.55], [-24.89, -51.55], [-13.29, -41.71], [-15.83, -47.86], [-19.19, -40.34], [-22.19, -48.79], [-22.25, -42.66], [-15.98, -49.86], [-22.25, -42.66], [-13.29, -41.71], [-22.19, -48.79], [-13.29, -41.71], [-30.17, -53.5], [-30.17, -53.5], [-18.1, -44.38], [-22.19, -48.79], [-30.17, -53.5], [-18.1, -44.38], [-22.25, -42.66], [-22.25, -42.66], [-22.19, -48.79], [-22.19, -48.79], [-22.19, -48.79], [-22.25, -42.66], [-24.89, -51.55], [-15.83, -47.86], [-22.25, -42.66], [-22.19, -48.79], [-8.38, -37.86], [-22.19, -48.79], [-22.19, -48.79], [-22.19, -48.79], [-22.19, -48.79], [-24.89, -51.55], [-27.45, -50.95], [-24.89, -51.55], [-22.19, -48.79], [-22.19, -48.79], [-22.19, -48.79], [-15.98, -49.86], [-9.46, -48.26], [-22.19, -48.79], [-22.19, -48.79], [-22.19, -48.79], [-22.19, -48.79], [-22.19, -48.79], [-22.25, -42.66], [-22.19, -48.79], [-22.19, -48.79], [-30.17, -53.5], [-22.19, -48.79], [-19.19, -40.34], [-22.19, -48.79], [-22.19, -48.79], [-22.19, -48.79], [-22.19, -48.79], [-22.19, -48.79], [-13.29, -41.71], [-22.19, -48.79], [-18.1, -44.38], [-15.83, -47.86], [-15.83, -47.86], [-15.83, -47.86], [-22.19, -48.79], [-12.64, -55.42], [-22.25, -42.66], [-30.17, -53.5], [-22.19, -48.79], [-22.19, -48.79], [-5.81, -36.59], [-22.25, -42.66], [-22.25, -42.66], [-22.19, -48.79], [-30.17, -53.5], [-22.19, -48.79], [-27.45, -50.95], [-22.19, -48.79], [-20.51, -54.54], [-22.19, -48.79], [-22.19, -48.79], [-5.2, -39.53], [-22.25, -42.66], [-22.19, -48.79], [-22.19, -48.79], [-24.89, -51.55], [-22.19, -48.79], [-18.1, -44.38], [-27.45, -50.95], [-18.1, -44.38], [-30.17, -53.5], [-22.25, -42.66], [-22.19, -48.79], [-22.19, -48.79], [-13.29, -41.71], [-22.19, -48.79], [-22.25, -42.66], [-22.25, -42.66], [-30.17, -53.5], [-22.25, -42.66], [-18.1, -44.38], [-3.79, -52.48], [-22.19, -48.79], [-22.19, -48.79], [-22.25, -42.66], [-22.25, -42.66], [-8.38, -37.86], [-22.19, -48.79], [-22.19, -48.79], [-22.19, -48.79], [-30.17, -53.5], [-9.62, -36.82], [-22.19, -48.79], [-22.19, -48.79], [-22.19, -48.79], [-22.25, -42.66], [-15.83, -47.86], [-22.25, -42.66], [-22.19, -48.79], [-24.89, -51.55], [-24.89, -51.55], [-22.25, -42.66], [-22.19, -48.79], [-22.25, -42.66], [-22.19, -48.79], [-18.1, -44.38], [-5.2, -39.53], [-22.25, -42.66], [-18.1, -44.38], [-18.1, -44.38], [-18.1, -44.38], [-30.17, -53.5], [-18.1, -44.38], [-24.89, -51.55], [-22.19, -48.79], [-24.89, -51.55], [-5.42, -45.44], [-8.38, -37.86], [-27.45, -50.95], [-22.25, -42.66], [-8.77, -70.55], [-30.17, -53.5], [-22.25, -42.66], [-22.19, -48.79], [-22.19, -48.79], [-7.28, -36.72], [-22.19, -48.79], [-22.19, -48.79], [-22.19, -48.79], [-22.19, -48.79], [-22.19, -48.79], [-5.2, -39.53], [-18.1, -44.38], [-22.19, -48.79], [-22.19, -48.79], [-15.83, -47.86], [-22.19, -48.79], [-22.19, -48.79], [-22.19, -48.79], [-15.83, -47.86], [-30.17, -53.5], [-13.29, -41.71], [-12.64, -55.42], [-22.25, -42.66], [-22.19, -48.79], [-22.19, -48.79], [-22.19, -48.79], [-22.25, -42.66], [-18.1, -44.38], [-22.19, -48.79], [-13.29, -41.71], [-22.19, -48.79], [-22.19, -48.79], [-22.19, -48.79], [-18.1, -44.38], [-15.83, -47.86], [-22.25, -42.66], [-5.2, -39.53], [-22.19, -48.79], [-8.38, -37.86], [-22.19, -48.79], [-22.25, -42.66], [-30.17, -53.5], [-22.25, -42.66], [1.99, -61.33], [-27.45, -50.95], [-22.19, -48.79], [-9.62, -36.82], [-22.25, -42.66], [-22.19, -48.79], [-22.19, -48.79], [-15.83, -47.86], [-22.19, -48.79], [-30.17, -53.5], [-9.62, -36.82], [-24.89, -51.55], [-18.1, -44.38], [-22.19, -48.79], [-13.29, -41.71], [-22.19, -48.79], [-22.19, -48.79], [-3.47, -65.1], [-18.1, -44.38], [-5.2, -39.53], [-22.19, -48.79], [-7.28, -36.72], [-22.19, -48.79], [-13.29, -41.71], [-22.19, -48.79], [-8.38, -37.86], [-22.19, -48.79], [-22.19, -48.79], [-22.19, -48.79], [-5.81, -36.59], [-22.19, -48.79], [-27.45, -50.95], [-22.19, -48.79], [-27.45, -50.95], [-18.1, -44.38], [-22.19, -48.79], [-22.19, -48.79], [-27.45, -50.95], [-22.19, -48.79], [-22.19, -48.79], [-30.17, -53.5], [-22.19, -48.79], [-22.19, -48.79], [-13.29, -41.71], [-22.19, -48.79], [-27.45, -50.95], [-18.1, -44.38], [-30.17, -53.5], [-15.83, -47.86], [-30.17, -53.5], [-22.25, -42.66], [-22.19, -48.79], [-22.25, -42.66], [-22.19, -48.79], [-8.38, -37.86], [-22.19, -48.79], [-18.1, -44.38], [-22.25, -42.66], [-7.28, -36.72], [-22.19, -48.79], [-22.19, -48.79], [-30.17, -53.5], [-22.19, -48.79], [-12.64, -55.42], [-22.19, -48.79], [-22.19, -48.79], [-22.19, -48.79], [-22.25, -42.66], [-18.1, -44.38], [-18.1, -44.38], [-27.45, -50.95], [-24.89, -51.55], [-22.25, -42.66], [-18.1, -44.38], [-18.1, -44.38], [-22.19, -48.79], [-20.51, -54.54], [-27.45, -50.95], [-22.19, -48.79], [-18.1, -44.38], [-22.19, -48.79], [-27.45, -50.95], [-18.1, -44.38], [-22.25, -42.66], [-30.17, -53.5], [-22.19, -48.79], [-15.98, -49.86], [-22.19, -48.79], [-22.19, -48.79], [-22.19, -48.79], [-22.19, -48.79], [-22.25, -42.66], [-22.19, -48.79], [-18.1, -44.38], [-22.19, -48.79], [-30.17, -53.5], [-22.25, -42.66], [-22.19, -48.79], [-18.1, -44.38], [-18.1, -44.38], [-22.19, -48.79], [-22.19, -48.79], [-22.19, -48.79], [-18.1, -44.38], [-22.19, -48.79], [-22.19, -48.79], [-30.17, -53.5], [-22.25, -42.66], [-27.45, -50.95], [-18.1, -44.38], [-27.45, -50.95], [-30.17, -53.5], [-22.19, -48.79], [-12.64, -55.42], [-12.64, -55.42], [-22.19, -48.79], [-22.25, -42.66], [-22.19, -48.79], [-22.19, -48.79], [-19.19, -40.34], [-22.19, -48.79], [-18.1, -44.38], [-30.17, -53.5], [-22.19, -48.79], [-18.1, -44.38], [-5.42, -45.44], [-30.17, -53.5], [-27.45, -50.95], [-18.1, -44.38], [-22.19, -48.79], [-22.19, -48.79], [-18.1, -44.38], [-22.19, -48.79], [-24.89, -51.55], [-22.19, -48.79], [-30.17, -53.5], [-18.1, -44.38], [-30.17, -53.5], [-18.1, -44.38], [-24.89, -51.55], [-22.19, -48.79], [-3.79, -52.48], [-22.19, -48.79], [-22.19, -48.79], [-22.19, -48.79], [-22.19, -48.79], [-22.19, -48.79], [-22.25, -42.66], [-22.25, -42.66], [-13.29, -41.71], [-22.19, -48.79], [-5.2, -39.53], [-22.25, -42.66], [-18.1, -44.38], [-22.19, -48.79], [-27.45, -50.95], [-15.98, -49.86], [-5.42, -45.44], [-22.19, -48.79], [-22.25, -42.66], [-30.17, -53.5], [-22.19, -48.79], [-22.25, -42.66], [-22.19, -48.79], [-18.1, -44.38], [-22.19, -48.79], [-27.45, -50.95], [-30.17, -53.5], [-22.19, -48.79], [-13.29, -41.71], [-22.19, -48.79], [-22.19, -48.79], [-7.28, -36.72], [-13.29, -41.71], [-22.25, -42.66], [-22.19, -48.79], [-22.25, -42.66], [-13.29, -41.71], [-22.19, -48.79], [-18.1, -44.38], [-24.89, -51.55], [-5.2, -39.53], [-22.19, -48.79], [-22.25, -42.66], [-15.98, -49.86], [-22.19, -48.79], [-22.19, -48.79], [-22.19, -48.79], [-22.25, -42.66], [-13.29, -41.71], [-22.19, -48.79], [-22.19, -48.79], [-22.25, -42.66], [-18.1, -44.38]],\n",
              "                {\n",
              "  &quot;minOpacity&quot;: 0.5,\n",
              "  &quot;maxZoom&quot;: 18,\n",
              "  &quot;radius&quot;: 25,\n",
              "  &quot;blur&quot;: 15,\n",
              "}\n",
              "            );\n",
              "        \n",
              "    \n",
              "            heat_map_4b67b5625cd0a1c225550a8feffe51bd.addTo(map_e8509e1cce478f2478c7aba05d06362a);\n",
              "        \n",
              "&lt;/script&gt;\n",
              "&lt;/html&gt;\" style=\"position:absolute;width:100%;height:100%;left:0;top:0;border:none !important;\" allowfullscreen webkitallowfullscreen mozallowfullscreen></iframe></div></div>"
            ]
          },
          "metadata": {},
          "execution_count": 160
        }
      ]
    },
    {
      "cell_type": "markdown",
      "source": [
        "###3. Loja 3 - Análise geográfica de vendas"
      ],
      "metadata": {
        "id": "G4WhuK0pul29"
      }
    },
    {
      "cell_type": "code",
      "source": [
        "coords = loja3[['lat', 'lon']].values.tolist()\n",
        "\n",
        "mapa = folium.Map(\n",
        "    location=[loja3['lat'].mean(), loja3['lon'].mean()],\n",
        "    zoom_start=4,\n",
        "    min_zoom=4,\n",
        "    max_zoom=4,\n",
        "    zoom_control=False\n",
        ")\n",
        "\n",
        "HeatMap(coords).add_to(mapa)\n",
        "\n",
        "mapa"
      ],
      "metadata": {
        "colab": {
          "base_uri": "https://localhost:8080/",
          "height": 838
        },
        "id": "1ekUj0Zduof-",
        "outputId": "fd0fede4-0dba-4445-989f-05082cc61a77"
      },
      "execution_count": 161,
      "outputs": [
        {
          "output_type": "execute_result",
          "data": {
            "text/plain": [
              "<folium.folium.Map at 0x7a514f4ebd50>"
            ],
            "text/html": [
              "<div style=\"width:100%;\"><div style=\"position:relative;width:100%;height:0;padding-bottom:60%;\"><span style=\"color:#565656\">Make this Notebook Trusted to load map: File -> Trust Notebook</span><iframe srcdoc=\"&lt;!DOCTYPE html&gt;\n",
              "&lt;html&gt;\n",
              "&lt;head&gt;\n",
              "    \n",
              "    &lt;meta http-equiv=&quot;content-type&quot; content=&quot;text/html; charset=UTF-8&quot; /&gt;\n",
              "    &lt;script src=&quot;https://cdn.jsdelivr.net/npm/leaflet@1.9.3/dist/leaflet.js&quot;&gt;&lt;/script&gt;\n",
              "    &lt;script src=&quot;https://code.jquery.com/jquery-3.7.1.min.js&quot;&gt;&lt;/script&gt;\n",
              "    &lt;script src=&quot;https://cdn.jsdelivr.net/npm/bootstrap@5.2.2/dist/js/bootstrap.bundle.min.js&quot;&gt;&lt;/script&gt;\n",
              "    &lt;script src=&quot;https://cdnjs.cloudflare.com/ajax/libs/Leaflet.awesome-markers/2.0.2/leaflet.awesome-markers.js&quot;&gt;&lt;/script&gt;\n",
              "    &lt;link rel=&quot;stylesheet&quot; href=&quot;https://cdn.jsdelivr.net/npm/leaflet@1.9.3/dist/leaflet.css&quot;/&gt;\n",
              "    &lt;link rel=&quot;stylesheet&quot; href=&quot;https://cdn.jsdelivr.net/npm/bootstrap@5.2.2/dist/css/bootstrap.min.css&quot;/&gt;\n",
              "    &lt;link rel=&quot;stylesheet&quot; href=&quot;https://netdna.bootstrapcdn.com/bootstrap/3.0.0/css/bootstrap-glyphicons.css&quot;/&gt;\n",
              "    &lt;link rel=&quot;stylesheet&quot; href=&quot;https://cdn.jsdelivr.net/npm/@fortawesome/fontawesome-free@6.2.0/css/all.min.css&quot;/&gt;\n",
              "    &lt;link rel=&quot;stylesheet&quot; href=&quot;https://cdnjs.cloudflare.com/ajax/libs/Leaflet.awesome-markers/2.0.2/leaflet.awesome-markers.css&quot;/&gt;\n",
              "    &lt;link rel=&quot;stylesheet&quot; href=&quot;https://cdn.jsdelivr.net/gh/python-visualization/folium/folium/templates/leaflet.awesome.rotate.min.css&quot;/&gt;\n",
              "    \n",
              "            &lt;meta name=&quot;viewport&quot; content=&quot;width=device-width,\n",
              "                initial-scale=1.0, maximum-scale=1.0, user-scalable=no&quot; /&gt;\n",
              "            &lt;style&gt;\n",
              "                #map_e9191b1de466d91911d642205e8bd9c8 {\n",
              "                    position: relative;\n",
              "                    width: 100.0%;\n",
              "                    height: 100.0%;\n",
              "                    left: 0.0%;\n",
              "                    top: 0.0%;\n",
              "                }\n",
              "                .leaflet-container { font-size: 1rem; }\n",
              "            &lt;/style&gt;\n",
              "\n",
              "            &lt;style&gt;html, body {\n",
              "                width: 100%;\n",
              "                height: 100%;\n",
              "                margin: 0;\n",
              "                padding: 0;\n",
              "            }\n",
              "            &lt;/style&gt;\n",
              "\n",
              "            &lt;style&gt;#map {\n",
              "                position:absolute;\n",
              "                top:0;\n",
              "                bottom:0;\n",
              "                right:0;\n",
              "                left:0;\n",
              "                }\n",
              "            &lt;/style&gt;\n",
              "\n",
              "            &lt;script&gt;\n",
              "                L_NO_TOUCH = false;\n",
              "                L_DISABLE_3D = false;\n",
              "            &lt;/script&gt;\n",
              "\n",
              "        \n",
              "    &lt;script src=&quot;https://cdn.jsdelivr.net/gh/python-visualization/folium@main/folium/templates/leaflet_heat.min.js&quot;&gt;&lt;/script&gt;\n",
              "&lt;/head&gt;\n",
              "&lt;body&gt;\n",
              "    \n",
              "    \n",
              "            &lt;div class=&quot;folium-map&quot; id=&quot;map_e9191b1de466d91911d642205e8bd9c8&quot; &gt;&lt;/div&gt;\n",
              "        \n",
              "&lt;/body&gt;\n",
              "&lt;script&gt;\n",
              "    \n",
              "    \n",
              "            var map_e9191b1de466d91911d642205e8bd9c8 = L.map(\n",
              "                &quot;map_e9191b1de466d91911d642205e8bd9c8&quot;,\n",
              "                {\n",
              "                    center: [-20.405396354387452, -47.12923272573124],\n",
              "                    crs: L.CRS.EPSG3857,\n",
              "                    ...{\n",
              "  &quot;zoom&quot;: 4,\n",
              "  &quot;zoomControl&quot;: false,\n",
              "  &quot;preferCanvas&quot;: false,\n",
              "}\n",
              "\n",
              "                }\n",
              "            );\n",
              "\n",
              "            \n",
              "\n",
              "        \n",
              "    \n",
              "            var tile_layer_a4816f8dd6abb6842269169b028ba688 = L.tileLayer(\n",
              "                &quot;https://tile.openstreetmap.org/{z}/{x}/{y}.png&quot;,\n",
              "                {\n",
              "  &quot;minZoom&quot;: 4,\n",
              "  &quot;maxZoom&quot;: 4,\n",
              "  &quot;maxNativeZoom&quot;: 4,\n",
              "  &quot;noWrap&quot;: false,\n",
              "  &quot;attribution&quot;: &quot;\\u0026copy; \\u003ca href=\\&quot;https://www.openstreetmap.org/copyright\\&quot;\\u003eOpenStreetMap\\u003c/a\\u003e contributors&quot;,\n",
              "  &quot;subdomains&quot;: &quot;abc&quot;,\n",
              "  &quot;detectRetina&quot;: false,\n",
              "  &quot;tms&quot;: false,\n",
              "  &quot;opacity&quot;: 1,\n",
              "}\n",
              "\n",
              "            );\n",
              "        \n",
              "    \n",
              "            tile_layer_a4816f8dd6abb6842269169b028ba688.addTo(map_e9191b1de466d91911d642205e8bd9c8);\n",
              "        \n",
              "    \n",
              "            var heat_map_9a80ed47f79d1fce46f1b7a10a0dafa9 = L.heatLayer(\n",
              "                [[-5.2, -39.53], [-30.17, -53.5], [-22.19, -48.79], [-13.29, -41.71], [-22.19, -48.79], [-18.1, -44.38], [-22.19, -48.79], [-22.19, -48.79], [-18.1, -44.38], [-22.25, -42.66], [-6.6, -42.28], [-15.98, -49.86], [-18.1, -44.38], [-30.17, -53.5], [-5.2, -39.53], [-22.19, -48.79], [-22.19, -48.79], [-22.19, -48.79], [-22.19, -48.79], [-8.38, -37.86], [-15.83, -47.86], [-19.19, -40.34], [-22.25, -42.66], [-22.19, -48.79], [-22.25, -42.66], [-3.79, -52.48], [-13.29, -41.71], [-15.83, -47.86], [-22.19, -48.79], [-22.19, -48.79], [-22.19, -48.79], [-18.1, -44.38], [-18.1, -44.38], [-22.19, -48.79], [-19.19, -40.34], [-22.19, -48.79], [-22.19, -48.79], [-22.19, -48.79], [-22.19, -48.79], [-22.25, -42.66], [-22.19, -48.79], [-22.19, -48.79], [-15.98, -49.86], [-22.19, -48.79], [-22.19, -48.79], [-22.19, -48.79], [-18.1, -44.38], [-13.29, -41.71], [-22.19, -48.79], [-22.19, -48.79], [-27.45, -50.95], [-22.19, -48.79], [-15.98, -49.86], [-13.29, -41.71], [-22.19, -48.79], [-22.19, -48.79], [-18.1, -44.38], [-22.19, -48.79], [-22.19, -48.79], [-22.19, -48.79], [-22.19, -48.79], [-22.25, -42.66], [-15.83, -47.86], [-30.17, -53.5], [-22.19, -48.79], [-27.45, -50.95], [-22.19, -48.79], [-22.19, -48.79], [-15.98, -49.86], [-19.19, -40.34], [-30.17, -53.5], [-18.1, -44.38], [-22.19, -48.79], [-18.1, -44.38], [-22.19, -48.79], [-22.19, -48.79], [-15.83, -47.86], [-22.19, -48.79], [-30.17, -53.5], [-22.19, -48.79], [-22.19, -48.79], [-22.19, -48.79], [-22.19, -48.79], [-18.1, -44.38], [-24.89, -51.55], [-22.25, -42.66], [-30.17, -53.5], [-22.19, -48.79], [-22.19, -48.79], [-15.98, -49.86], [-18.1, -44.38], [-5.81, -36.59], [-22.19, -48.79], [-19.19, -40.34], [-22.19, -48.79], [-15.98, -49.86], [-30.17, -53.5], [-22.19, -48.79], [-22.19, -48.79], [-3.79, -52.48], [-22.19, -48.79], [-30.17, -53.5], [-27.45, -50.95], [-22.19, -48.79], [-9.46, -48.26], [-22.19, -48.79], [-22.19, -48.79], [-22.19, -48.79], [-22.25, -42.66], [-18.1, -44.38], [-22.25, -42.66], [-22.19, -48.79], [-15.98, -49.86], [-22.19, -48.79], [-22.25, -42.66], [-22.19, -48.79], [-13.29, -41.71], [-24.89, -51.55], [-22.19, -48.79], [-5.2, -39.53], [-18.1, -44.38], [-15.98, -49.86], [-18.1, -44.38], [-22.19, -48.79], [-22.25, -42.66], [-22.19, -48.79], [-22.19, -48.79], [-22.19, -48.79], [-22.19, -48.79], [-22.19, -48.79], [-8.38, -37.86], [-22.19, -48.79], [-22.19, -48.79], [-22.19, -48.79], [-18.1, -44.38], [-22.25, -42.66], [-18.1, -44.38], [-18.1, -44.38], [-22.25, -42.66], [-22.25, -42.66], [-30.17, -53.5], [-22.19, -48.79], [-22.19, -48.79], [-5.2, -39.53], [-22.19, -48.79], [-22.19, -48.79], [-22.19, -48.79], [-22.19, -48.79], [-22.19, -48.79], [-22.19, -48.79], [-22.19, -48.79], [-5.2, -39.53], [-18.1, -44.38], [-22.19, -48.79], [-22.19, -48.79], [-30.17, -53.5], [-22.19, -48.79], [-27.45, -50.95], [-22.19, -48.79], [-22.19, -48.79], [-15.83, -47.86], [-22.19, -48.79], [-24.89, -51.55], [-12.64, -55.42], [-22.19, -48.79], [-22.19, -48.79], [-22.19, -48.79], [-13.29, -41.71], [-22.25, -42.66], [-22.19, -48.79], [-8.38, -37.86], [-6.6, -42.28], [-22.25, -42.66], [-24.89, -51.55], [-22.19, -48.79], [-12.64, -55.42], [-19.19, -40.34], [-10.57, -37.45], [-15.83, -47.86], [-22.19, -48.79], [-30.17, -53.5], [-18.1, -44.38], [-22.19, -48.79], [-27.45, -50.95], [-15.98, -49.86], [-13.29, -41.71], [-30.17, -53.5], [-22.19, -48.79], [-22.19, -48.79], [-22.19, -48.79], [-27.45, -50.95], [-22.19, -48.79], [-22.19, -48.79], [-22.19, -48.79], [-22.25, -42.66], [-5.81, -36.59], [-22.19, -48.79], [-22.25, -42.66], [-22.25, -42.66], [-8.38, -37.86], [-13.29, -41.71], [-22.19, -48.79], [-18.1, -44.38], [-22.19, -48.79], [-6.6, -42.28], [-22.25, -42.66], [-9.62, -36.82], [-24.89, -51.55], [-22.19, -48.79], [-22.19, -48.79], [-24.89, -51.55], [-22.19, -48.79], [-30.17, -53.5], [-12.64, -55.42], [-22.19, -48.79], [-22.19, -48.79], [-22.19, -48.79], [-22.19, -48.79], [-27.45, -50.95], [-22.19, -48.79], [-22.25, -42.66], [-22.19, -48.79], [-30.17, -53.5], [-18.1, -44.38], [-22.19, -48.79], [-27.45, -50.95], [-22.19, -48.79], [-8.38, -37.86], [-27.45, -50.95], [-22.19, -48.79], [-22.19, -48.79], [-22.19, -48.79], [-22.25, -42.66], [-22.19, -48.79], [-22.19, -48.79], [-22.19, -48.79], [-22.19, -48.79], [-22.25, -42.66], [-8.38, -37.86], [-18.1, -44.38], [-10.83, -63.34], [-8.38, -37.86], [-15.98, -49.86], [-22.19, -48.79], [-22.19, -48.79], [-18.1, -44.38], [-22.19, -48.79], [-15.98, -49.86], [-22.19, -48.79], [-22.25, -42.66], [-24.89, -51.55], [-22.25, -42.66], [-15.83, -47.86], [-22.19, -48.79], [-22.19, -48.79], [-22.25, -42.66], [-22.19, -48.79], [-22.19, -48.79], [-22.19, -48.79], [-22.19, -48.79], [-22.25, -42.66], [-15.83, -47.86], [-22.19, -48.79], [-15.83, -47.86], [-22.19, -48.79], [-18.1, -44.38], [-20.51, -54.54], [-22.19, -48.79], [-18.1, -44.38], [-19.19, -40.34], [-22.19, -48.79], [-22.19, -48.79], [-22.25, -42.66], [-22.25, -42.66], [-22.19, -48.79], [-30.17, -53.5], [-30.17, -53.5], [-12.64, -55.42], [-22.25, -42.66], [-22.19, -48.79], [-22.19, -48.79], [-18.1, -44.38], [-30.17, -53.5], [-22.19, -48.79], [-19.19, -40.34], [-22.19, -48.79], [-18.1, -44.38], [-22.19, -48.79], [-22.19, -48.79], [-22.19, -48.79], [-22.19, -48.79], [-22.19, -48.79], [-22.19, -48.79], [-18.1, -44.38], [-15.98, -49.86], [-19.19, -40.34], [-22.25, -42.66], [-22.19, -48.79], [-3.79, -52.48], [-22.19, -48.79], [-22.19, -48.79], [-18.1, -44.38], [-15.83, -47.86], [-19.19, -40.34], [-12.64, -55.42], [-22.19, -48.79], [-18.1, -44.38], [-22.19, -48.79], [-22.19, -48.79], [-9.62, -36.82], [-24.89, -51.55], [-22.25, -42.66], [-22.19, -48.79], [-22.19, -48.79], [-22.19, -48.79], [-3.79, -52.48], [-22.19, -48.79], [-22.19, -48.79], [-5.2, -39.53], [-22.19, -48.79], [-19.19, -40.34], [-22.19, -48.79], [-18.1, -44.38], [-22.19, -48.79], [-18.1, -44.38], [-22.19, -48.79], [-5.2, -39.53], [-22.19, -48.79], [-18.1, -44.38], [-30.17, -53.5], [-27.45, -50.95], [-22.19, -48.79], [-22.25, -42.66], [-5.2, -39.53], [-18.1, -44.38], [-22.19, -48.79], [-18.1, -44.38], [-13.29, -41.71], [-24.89, -51.55], [-22.19, -48.79], [-24.89, -51.55], [-5.2, -39.53], [-22.19, -48.79], [-13.29, -41.71], [-13.29, -41.71], [-18.1, -44.38], [-18.1, -44.38], [-22.19, -48.79], [-18.1, -44.38], [-22.19, -48.79], [-24.89, -51.55], [-22.25, -42.66], [-22.19, -48.79], [-22.25, -42.66], [-22.19, -48.79], [-22.19, -48.79], [-22.19, -48.79], [-5.81, -36.59], [-22.25, -42.66], [-22.19, -48.79], [-18.1, -44.38], [-27.45, -50.95], [-22.25, -42.66], [-22.19, -48.79], [-5.2, -39.53], [-3.79, -52.48], [-22.25, -42.66], [-27.45, -50.95], [-22.19, -48.79], [-27.45, -50.95], [-22.25, -42.66], [-22.19, -48.79], [-22.19, -48.79], [-22.19, -48.79], [-12.64, -55.42], [-18.1, -44.38], [-24.89, -51.55], [-18.1, -44.38], [-24.89, -51.55], [-22.19, -48.79], [-19.19, -40.34], [-22.19, -48.79], [-22.25, -42.66], [-27.45, -50.95], [-22.19, -48.79], [-24.89, -51.55], [-22.25, -42.66], [-22.19, -48.79], [-24.89, -51.55], [-22.19, -48.79], [-22.19, -48.79], [-22.19, -48.79], [-18.1, -44.38], [-22.19, -48.79], [-22.19, -48.79], [-19.19, -40.34], [-22.19, -48.79], [-22.19, -48.79], [-22.19, -48.79], [-22.19, -48.79], [-13.29, -41.71], [-30.17, -53.5], [-22.25, -42.66], [-22.19, -48.79], [-22.19, -48.79], [-22.19, -48.79], [-30.17, -53.5], [-5.2, -39.53], [-30.17, -53.5], [-5.2, -39.53], [-24.89, -51.55], [-30.17, -53.5], [-22.19, -48.79], [-18.1, -44.38], [-22.19, -48.79], [-15.83, -47.86], [-18.1, -44.38], [-22.19, -48.79], [-22.19, -48.79], [-24.89, -51.55], [-22.19, -48.79], [-27.45, -50.95], [-30.17, -53.5], [-22.19, -48.79], [-22.19, -48.79], [-13.29, -41.71], [-18.1, -44.38], [-13.29, -41.71], [-22.19, -48.79], [-13.29, -41.71], [-24.89, -51.55], [-24.89, -51.55], [-22.19, -48.79], [-18.1, -44.38], [-22.19, -48.79], [-22.19, -48.79], [-30.17, -53.5], [-22.25, -42.66], [-12.64, -55.42], [-10.83, -63.34], [-30.17, -53.5], [-22.19, -48.79], [-15.83, -47.86], [-30.17, -53.5], [-22.19, -48.79], [-22.19, -48.79], [-18.1, -44.38], [-22.25, -42.66], [-18.1, -44.38], [-22.19, -48.79], [-22.19, -48.79], [-18.1, -44.38], [-22.25, -42.66], [-22.19, -48.79], [-22.25, -42.66], [-18.1, -44.38], [-18.1, -44.38], [-13.29, -41.71], [-24.89, -51.55], [-22.25, -42.66], [-22.19, -48.79], [-13.29, -41.71], [-24.89, -51.55], [-22.19, -48.79], [-22.19, -48.79], [-22.19, -48.79], [-22.19, -48.79], [-3.47, -65.1], [-27.45, -50.95], [-13.29, -41.71], [-18.1, -44.38], [-5.81, -36.59], [-10.83, -63.34], [-30.17, -53.5], [-22.19, -48.79], [-15.98, -49.86], [-27.45, -50.95], [-30.17, -53.5], [-22.25, -42.66], [-22.19, -48.79], [-15.98, -49.86], [-18.1, -44.38], [-19.19, -40.34], [-18.1, -44.38], [-22.19, -48.79], [-15.98, -49.86], [-22.19, -48.79], [-18.1, -44.38], [-22.19, -48.79], [-18.1, -44.38], [-24.89, -51.55], [-27.45, -50.95], [-6.6, -42.28], [-22.25, -42.66], [-30.17, -53.5], [-13.29, -41.71], [-24.89, -51.55], [-18.1, -44.38], [-22.19, -48.79], [-22.19, -48.79], [-22.19, -48.79], [-5.81, -36.59], [-24.89, -51.55], [-22.25, -42.66], [-22.19, -48.79], [-30.17, -53.5], [-18.1, -44.38], [-18.1, -44.38], [-22.19, -48.79], [-18.1, -44.38], [-18.1, -44.38], [-27.45, -50.95], [-22.19, -48.79], [-22.25, -42.66], [-22.25, -42.66], [-22.19, -48.79], [-22.19, -48.79], [-22.25, -42.66], [-19.19, -40.34], [-22.19, -48.79], [-19.19, -40.34], [-22.25, -42.66], [-22.19, -48.79], [-22.19, -48.79], [-22.19, -48.79], [-27.45, -50.95], [-22.25, -42.66], [-22.19, -48.79], [-22.25, -42.66], [-22.19, -48.79], [-22.25, -42.66], [-22.19, -48.79], [-22.19, -48.79], [-22.19, -48.79], [-18.1, -44.38], [-27.45, -50.95], [-22.25, -42.66], [-22.19, -48.79], [-22.19, -48.79], [-18.1, -44.38], [-22.25, -42.66], [-22.19, -48.79], [-22.19, -48.79], [-12.64, -55.42], [-30.17, -53.5], [-30.17, -53.5], [-13.29, -41.71], [-18.1, -44.38], [-22.19, -48.79], [-22.19, -48.79], [-19.19, -40.34], [-15.83, -47.86], [-30.17, -53.5], [-22.19, -48.79], [-22.19, -48.79], [-8.38, -37.86], [-22.19, -48.79], [-22.19, -48.79], [-22.19, -48.79], [-18.1, -44.38], [-22.25, -42.66], [-22.19, -48.79], [-22.19, -48.79], [-22.19, -48.79], [-22.19, -48.79], [-18.1, -44.38], [-24.89, -51.55], [-24.89, -51.55], [-22.19, -48.79], [-18.1, -44.38], [-5.42, -45.44], [-18.1, -44.38], [-22.19, -48.79], [-30.17, -53.5], [-22.25, -42.66], [-19.19, -40.34], [-5.42, -45.44], [-22.25, -42.66], [-22.19, -48.79], [-22.19, -48.79], [-30.17, -53.5], [-22.25, -42.66], [-22.25, -42.66], [-19.19, -40.34], [-15.83, -47.86], [-24.89, -51.55], [-22.25, -42.66], [-22.19, -48.79], [-22.19, -48.79], [-22.19, -48.79], [-22.25, -42.66], [-8.38, -37.86], [-8.38, -37.86], [-5.81, -36.59], [-15.98, -49.86], [-18.1, -44.38], [-22.19, -48.79], [-24.89, -51.55], [-18.1, -44.38], [-5.81, -36.59], [-18.1, -44.38], [-22.19, -48.79], [-18.1, -44.38], [-20.51, -54.54], [-22.19, -48.79], [-22.19, -48.79], [-22.19, -48.79], [-30.17, -53.5], [-22.19, -48.79], [-18.1, -44.38], [-24.89, -51.55], [-22.19, -48.79], [-22.19, -48.79], [-22.19, -48.79], [-22.25, -42.66], [-22.19, -48.79], [-30.17, -53.5], [-22.19, -48.79], [-22.19, -48.79], [-20.51, -54.54], [-22.25, -42.66], [-22.19, -48.79], [-13.29, -41.71], [-18.1, -44.38], [-22.19, -48.79], [-5.81, -36.59], [-5.2, -39.53], [-9.62, -36.82], [-30.17, -53.5], [-3.79, -52.48], [-22.19, -48.79], [-22.25, -42.66], [-22.19, -48.79], [-22.25, -42.66], [-22.25, -42.66], [-22.19, -48.79], [-22.19, -48.79], [-22.19, -48.79], [-22.19, -48.79], [-18.1, -44.38], [-20.51, -54.54], [-22.19, -48.79], [-7.28, -36.72], [-18.1, -44.38], [-22.19, -48.79], [-30.17, -53.5], [-22.19, -48.79], [-22.19, -48.79], [-22.19, -48.79], [-5.42, -45.44], [-8.38, -37.86], [-22.19, -48.79], [-18.1, -44.38], [-24.89, -51.55], [-12.64, -55.42], [-3.79, -52.48], [-30.17, -53.5], [-30.17, -53.5], [-5.2, -39.53], [-27.45, -50.95], [-13.29, -41.71], [-22.19, -48.79], [-13.29, -41.71], [-30.17, -53.5], [-22.25, -42.66], [-22.19, -48.79], [-22.19, -48.79], [-8.38, -37.86], [-22.19, -48.79], [-22.19, -48.79], [-22.19, -48.79], [-13.29, -41.71], [-18.1, -44.38], [-30.17, -53.5], [-22.19, -48.79], [-12.64, -55.42], [-22.25, -42.66], [-22.19, -48.79], [-18.1, -44.38], [-18.1, -44.38], [-5.42, -45.44], [-22.19, -48.79], [-24.89, -51.55], [-22.19, -48.79], [-19.19, -40.34], [-18.1, -44.38], [-22.19, -48.79], [-19.19, -40.34], [-22.19, -48.79], [-27.45, -50.95], [-18.1, -44.38], [-22.19, -48.79], [-12.64, -55.42], [-18.1, -44.38], [-30.17, -53.5], [-18.1, -44.38], [-24.89, -51.55], [-27.45, -50.95], [-18.1, -44.38], [-22.19, -48.79], [-18.1, -44.38], [-18.1, -44.38], [-27.45, -50.95], [-22.25, -42.66], [-12.64, -55.42], [-18.1, -44.38], [-22.25, -42.66], [-22.19, -48.79], [-18.1, -44.38], [-24.89, -51.55], [-22.25, -42.66], [-13.29, -41.71], [-22.19, -48.79], [-5.42, -45.44], [-15.83, -47.86], [-15.83, -47.86], [-22.19, -48.79], [-22.19, -48.79], [-22.19, -48.79], [-22.19, -48.79], [-24.89, -51.55], [-22.19, -48.79], [-22.19, -48.79], [-18.1, -44.38], [-15.83, -47.86], [-22.19, -48.79], [-22.19, -48.79], [-22.19, -48.79], [-18.1, -44.38], [-5.42, -45.44], [-30.17, -53.5], [-13.29, -41.71], [-22.25, -42.66], [-22.19, -48.79], [-22.19, -48.79], [-22.25, -42.66], [-30.17, -53.5], [-22.19, -48.79], [-18.1, -44.38], [-19.19, -40.34], [-24.89, -51.55], [-22.19, -48.79], [-22.19, -48.79], [-15.98, -49.86], [-6.6, -42.28], [-22.19, -48.79], [-5.2, -39.53], [-8.38, -37.86], [-24.89, -51.55], [-22.19, -48.79], [-22.19, -48.79], [-22.19, -48.79], [-18.1, -44.38], [-5.2, -39.53], [-24.89, -51.55], [-22.19, -48.79], [-13.29, -41.71], [-22.19, -48.79], [-22.19, -48.79], [-22.19, -48.79], [-8.38, -37.86], [-22.25, -42.66], [-22.19, -48.79], [-22.25, -42.66], [-18.1, -44.38], [-24.89, -51.55], [-18.1, -44.38], [-22.19, -48.79], [-24.89, -51.55], [-22.19, -48.79], [-22.25, -42.66], [-18.1, -44.38], [-22.25, -42.66], [-22.19, -48.79], [-22.25, -42.66], [-22.19, -48.79], [-22.25, -42.66], [-24.89, -51.55], [-19.19, -40.34], [-22.19, -48.79], [-22.19, -48.79], [-22.19, -48.79], [-18.1, -44.38], [-24.89, -51.55], [-22.19, -48.79], [-22.19, -48.79], [-22.25, -42.66], [-22.25, -42.66], [-22.25, -42.66], [-8.38, -37.86], [-22.19, -48.79], [-22.19, -48.79], [-22.19, -48.79], [-22.25, -42.66], [-22.25, -42.66], [-18.1, -44.38], [-22.19, -48.79], [-22.19, -48.79], [-22.19, -48.79], [-30.17, -53.5], [-13.29, -41.71], [-22.19, -48.79], [-27.45, -50.95], [-22.19, -48.79], [-18.1, -44.38], [-22.19, -48.79], [-12.64, -55.42], [-5.2, -39.53], [-22.19, -48.79], [-22.19, -48.79], [-18.1, -44.38], [-22.19, -48.79], [-9.46, -48.26], [-22.19, -48.79], [-9.46, -48.26], [-22.19, -48.79], [-3.79, -52.48], [-22.25, -42.66], [-22.25, -42.66], [-22.19, -48.79], [-22.19, -48.79], [-22.19, -48.79], [-22.19, -48.79], [-22.19, -48.79], [-22.19, -48.79], [-22.19, -48.79], [-22.19, -48.79], [-22.19, -48.79], [-22.19, -48.79], [-22.25, -42.66], [-22.19, -48.79], [-22.19, -48.79], [-30.17, -53.5], [-22.19, -48.79], [-22.19, -48.79], [-22.25, -42.66], [-30.17, -53.5], [-22.19, -48.79], [-22.19, -48.79], [-22.25, -42.66], [-24.89, -51.55], [-30.17, -53.5], [-22.19, -48.79], [-22.19, -48.79], [-22.19, -48.79], [-22.19, -48.79], [-30.17, -53.5], [-22.19, -48.79], [-27.45, -50.95], [-22.19, -48.79], [-18.1, -44.38], [-18.1, -44.38], [-22.19, -48.79], [-8.38, -37.86], [-22.19, -48.79], [-27.45, -50.95], [-18.1, -44.38], [-22.19, -48.79], [-24.89, -51.55], [-22.19, -48.79], [-27.45, -50.95], [-8.38, -37.86], [-27.45, -50.95], [-19.19, -40.34], [-27.45, -50.95], [-22.19, -48.79], [-18.1, -44.38], [-22.25, -42.66], [-27.45, -50.95], [-22.19, -48.79], [-24.89, -51.55], [-22.19, -48.79], [-8.38, -37.86], [-18.1, -44.38], [-18.1, -44.38], [-18.1, -44.38], [-27.45, -50.95], [-8.38, -37.86], [-22.25, -42.66], [-8.38, -37.86], [-22.19, -48.79], [-22.19, -48.79], [-22.25, -42.66], [-22.19, -48.79], [-27.45, -50.95], [-22.19, -48.79], [-22.19, -48.79], [-22.25, -42.66], [-22.19, -48.79], [-22.19, -48.79], [-15.83, -47.86], [-22.19, -48.79], [-30.17, -53.5], [-22.19, -48.79], [-22.19, -48.79], [-15.98, -49.86], [-15.83, -47.86], [-30.17, -53.5], [-22.19, -48.79], [-22.19, -48.79], [-13.29, -41.71], [-22.19, -48.79], [-15.83, -47.86], [-30.17, -53.5], [-27.45, -50.95], [-30.17, -53.5], [-15.83, -47.86], [-13.29, -41.71], [-13.29, -41.71], [-22.25, -42.66], [-22.25, -42.66], [-5.2, -39.53], [-22.19, -48.79], [-18.1, -44.38], [-8.38, -37.86], [-5.2, -39.53], [-22.19, -48.79], [-22.25, -42.66], [-22.19, -48.79], [-22.19, -48.79], [-22.19, -48.79], [-15.98, -49.86], [-22.25, -42.66], [-22.19, -48.79], [-22.19, -48.79], [-27.45, -50.95], [-22.19, -48.79], [-22.19, -48.79], [-5.2, -39.53], [-22.19, -48.79], [-22.19, -48.79], [-15.83, -47.86], [-30.17, -53.5], [-22.19, -48.79], [-5.2, -39.53], [-22.19, -48.79], [-22.19, -48.79], [-13.29, -41.71], [-22.19, -48.79], [-22.19, -48.79], [-22.19, -48.79], [-18.1, -44.38], [-22.19, -48.79], [-22.19, -48.79], [-15.98, -49.86], [-22.19, -48.79], [-22.19, -48.79], [-10.57, -37.45], [-22.19, -48.79], [-22.19, -48.79], [-18.1, -44.38], [-22.25, -42.66], [-18.1, -44.38], [-22.19, -48.79], [-22.19, -48.79], [-19.19, -40.34], [-22.19, -48.79], [-24.89, -51.55], [-22.25, -42.66], [-22.19, -48.79], [-30.17, -53.5], [-22.19, -48.79], [-18.1, -44.38], [-22.19, -48.79], [-22.25, -42.66], [-22.19, -48.79], [-5.42, -45.44], [-22.19, -48.79], [-22.19, -48.79], [-24.89, -51.55], [-22.19, -48.79], [-22.19, -48.79], [-24.89, -51.55], [-30.17, -53.5], [-22.25, -42.66], [-22.19, -48.79], [-18.1, -44.38], [-18.1, -44.38], [-18.1, -44.38], [-5.2, -39.53], [-22.19, -48.79], [-22.25, -42.66], [-19.19, -40.34], [-18.1, -44.38], [-22.19, -48.79], [-5.42, -45.44], [-8.38, -37.86], [-22.19, -48.79], [-15.83, -47.86], [-22.19, -48.79], [-22.25, -42.66], [-22.25, -42.66], [-22.19, -48.79], [-22.19, -48.79], [-22.19, -48.79], [-22.25, -42.66], [-5.2, -39.53], [-24.89, -51.55], [-30.17, -53.5], [-18.1, -44.38], [-18.1, -44.38], [-9.62, -36.82], [-22.19, -48.79], [-22.25, -42.66], [-27.45, -50.95], [-22.19, -48.79], [-22.25, -42.66], [-24.89, -51.55], [-18.1, -44.38], [-18.1, -44.38], [-18.1, -44.38], [-22.19, -48.79], [-22.19, -48.79], [-18.1, -44.38], [-20.51, -54.54], [-22.25, -42.66], [-22.25, -42.66], [-18.1, -44.38], [-24.89, -51.55], [-8.38, -37.86], [-13.29, -41.71], [-22.19, -48.79], [-22.25, -42.66], [-13.29, -41.71], [-22.19, -48.79], [-22.25, -42.66], [-22.19, -48.79], [-13.29, -41.71], [-3.79, -52.48], [-22.19, -48.79], [-22.19, -48.79], [-22.19, -48.79], [-8.38, -37.86], [-22.25, -42.66], [-22.19, -48.79], [-22.19, -48.79], [-22.19, -48.79], [-18.1, -44.38], [-24.89, -51.55], [-22.19, -48.79], [-22.25, -42.66], [-22.19, -48.79], [-19.19, -40.34], [-5.2, -39.53], [-22.19, -48.79], [-8.38, -37.86], [-18.1, -44.38], [-22.19, -48.79], [-22.19, -48.79], [-22.19, -48.79], [-18.1, -44.38], [-22.19, -48.79], [-22.19, -48.79], [-22.25, -42.66], [-22.19, -48.79], [-15.83, -47.86], [-22.25, -42.66], [-27.45, -50.95], [-22.25, -42.66], [-27.45, -50.95], [-22.25, -42.66], [-22.19, -48.79], [-22.19, -48.79], [-22.25, -42.66], [-22.19, -48.79], [-22.25, -42.66], [-22.25, -42.66], [-18.1, -44.38], [-22.19, -48.79], [-22.19, -48.79], [-22.19, -48.79], [-18.1, -44.38], [-22.25, -42.66], [-22.19, -48.79], [-15.83, -47.86], [-5.42, -45.44], [-22.19, -48.79], [-15.83, -47.86], [-22.19, -48.79], [-22.25, -42.66], [-22.19, -48.79], [-22.19, -48.79], [-22.19, -48.79], [-24.89, -51.55], [-3.79, -52.48], [-22.19, -48.79], [-15.98, -49.86], [-22.19, -48.79], [-22.25, -42.66], [-5.42, -45.44], [-18.1, -44.38], [-22.19, -48.79], [-22.25, -42.66], [-22.25, -42.66], [-22.19, -48.79], [-5.42, -45.44], [-22.25, -42.66], [-3.79, -52.48], [-22.19, -48.79], [-15.83, -47.86], [-15.83, -47.86], [-5.42, -45.44], [-24.89, -51.55], [-18.1, -44.38], [-22.19, -48.79], [-18.1, -44.38], [-18.1, -44.38], [-22.19, -48.79], [-18.1, -44.38], [-18.1, -44.38], [-22.19, -48.79], [-22.19, -48.79], [-22.19, -48.79], [-22.19, -48.79], [-18.1, -44.38], [-15.98, -49.86], [-22.19, -48.79], [-22.19, -48.79], [-22.19, -48.79], [-22.19, -48.79], [-7.28, -36.72], [-22.19, -48.79], [-22.25, -42.66], [-15.83, -47.86], [-22.19, -48.79], [-30.17, -53.5], [-13.29, -41.71], [-15.98, -49.86], [-22.19, -48.79], [-13.29, -41.71], [-30.17, -53.5], [-9.62, -36.82], [-22.19, -48.79], [-19.19, -40.34], [-22.19, -48.79], [-22.19, -48.79], [-22.19, -48.79], [-19.19, -40.34], [-27.45, -50.95], [-22.19, -48.79], [-18.1, -44.38], [-22.19, -48.79], [-18.1, -44.38], [-24.89, -51.55], [-22.19, -48.79], [-22.19, -48.79], [-22.19, -48.79], [-22.19, -48.79], [-22.19, -48.79], [-18.1, -44.38], [-22.19, -48.79], [-18.1, -44.38], [-8.38, -37.86], [-15.98, -49.86], [-18.1, -44.38], [-22.19, -48.79], [-22.25, -42.66], [-19.19, -40.34], [-22.19, -48.79], [-5.2, -39.53], [-30.17, -53.5], [-22.25, -42.66], [-27.45, -50.95], [-18.1, -44.38], [-15.98, -49.86], [-22.19, -48.79], [-22.19, -48.79], [-13.29, -41.71], [-8.38, -37.86], [-22.25, -42.66], [-22.19, -48.79], [-22.25, -42.66], [-22.19, -48.79], [-22.19, -48.79], [-22.25, -42.66], [-20.51, -54.54], [-22.19, -48.79], [-22.19, -48.79], [-24.89, -51.55], [-22.19, -48.79], [-22.19, -48.79], [-19.19, -40.34], [-5.2, -39.53], [-5.2, -39.53], [-22.19, -48.79], [-22.19, -48.79], [-15.98, -49.86], [-27.45, -50.95], [-22.19, -48.79], [-22.25, -42.66], [-3.79, -52.48], [-22.25, -42.66], [-30.17, -53.5], [-22.19, -48.79], [-10.57, -37.45], [-22.19, -48.79], [-22.19, -48.79], [-5.2, -39.53], [-24.89, -51.55], [-30.17, -53.5], [-22.19, -48.79], [-27.45, -50.95], [-22.19, -48.79], [-18.1, -44.38], [-22.25, -42.66], [-22.19, -48.79], [-24.89, -51.55], [-22.25, -42.66], [-22.25, -42.66], [-22.19, -48.79], [-22.19, -48.79], [-27.45, -50.95], [-22.25, -42.66], [-22.25, -42.66], [-22.19, -48.79], [-15.83, -47.86], [-22.19, -48.79], [-22.19, -48.79], [-22.19, -48.79], [-18.1, -44.38], [-13.29, -41.71], [-22.19, -48.79], [-22.19, -48.79], [-19.19, -40.34], [-19.19, -40.34], [-18.1, -44.38], [-22.19, -48.79], [-22.25, -42.66], [-22.19, -48.79], [-27.45, -50.95], [-18.1, -44.38], [-18.1, -44.38], [-22.19, -48.79], [-24.89, -51.55], [-22.19, -48.79], [-15.98, -49.86], [-22.25, -42.66], [-24.89, -51.55], [-22.25, -42.66], [-22.19, -48.79], [-8.38, -37.86], [-22.19, -48.79], [-22.19, -48.79], [-15.83, -47.86], [-27.45, -50.95], [-13.29, -41.71], [-22.25, -42.66], [-15.83, -47.86], [-30.17, -53.5], [-12.64, -55.42], [-7.28, -36.72], [-22.19, -48.79], [-19.19, -40.34], [-13.29, -41.71], [-22.19, -48.79], [-22.25, -42.66], [-13.29, -41.71], [-22.19, -48.79], [-22.19, -48.79], [-22.19, -48.79], [-22.19, -48.79], [-22.19, -48.79], [-30.17, -53.5], [-5.42, -45.44], [-22.19, -48.79], [-24.89, -51.55], [-22.19, -48.79], [-22.25, -42.66], [-22.25, -42.66], [-5.2, -39.53], [-22.19, -48.79], [-13.29, -41.71], [-22.19, -48.79], [-3.79, -52.48], [-22.19, -48.79], [-22.19, -48.79], [-18.1, -44.38], [-22.19, -48.79], [-24.89, -51.55], [-15.83, -47.86], [-15.98, -49.86], [-15.83, -47.86], [-18.1, -44.38], [-22.19, -48.79], [-22.25, -42.66], [-24.89, -51.55], [-22.25, -42.66], [-22.19, -48.79], [-22.25, -42.66], [-22.19, -48.79], [-22.25, -42.66], [-13.29, -41.71], [-22.19, -48.79], [-13.29, -41.71], [-22.19, -48.79], [-18.1, -44.38], [-22.25, -42.66], [-22.19, -48.79], [-22.25, -42.66], [-22.25, -42.66], [-22.25, -42.66], [-30.17, -53.5], [-30.17, -53.5], [-22.19, -48.79], [-22.25, -42.66], [-24.89, -51.55], [-22.19, -48.79], [-24.89, -51.55], [-22.19, -48.79], [-22.19, -48.79], [-22.19, -48.79], [-22.25, -42.66], [-8.38, -37.86], [-13.29, -41.71], [-22.19, -48.79], [-18.1, -44.38], [-30.17, -53.5], [-20.51, -54.54], [-22.25, -42.66], [-22.19, -48.79], [-22.19, -48.79], [-3.79, -52.48], [-22.19, -48.79], [-22.25, -42.66], [-30.17, -53.5], [-18.1, -44.38], [-22.19, -48.79], [-22.19, -48.79], [-22.19, -48.79], [-22.19, -48.79], [-22.19, -48.79], [-8.38, -37.86], [-13.29, -41.71], [-30.17, -53.5], [-22.19, -48.79], [-18.1, -44.38], [-22.19, -48.79], [-22.19, -48.79], [-22.19, -48.79], [-27.45, -50.95], [-3.79, -52.48], [-5.2, -39.53], [-22.19, -48.79], [-22.19, -48.79], [-22.19, -48.79], [-22.25, -42.66], [-3.47, -65.1], [-22.19, -48.79], [-22.19, -48.79], [-22.25, -42.66], [-18.1, -44.38], [-22.19, -48.79], [-30.17, -53.5], [-24.89, -51.55], [-22.19, -48.79], [-22.19, -48.79], [-22.19, -48.79], [-24.89, -51.55], [-22.19, -48.79], [-30.17, -53.5], [-22.25, -42.66], [-30.17, -53.5], [-22.19, -48.79], [-18.1, -44.38], [-18.1, -44.38], [-22.19, -48.79], [-22.25, -42.66], [-22.25, -42.66], [-22.19, -48.79], [-22.19, -48.79], [-22.25, -42.66], [-22.19, -48.79], [-30.17, -53.5], [-22.19, -48.79], [-12.64, -55.42], [-24.89, -51.55], [-24.89, -51.55], [-15.98, -49.86], [-22.25, -42.66], [-22.19, -48.79], [-10.83, -63.34], [-27.45, -50.95], [-22.19, -48.79], [-27.45, -50.95], [-22.19, -48.79], [-22.25, -42.66], [-15.98, -49.86], [-22.19, -48.79], [-18.1, -44.38], [-18.1, -44.38], [-8.38, -37.86], [-30.17, -53.5], [-22.25, -42.66], [-12.64, -55.42], [-22.19, -48.79], [-24.89, -51.55], [-22.19, -48.79], [-22.19, -48.79], [-18.1, -44.38], [-22.19, -48.79], [-22.19, -48.79], [-22.19, -48.79], [-22.25, -42.66], [-5.42, -45.44], [-19.19, -40.34], [-22.19, -48.79], [-27.45, -50.95], [-24.89, -51.55], [-22.19, -48.79], [-15.98, -49.86], [-22.25, -42.66], [-22.19, -48.79], [-22.19, -48.79], [-18.1, -44.38], [-30.17, -53.5], [-22.19, -48.79], [-22.19, -48.79], [-5.42, -45.44], [-18.1, -44.38], [-22.19, -48.79], [-22.19, -48.79], [-24.89, -51.55], [-22.19, -48.79], [-15.83, -47.86], [-18.1, -44.38], [-22.19, -48.79], [-19.19, -40.34], [-10.57, -37.45], [-22.19, -48.79], [-22.19, -48.79], [-24.89, -51.55], [-22.19, -48.79], [-22.19, -48.79], [-22.19, -48.79], [-22.19, -48.79], [-22.19, -48.79], [-15.83, -47.86], [-22.19, -48.79], [-22.19, -48.79], [-8.38, -37.86], [-18.1, -44.38], [-22.19, -48.79], [-15.98, -49.86], [-22.25, -42.66], [-15.98, -49.86], [-18.1, -44.38], [-18.1, -44.38], [-19.19, -40.34], [-8.38, -37.86], [-22.19, -48.79], [-27.45, -50.95], [-8.38, -37.86], [-22.19, -48.79], [-13.29, -41.71], [-22.19, -48.79], [-27.45, -50.95], [-22.25, -42.66], [-22.19, -48.79], [-3.79, -52.48], [-24.89, -51.55], [-22.19, -48.79], [-22.19, -48.79], [-22.25, -42.66], [-22.19, -48.79], [-8.38, -37.86], [-22.25, -42.66], [-22.19, -48.79], [-18.1, -44.38], [-22.19, -48.79], [-13.29, -41.71], [-19.19, -40.34], [-22.19, -48.79], [-30.17, -53.5], [-22.19, -48.79], [-13.29, -41.71], [-20.51, -54.54], [-22.19, -48.79], [-19.19, -40.34], [-27.45, -50.95], [-22.19, -48.79], [-24.89, -51.55], [-18.1, -44.38], [-22.19, -48.79], [-22.19, -48.79], [-22.19, -48.79], [-30.17, -53.5], [-19.19, -40.34], [-22.25, -42.66], [-22.19, -48.79], [-22.19, -48.79], [-18.1, -44.38], [-22.19, -48.79], [-15.98, -49.86], [-24.89, -51.55], [-13.29, -41.71], [-7.28, -36.72], [-18.1, -44.38], [-22.19, -48.79], [-22.19, -48.79], [-22.25, -42.66], [-22.19, -48.79], [-18.1, -44.38], [-24.89, -51.55], [-22.19, -48.79], [-22.25, -42.66], [-12.64, -55.42], [-22.25, -42.66], [-18.1, -44.38], [-22.25, -42.66], [-18.1, -44.38], [-27.45, -50.95], [-22.25, -42.66], [-22.19, -48.79], [-30.17, -53.5], [-18.1, -44.38], [-22.19, -48.79], [-22.19, -48.79], [-22.25, -42.66], [-24.89, -51.55], [-20.51, -54.54], [-22.19, -48.79], [-12.64, -55.42], [-22.25, -42.66], [-13.29, -41.71], [-22.19, -48.79], [-22.25, -42.66], [-30.17, -53.5], [-22.19, -48.79], [-22.25, -42.66], [-22.19, -48.79], [-22.25, -42.66], [-24.89, -51.55], [-22.19, -48.79], [-22.25, -42.66], [-22.19, -48.79], [-27.45, -50.95], [-22.19, -48.79], [-22.19, -48.79], [-22.19, -48.79], [-22.19, -48.79], [-20.51, -54.54], [-22.25, -42.66], [-18.1, -44.38], [-22.19, -48.79], [-22.19, -48.79], [-22.19, -48.79], [-22.25, -42.66], [-22.19, -48.79], [-22.19, -48.79], [-22.19, -48.79], [-22.19, -48.79], [-22.19, -48.79], [-22.19, -48.79], [-22.25, -42.66], [-22.19, -48.79], [-30.17, -53.5], [-22.25, -42.66], [-22.19, -48.79], [-27.45, -50.95], [-15.83, -47.86], [-22.25, -42.66], [-22.19, -48.79], [-22.25, -42.66], [-22.19, -48.79], [-27.45, -50.95], [-22.25, -42.66], [-22.25, -42.66], [-22.19, -48.79], [-22.19, -48.79], [-27.45, -50.95], [-18.1, -44.38], [-22.19, -48.79], [-22.19, -48.79], [-22.19, -48.79], [-22.19, -48.79], [-22.19, -48.79], [-22.25, -42.66], [-22.19, -48.79], [-22.19, -48.79], [-24.89, -51.55], [-22.19, -48.79], [-22.19, -48.79], [-22.19, -48.79], [-13.29, -41.71], [-19.19, -40.34], [-22.19, -48.79], [-19.19, -40.34], [-22.25, -42.66], [-22.19, -48.79], [-24.89, -51.55], [-18.1, -44.38], [-18.1, -44.38], [-18.1, -44.38], [-13.29, -41.71], [-13.29, -41.71], [-18.1, -44.38], [-24.89, -51.55], [-22.19, -48.79], [-18.1, -44.38], [-15.83, -47.86], [-30.17, -53.5], [-30.17, -53.5], [-13.29, -41.71], [-15.83, -47.86], [-22.19, -48.79], [-22.19, -48.79], [-22.19, -48.79], [-22.25, -42.66], [-22.25, -42.66], [-22.19, -48.79], [-30.17, -53.5], [-18.1, -44.38], [-22.19, -48.79], [-22.19, -48.79], [-22.19, -48.79], [-5.2, -39.53], [-22.19, -48.79], [-22.19, -48.79], [-22.19, -48.79], [-22.19, -48.79], [-22.19, -48.79], [-22.25, -42.66], [-19.19, -40.34], [-22.19, -48.79], [-22.19, -48.79], [-22.19, -48.79], [-24.89, -51.55], [-22.25, -42.66], [-22.19, -48.79], [-22.19, -48.79], [-22.19, -48.79], [-22.19, -48.79], [-13.29, -41.71], [-19.19, -40.34], [-3.79, -52.48], [-22.19, -48.79], [-22.19, -48.79], [-22.19, -48.79], [-20.51, -54.54], [-22.19, -48.79], [-22.19, -48.79], [-18.1, -44.38], [-27.45, -50.95], [-22.25, -42.66], [-22.25, -42.66], [-22.19, -48.79], [-8.38, -37.86], [-22.19, -48.79], [-22.19, -48.79], [-18.1, -44.38], [-27.45, -50.95], [-18.1, -44.38], [-22.19, -48.79], [-19.19, -40.34], [-22.19, -48.79], [-18.1, -44.38], [-22.19, -48.79], [-18.1, -44.38], [-22.19, -48.79], [-30.17, -53.5], [-22.25, -42.66], [-30.17, -53.5], [-22.19, -48.79], [-22.19, -48.79], [-22.25, -42.66], [-30.17, -53.5], [-22.25, -42.66], [-22.25, -42.66], [-24.89, -51.55], [-30.17, -53.5], [-22.19, -48.79], [-8.38, -37.86], [-22.19, -48.79], [-18.1, -44.38], [-22.19, -48.79], [-22.19, -48.79], [-13.29, -41.71], [1.41, -51.77], [-3.79, -52.48], [-22.19, -48.79], [-22.25, -42.66], [-22.19, -48.79], [-22.19, -48.79], [-22.19, -48.79], [-22.19, -48.79], [-18.1, -44.38], [-22.19, -48.79], [-24.89, -51.55], [-18.1, -44.38], [-22.25, -42.66], [-18.1, -44.38], [-22.19, -48.79], [-18.1, -44.38], [-22.19, -48.79], [-30.17, -53.5], [-22.19, -48.79], [-3.79, -52.48], [-13.29, -41.71], [-24.89, -51.55], [-30.17, -53.5], [-30.17, -53.5], [-22.19, -48.79], [-30.17, -53.5], [-15.83, -47.86], [-18.1, -44.38], [-22.19, -48.79], [-22.19, -48.79], [-22.19, -48.79], [-22.19, -48.79], [-22.19, -48.79], [-22.19, -48.79], [-22.19, -48.79], [-22.19, -48.79], [-10.57, -37.45], [-24.89, -51.55], [-18.1, -44.38], [-12.64, -55.42], [-24.89, -51.55], [-22.25, -42.66], [-22.25, -42.66], [-15.83, -47.86], [-22.19, -48.79], [-22.25, -42.66], [-18.1, -44.38], [-18.1, -44.38], [-24.89, -51.55], [-30.17, -53.5], [-15.83, -47.86], [-22.19, -48.79], [-22.19, -48.79], [-30.17, -53.5], [-8.38, -37.86], [-19.19, -40.34], [-22.19, -48.79], [-18.1, -44.38], [-22.25, -42.66], [-18.1, -44.38], [-30.17, -53.5], [-22.25, -42.66], [-22.19, -48.79], [-22.19, -48.79], [-22.19, -48.79], [-22.19, -48.79], [-30.17, -53.5], [-22.19, -48.79], [-22.19, -48.79], [-22.25, -42.66], [-22.19, -48.79], [-13.29, -41.71], [-22.19, -48.79], [-22.19, -48.79], [-18.1, -44.38], [-5.2, -39.53], [-18.1, -44.38], [-5.42, -45.44], [-22.19, -48.79], [-22.25, -42.66], [-30.17, -53.5], [-15.98, -49.86], [-22.19, -48.79], [-27.45, -50.95], [-22.19, -48.79], [-18.1, -44.38], [-22.25, -42.66], [-22.25, -42.66], [-30.17, -53.5], [-19.19, -40.34], [-5.2, -39.53], [-22.19, -48.79], [-19.19, -40.34], [-22.19, -48.79], [-24.89, -51.55], [-22.25, -42.66], [-18.1, -44.38], [-3.79, -52.48], [-22.19, -48.79], [-13.29, -41.71], [-22.19, -48.79], [-22.19, -48.79], [-22.19, -48.79], [-3.79, -52.48], [-22.19, -48.79], [-22.19, -48.79], [-22.25, -42.66], [-22.19, -48.79], [-24.89, -51.55], [-24.89, -51.55], [-18.1, -44.38], [-22.19, -48.79], [-18.1, -44.38], [-22.19, -48.79], [-3.79, -52.48], [-24.89, -51.55], [-22.19, -48.79], [-22.19, -48.79], [-22.25, -42.66], [-22.19, -48.79], [-18.1, -44.38], [-22.19, -48.79], [-22.25, -42.66], [-18.1, -44.38], [-3.79, -52.48], [-18.1, -44.38], [-30.17, -53.5], [-22.19, -48.79], [-22.25, -42.66], [-22.19, -48.79], [-22.19, -48.79], [-22.19, -48.79], [-18.1, -44.38], [-22.25, -42.66], [-18.1, -44.38], [-22.19, -48.79], [-27.45, -50.95], [-8.38, -37.86], [-22.25, -42.66], [-22.25, -42.66], [-20.51, -54.54], [-22.19, -48.79], [-6.6, -42.28], [-8.38, -37.86], [-22.19, -48.79], [-22.19, -48.79], [-22.25, -42.66], [-22.19, -48.79], [-22.19, -48.79], [-15.98, -49.86], [-15.98, -49.86], [-3.79, -52.48], [1.41, -51.77], [-18.1, -44.38], [-8.38, -37.86], [-22.25, -42.66], [-18.1, -44.38], [-22.19, -48.79], [-22.19, -48.79], [-18.1, -44.38], [-18.1, -44.38], [-22.19, -48.79], [-22.19, -48.79], [-22.19, -48.79], [-18.1, -44.38], [-22.19, -48.79], [-18.1, -44.38], [-22.19, -48.79], [-18.1, -44.38], [-5.2, -39.53], [-22.19, -48.79], [-22.19, -48.79], [-22.19, -48.79], [-22.19, -48.79], [-22.19, -48.79], [-22.19, -48.79], [-18.1, -44.38], [-22.25, -42.66], [-20.51, -54.54], [-18.1, -44.38], [-30.17, -53.5], [-22.19, -48.79], [-24.89, -51.55], [-27.45, -50.95], [-22.19, -48.79], [-22.25, -42.66], [-24.89, -51.55], [-10.57, -37.45], [-22.25, -42.66], [-24.89, -51.55], [-22.19, -48.79], [-22.25, -42.66], [-24.89, -51.55], [-6.6, -42.28], [-8.38, -37.86], [-5.2, -39.53], [-22.19, -48.79], [-24.89, -51.55], [-22.19, -48.79], [-18.1, -44.38], [-22.19, -48.79], [-22.19, -48.79], [-3.47, -65.1], [-24.89, -51.55], [-22.25, -42.66], [-22.25, -42.66], [-13.29, -41.71], [-22.25, -42.66], [-22.19, -48.79], [-30.17, -53.5], [-18.1, -44.38], [-13.29, -41.71], [-24.89, -51.55], [-22.19, -48.79], [-22.19, -48.79], [-30.17, -53.5], [-22.19, -48.79], [-22.19, -48.79], [-22.19, -48.79], [-18.1, -44.38], [-22.25, -42.66], [-15.83, -47.86], [-22.19, -48.79], [-22.19, -48.79], [-24.89, -51.55], [-18.1, -44.38], [-8.38, -37.86], [-22.25, -42.66], [-30.17, -53.5], [-27.45, -50.95], [-22.19, -48.79], [-24.89, -51.55], [-22.25, -42.66], [-22.25, -42.66], [-5.2, -39.53], [-18.1, -44.38], [-15.83, -47.86], [-22.19, -48.79], [-22.19, -48.79], [-22.19, -48.79], [-22.19, -48.79], [-18.1, -44.38], [-22.19, -48.79], [-15.98, -49.86], [-18.1, -44.38], [-18.1, -44.38], [-22.19, -48.79], [-27.45, -50.95], [-18.1, -44.38], [-12.64, -55.42], [-24.89, -51.55], [-22.19, -48.79], [-22.19, -48.79], [-24.89, -51.55], [-18.1, -44.38], [-18.1, -44.38], [-22.19, -48.79], [-22.19, -48.79], [-22.19, -48.79], [-15.83, -47.86], [-22.19, -48.79], [-22.19, -48.79], [-22.19, -48.79], [-5.2, -39.53], [-30.17, -53.5], [-22.19, -48.79], [-22.19, -48.79], [-18.1, -44.38], [-19.19, -40.34], [-5.2, -39.53], [-24.89, -51.55], [-22.19, -48.79], [-24.89, -51.55], [-30.17, -53.5], [-22.19, -48.79], [-22.19, -48.79], [-22.25, -42.66], [-13.29, -41.71], [-22.19, -48.79], [-22.19, -48.79], [-30.17, -53.5], [-9.46, -48.26], [-30.17, -53.5], [-22.19, -48.79], [-22.19, -48.79], [-22.19, -48.79], [-22.19, -48.79], [-22.19, -48.79], [-30.17, -53.5], [-18.1, -44.38], [-18.1, -44.38], [-22.19, -48.79], [-22.25, -42.66], [-18.1, -44.38], [-30.17, -53.5], [-22.19, -48.79], [-5.2, -39.53], [-22.19, -48.79], [-27.45, -50.95], [-22.19, -48.79], [-22.25, -42.66], [-22.19, -48.79], [-18.1, -44.38], [-9.62, -36.82], [-15.83, -47.86], [-19.19, -40.34], [-24.89, -51.55], [-22.19, -48.79], [-24.89, -51.55], [-24.89, -51.55], [-15.83, -47.86], [-22.25, -42.66], [-30.17, -53.5], [-22.19, -48.79], [-24.89, -51.55], [-18.1, -44.38], [-22.19, -48.79], [-22.19, -48.79], [-22.19, -48.79], [-20.51, -54.54], [-22.19, -48.79], [-18.1, -44.38], [-22.25, -42.66], [-22.19, -48.79], [-22.19, -48.79], [-22.19, -48.79], [-24.89, -51.55], [-13.29, -41.71], [-22.19, -48.79], [-18.1, -44.38], [-22.19, -48.79], [-22.19, -48.79], [-22.19, -48.79], [-19.19, -40.34], [-22.19, -48.79], [-22.19, -48.79], [-18.1, -44.38], [-18.1, -44.38], [-10.83, -63.34], [-13.29, -41.71], [-22.25, -42.66], [-22.19, -48.79], [-22.25, -42.66], [-27.45, -50.95], [-18.1, -44.38], [-22.19, -48.79], [-22.19, -48.79], [-22.19, -48.79], [-22.19, -48.79], [-20.51, -54.54], [-18.1, -44.38], [-18.1, -44.38], [-13.29, -41.71], [-8.77, -70.55], [-22.19, -48.79], [-22.19, -48.79], [-22.19, -48.79], [-8.38, -37.86], [-30.17, -53.5], [-22.25, -42.66], [-22.25, -42.66], [-22.19, -48.79], [-22.19, -48.79], [-19.19, -40.34], [-22.19, -48.79], [-22.19, -48.79], [-18.1, -44.38], [-18.1, -44.38], [-22.25, -42.66], [-22.19, -48.79], [-22.25, -42.66], [-22.25, -42.66], [-22.19, -48.79], [-22.19, -48.79], [-18.1, -44.38], [-22.25, -42.66], [-22.19, -48.79], [-8.38, -37.86], [-18.1, -44.38], [-18.1, -44.38], [-22.19, -48.79], [-22.25, -42.66], [-30.17, -53.5], [-22.19, -48.79], [1.99, -61.33], [-13.29, -41.71], [-10.57, -37.45], [-5.42, -45.44], [-8.38, -37.86], [-22.25, -42.66], [-18.1, -44.38], [-18.1, -44.38], [-18.1, -44.38], [-22.19, -48.79], [-22.19, -48.79], [-30.17, -53.5], [-22.19, -48.79], [-22.19, -48.79], [-30.17, -53.5], [-22.19, -48.79], [-22.19, -48.79], [-13.29, -41.71], [-22.19, -48.79], [-18.1, -44.38], [-27.45, -50.95], [-22.19, -48.79], [-18.1, -44.38], [-22.25, -42.66], [-22.19, -48.79], [-13.29, -41.71], [-8.38, -37.86], [-22.19, -48.79], [-7.28, -36.72], [-22.25, -42.66], [-22.19, -48.79], [-15.83, -47.86], [-22.25, -42.66], [-22.25, -42.66], [-18.1, -44.38], [-22.19, -48.79], [-22.19, -48.79], [-22.19, -48.79], [-13.29, -41.71], [-22.19, -48.79], [-22.19, -48.79], [-19.19, -40.34], [-22.19, -48.79], [-22.19, -48.79], [-22.19, -48.79], [-22.25, -42.66], [-22.19, -48.79], [-30.17, -53.5], [-22.19, -48.79], [-13.29, -41.71], [-15.83, -47.86], [-18.1, -44.38], [-22.19, -48.79], [-22.19, -48.79], [-22.19, -48.79], [-22.19, -48.79], [-22.19, -48.79], [-18.1, -44.38], [-19.19, -40.34], [-22.19, -48.79], [-22.19, -48.79], [-22.19, -48.79], [-18.1, -44.38], [-22.19, -48.79], [-22.19, -48.79], [-18.1, -44.38], [-3.79, -52.48], [-22.19, -48.79], [-24.89, -51.55], [-18.1, -44.38], [-22.19, -48.79], [-22.19, -48.79], [-18.1, -44.38], [-30.17, -53.5], [-22.25, -42.66], [-22.25, -42.66], [-22.25, -42.66], [-22.19, -48.79], [-22.19, -48.79], [-22.19, -48.79], [-27.45, -50.95], [-18.1, -44.38], [-22.25, -42.66], [-22.25, -42.66], [-22.19, -48.79], [-22.19, -48.79], [-24.89, -51.55], [-22.19, -48.79], [-22.19, -48.79], [-22.19, -48.79], [-22.19, -48.79], [-22.25, -42.66], [-22.19, -48.79], [-22.25, -42.66], [-22.25, -42.66], [-22.25, -42.66], [-22.25, -42.66], [-22.19, -48.79], [-9.62, -36.82], [-15.83, -47.86], [-22.19, -48.79], [-22.25, -42.66], [-22.25, -42.66], [-22.19, -48.79], [-22.19, -48.79], [-12.64, -55.42], [-24.89, -51.55], [-22.19, -48.79], [-18.1, -44.38], [-8.38, -37.86], [-30.17, -53.5], [-18.1, -44.38], [-15.98, -49.86], [-5.2, -39.53], [-22.19, -48.79], [-24.89, -51.55], [-9.46, -48.26], [-18.1, -44.38], [-24.89, -51.55], [-18.1, -44.38], [-22.19, -48.79], [-22.19, -48.79], [-5.2, -39.53], [-22.25, -42.66], [-22.19, -48.79], [-15.98, -49.86], [-22.19, -48.79], [-24.89, -51.55], [-22.19, -48.79], [-22.19, -48.79], [-18.1, -44.38], [-22.19, -48.79], [-27.45, -50.95], [-22.19, -48.79], [-22.19, -48.79], [-24.89, -51.55], [-24.89, -51.55], [-18.1, -44.38], [-18.1, -44.38], [-22.19, -48.79], [-22.25, -42.66], [-22.19, -48.79], [-22.19, -48.79], [-22.19, -48.79], [-22.19, -48.79], [-6.6, -42.28], [-18.1, -44.38], [-22.25, -42.66], [-22.19, -48.79], [-22.19, -48.79], [-5.81, -36.59], [-22.19, -48.79], [-18.1, -44.38], [-5.42, -45.44], [-27.45, -50.95], [-22.19, -48.79], [-22.19, -48.79], [-22.25, -42.66], [-18.1, -44.38], [-22.19, -48.79], [-22.25, -42.66], [-13.29, -41.71], [-5.2, -39.53], [-18.1, -44.38], [-15.83, -47.86], [-18.1, -44.38], [-19.19, -40.34], [-30.17, -53.5], [-8.38, -37.86], [-22.19, -48.79], [-22.19, -48.79], [-22.19, -48.79], [-22.25, -42.66], [-22.25, -42.66], [-30.17, -53.5], [-22.25, -42.66], [-27.45, -50.95], [-18.1, -44.38], [-22.19, -48.79], [-19.19, -40.34], [-22.25, -42.66], [-22.25, -42.66], [-15.83, -47.86], [-13.29, -41.71], [-22.19, -48.79], [-22.19, -48.79], [-20.51, -54.54], [-30.17, -53.5], [-22.19, -48.79], [-15.83, -47.86], [-22.19, -48.79], [-19.19, -40.34], [-22.19, -48.79], [-22.19, -48.79], [-22.19, -48.79], [-22.19, -48.79], [-22.19, -48.79], [-22.19, -48.79], [-30.17, -53.5], [-22.19, -48.79], [-18.1, -44.38], [-22.19, -48.79], [-18.1, -44.38], [-6.6, -42.28], [-18.1, -44.38], [-15.98, -49.86], [-22.25, -42.66], [-30.17, -53.5], [-22.19, -48.79], [-22.25, -42.66], [-7.28, -36.72], [-22.19, -48.79], [-13.29, -41.71], [-27.45, -50.95], [-18.1, -44.38], [-18.1, -44.38], [-22.19, -48.79], [-22.19, -48.79], [-3.79, -52.48], [-22.19, -48.79], [-13.29, -41.71], [-22.19, -48.79], [-22.19, -48.79], [-15.83, -47.86], [-27.45, -50.95], [-18.1, -44.38], [-22.19, -48.79], [-22.19, -48.79], [-30.17, -53.5], [-5.81, -36.59], [-22.19, -48.79], [-22.19, -48.79], [-30.17, -53.5], [-5.2, -39.53], [-22.25, -42.66], [-30.17, -53.5], [-5.42, -45.44], [-18.1, -44.38], [-22.25, -42.66], [-22.19, -48.79], [-15.83, -47.86], [-18.1, -44.38], [-22.19, -48.79], [-12.64, -55.42], [-20.51, -54.54], [-24.89, -51.55], [-5.2, -39.53], [-13.29, -41.71], [-22.25, -42.66], [-22.25, -42.66], [-18.1, -44.38], [-22.25, -42.66], [-15.98, -49.86], [-22.19, -48.79], [-22.25, -42.66], [-22.19, -48.79], [-22.19, -48.79], [-22.19, -48.79], [-22.19, -48.79], [-22.19, -48.79], [-30.17, -53.5], [-22.25, -42.66], [-22.25, -42.66], [-18.1, -44.38], [-22.19, -48.79], [-27.45, -50.95], [-22.19, -48.79], [-18.1, -44.38], [-22.19, -48.79], [-22.19, -48.79], [-18.1, -44.38], [-22.19, -48.79], [-22.19, -48.79], [-19.19, -40.34], [-24.89, -51.55], [-22.19, -48.79], [-22.19, -48.79], [-20.51, -54.54], [-10.83, -63.34], [-22.19, -48.79], [-18.1, -44.38], [-22.19, -48.79], [-18.1, -44.38], [-22.25, -42.66], [-30.17, -53.5], [-22.19, -48.79], [-22.19, -48.79], [-22.19, -48.79], [-15.98, -49.86], [-8.38, -37.86], [-15.98, -49.86], [-6.6, -42.28], [-27.45, -50.95], [-22.19, -48.79], [-27.45, -50.95], [-15.83, -47.86], [-22.19, -48.79], [-22.25, -42.66]],\n",
              "                {\n",
              "  &quot;minOpacity&quot;: 0.5,\n",
              "  &quot;maxZoom&quot;: 18,\n",
              "  &quot;radius&quot;: 25,\n",
              "  &quot;blur&quot;: 15,\n",
              "}\n",
              "            );\n",
              "        \n",
              "    \n",
              "            heat_map_9a80ed47f79d1fce46f1b7a10a0dafa9.addTo(map_e9191b1de466d91911d642205e8bd9c8);\n",
              "        \n",
              "&lt;/script&gt;\n",
              "&lt;/html&gt;\" style=\"position:absolute;width:100%;height:100%;left:0;top:0;border:none !important;\" allowfullscreen webkitallowfullscreen mozallowfullscreen></iframe></div></div>"
            ]
          },
          "metadata": {},
          "execution_count": 161
        }
      ]
    },
    {
      "cell_type": "markdown",
      "source": [
        "###4. Loja 4 - Análise geográfica de vendas"
      ],
      "metadata": {
        "id": "R9a5khA9uo0E"
      }
    },
    {
      "cell_type": "code",
      "source": [
        "coords = loja4[['lat', 'lon']].values.tolist()\n",
        "\n",
        "mapa = folium.Map(\n",
        "    location=[loja4['lat'].mean(), loja4['lon'].mean()],\n",
        "    zoom_start=4,\n",
        "    min_zoom=4,\n",
        "    max_zoom=4,\n",
        "    zoom_control=False\n",
        ")\n",
        "\n",
        "HeatMap(coords).add_to(mapa)\n",
        "\n",
        "mapa"
      ],
      "metadata": {
        "colab": {
          "base_uri": "https://localhost:8080/",
          "height": 838
        },
        "id": "sdBeNUT3usBe",
        "outputId": "bef956b1-899c-4393-c547-143b12ec3a8b"
      },
      "execution_count": 162,
      "outputs": [
        {
          "output_type": "execute_result",
          "data": {
            "text/plain": [
              "<folium.folium.Map at 0x7a514f44ead0>"
            ],
            "text/html": [
              "<div style=\"width:100%;\"><div style=\"position:relative;width:100%;height:0;padding-bottom:60%;\"><span style=\"color:#565656\">Make this Notebook Trusted to load map: File -> Trust Notebook</span><iframe srcdoc=\"&lt;!DOCTYPE html&gt;\n",
              "&lt;html&gt;\n",
              "&lt;head&gt;\n",
              "    \n",
              "    &lt;meta http-equiv=&quot;content-type&quot; content=&quot;text/html; charset=UTF-8&quot; /&gt;\n",
              "    &lt;script src=&quot;https://cdn.jsdelivr.net/npm/leaflet@1.9.3/dist/leaflet.js&quot;&gt;&lt;/script&gt;\n",
              "    &lt;script src=&quot;https://code.jquery.com/jquery-3.7.1.min.js&quot;&gt;&lt;/script&gt;\n",
              "    &lt;script src=&quot;https://cdn.jsdelivr.net/npm/bootstrap@5.2.2/dist/js/bootstrap.bundle.min.js&quot;&gt;&lt;/script&gt;\n",
              "    &lt;script src=&quot;https://cdnjs.cloudflare.com/ajax/libs/Leaflet.awesome-markers/2.0.2/leaflet.awesome-markers.js&quot;&gt;&lt;/script&gt;\n",
              "    &lt;link rel=&quot;stylesheet&quot; href=&quot;https://cdn.jsdelivr.net/npm/leaflet@1.9.3/dist/leaflet.css&quot;/&gt;\n",
              "    &lt;link rel=&quot;stylesheet&quot; href=&quot;https://cdn.jsdelivr.net/npm/bootstrap@5.2.2/dist/css/bootstrap.min.css&quot;/&gt;\n",
              "    &lt;link rel=&quot;stylesheet&quot; href=&quot;https://netdna.bootstrapcdn.com/bootstrap/3.0.0/css/bootstrap-glyphicons.css&quot;/&gt;\n",
              "    &lt;link rel=&quot;stylesheet&quot; href=&quot;https://cdn.jsdelivr.net/npm/@fortawesome/fontawesome-free@6.2.0/css/all.min.css&quot;/&gt;\n",
              "    &lt;link rel=&quot;stylesheet&quot; href=&quot;https://cdnjs.cloudflare.com/ajax/libs/Leaflet.awesome-markers/2.0.2/leaflet.awesome-markers.css&quot;/&gt;\n",
              "    &lt;link rel=&quot;stylesheet&quot; href=&quot;https://cdn.jsdelivr.net/gh/python-visualization/folium/folium/templates/leaflet.awesome.rotate.min.css&quot;/&gt;\n",
              "    \n",
              "            &lt;meta name=&quot;viewport&quot; content=&quot;width=device-width,\n",
              "                initial-scale=1.0, maximum-scale=1.0, user-scalable=no&quot; /&gt;\n",
              "            &lt;style&gt;\n",
              "                #map_4cc124a7f57e261cc3cc8ddbc9fad3ed {\n",
              "                    position: relative;\n",
              "                    width: 100.0%;\n",
              "                    height: 100.0%;\n",
              "                    left: 0.0%;\n",
              "                    top: 0.0%;\n",
              "                }\n",
              "                .leaflet-container { font-size: 1rem; }\n",
              "            &lt;/style&gt;\n",
              "\n",
              "            &lt;style&gt;html, body {\n",
              "                width: 100%;\n",
              "                height: 100%;\n",
              "                margin: 0;\n",
              "                padding: 0;\n",
              "            }\n",
              "            &lt;/style&gt;\n",
              "\n",
              "            &lt;style&gt;#map {\n",
              "                position:absolute;\n",
              "                top:0;\n",
              "                bottom:0;\n",
              "                right:0;\n",
              "                left:0;\n",
              "                }\n",
              "            &lt;/style&gt;\n",
              "\n",
              "            &lt;script&gt;\n",
              "                L_NO_TOUCH = false;\n",
              "                L_DISABLE_3D = false;\n",
              "            &lt;/script&gt;\n",
              "\n",
              "        \n",
              "    &lt;script src=&quot;https://cdn.jsdelivr.net/gh/python-visualization/folium@main/folium/templates/leaflet_heat.min.js&quot;&gt;&lt;/script&gt;\n",
              "&lt;/head&gt;\n",
              "&lt;body&gt;\n",
              "    \n",
              "    \n",
              "            &lt;div class=&quot;folium-map&quot; id=&quot;map_4cc124a7f57e261cc3cc8ddbc9fad3ed&quot; &gt;&lt;/div&gt;\n",
              "        \n",
              "&lt;/body&gt;\n",
              "&lt;script&gt;\n",
              "    \n",
              "    \n",
              "            var map_4cc124a7f57e261cc3cc8ddbc9fad3ed = L.map(\n",
              "                &quot;map_4cc124a7f57e261cc3cc8ddbc9fad3ed&quot;,\n",
              "                {\n",
              "                    center: [-20.494215436810858, -47.10755301102629],\n",
              "                    crs: L.CRS.EPSG3857,\n",
              "                    ...{\n",
              "  &quot;zoom&quot;: 4,\n",
              "  &quot;zoomControl&quot;: false,\n",
              "  &quot;preferCanvas&quot;: false,\n",
              "}\n",
              "\n",
              "                }\n",
              "            );\n",
              "\n",
              "            \n",
              "\n",
              "        \n",
              "    \n",
              "            var tile_layer_172ccf59ec233db96e8a4137d4a3d921 = L.tileLayer(\n",
              "                &quot;https://tile.openstreetmap.org/{z}/{x}/{y}.png&quot;,\n",
              "                {\n",
              "  &quot;minZoom&quot;: 4,\n",
              "  &quot;maxZoom&quot;: 4,\n",
              "  &quot;maxNativeZoom&quot;: 4,\n",
              "  &quot;noWrap&quot;: false,\n",
              "  &quot;attribution&quot;: &quot;\\u0026copy; \\u003ca href=\\&quot;https://www.openstreetmap.org/copyright\\&quot;\\u003eOpenStreetMap\\u003c/a\\u003e contributors&quot;,\n",
              "  &quot;subdomains&quot;: &quot;abc&quot;,\n",
              "  &quot;detectRetina&quot;: false,\n",
              "  &quot;tms&quot;: false,\n",
              "  &quot;opacity&quot;: 1,\n",
              "}\n",
              "\n",
              "            );\n",
              "        \n",
              "    \n",
              "            tile_layer_172ccf59ec233db96e8a4137d4a3d921.addTo(map_4cc124a7f57e261cc3cc8ddbc9fad3ed);\n",
              "        \n",
              "    \n",
              "            var heat_map_07b5bcc16ce40a53fec0633e73720dcf = L.heatLayer(\n",
              "                [[-22.19, -48.79], [-15.98, -49.86], [-18.1, -44.38], [-18.1, -44.38], [-22.19, -48.79], [-15.83, -47.86], [-22.25, -42.66], [-22.25, -42.66], [-22.19, -48.79], [-22.19, -48.79], [-9.62, -36.82], [-22.19, -48.79], [-22.19, -48.79], [-22.19, -48.79], [-22.19, -48.79], [-12.64, -55.42], [-8.38, -37.86], [-24.89, -51.55], [-20.51, -54.54], [-15.83, -47.86], [-22.19, -48.79], [-24.89, -51.55], [-5.81, -36.59], [-22.19, -48.79], [-22.19, -48.79], [-22.19, -48.79], [-22.19, -48.79], [-22.19, -48.79], [-22.25, -42.66], [-18.1, -44.38], [-22.19, -48.79], [-27.45, -50.95], [-22.19, -48.79], [-22.19, -48.79], [-22.19, -48.79], [-5.81, -36.59], [-13.29, -41.71], [-22.19, -48.79], [-22.25, -42.66], [-3.79, -52.48], [-22.25, -42.66], [-5.2, -39.53], [-22.19, -48.79], [-22.25, -42.66], [-22.19, -48.79], [-30.17, -53.5], [-22.19, -48.79], [-30.17, -53.5], [-7.28, -36.72], [-22.19, -48.79], [-18.1, -44.38], [-19.19, -40.34], [-24.89, -51.55], [-22.19, -48.79], [-22.19, -48.79], [-22.19, -48.79], [-22.19, -48.79], [-22.25, -42.66], [-18.1, -44.38], [-19.19, -40.34], [-22.19, -48.79], [-27.45, -50.95], [-24.89, -51.55], [-22.19, -48.79], [-22.19, -48.79], [-15.83, -47.86], [-22.19, -48.79], [-27.45, -50.95], [-22.25, -42.66], [-30.17, -53.5], [-22.19, -48.79], [-15.98, -49.86], [-18.1, -44.38], [-22.19, -48.79], [-22.19, -48.79], [-22.19, -48.79], [-18.1, -44.38], [-20.51, -54.54], [-27.45, -50.95], [-18.1, -44.38], [-30.17, -53.5], [-27.45, -50.95], [-22.25, -42.66], [-13.29, -41.71], [-22.19, -48.79], [-5.2, -39.53], [-18.1, -44.38], [-22.19, -48.79], [-22.19, -48.79], [-22.19, -48.79], [-22.19, -48.79], [-22.19, -48.79], [-22.19, -48.79], [-22.25, -42.66], [-22.19, -48.79], [-24.89, -51.55], [-22.19, -48.79], [-22.19, -48.79], [-18.1, -44.38], [-18.1, -44.38], [-13.29, -41.71], [-22.19, -48.79], [-18.1, -44.38], [-22.19, -48.79], [-22.19, -48.79], [-22.25, -42.66], [-22.19, -48.79], [-22.25, -42.66], [-22.19, -48.79], [-15.83, -47.86], [-22.19, -48.79], [-22.19, -48.79], [-22.19, -48.79], [-22.19, -48.79], [-18.1, -44.38], [-22.19, -48.79], [-22.19, -48.79], [-22.19, -48.79], [-22.19, -48.79], [-5.81, -36.59], [-13.29, -41.71], [-22.19, -48.79], [-22.25, -42.66], [-22.19, -48.79], [-22.19, -48.79], [-30.17, -53.5], [-8.38, -37.86], [-5.2, -39.53], [-22.19, -48.79], [-18.1, -44.38], [-22.19, -48.79], [-22.19, -48.79], [-22.19, -48.79], [-30.17, -53.5], [-13.29, -41.71], [-22.19, -48.79], [-22.19, -48.79], [-18.1, -44.38], [-22.19, -48.79], [-22.25, -42.66], [-22.19, -48.79], [-30.17, -53.5], [-27.45, -50.95], [-18.1, -44.38], [-22.19, -48.79], [-22.19, -48.79], [-5.2, -39.53], [-5.42, -45.44], [-18.1, -44.38], [-30.17, -53.5], [-22.19, -48.79], [-20.51, -54.54], [-15.83, -47.86], [-18.1, -44.38], [-22.19, -48.79], [-24.89, -51.55], [-13.29, -41.71], [-22.19, -48.79], [-22.19, -48.79], [-22.19, -48.79], [-22.19, -48.79], [-22.25, -42.66], [-22.25, -42.66], [-5.2, -39.53], [-22.19, -48.79], [-18.1, -44.38], [-22.19, -48.79], [-24.89, -51.55], [-22.25, -42.66], [-20.51, -54.54], [-27.45, -50.95], [-9.62, -36.82], [-22.25, -42.66], [-27.45, -50.95], [-24.89, -51.55], [-22.19, -48.79], [-22.19, -48.79], [-3.47, -65.1], [-30.17, -53.5], [-13.29, -41.71], [-22.19, -48.79], [-19.19, -40.34], [-18.1, -44.38], [-19.19, -40.34], [-22.19, -48.79], [-22.19, -48.79], [-22.19, -48.79], [-22.19, -48.79], [-22.19, -48.79], [-22.19, -48.79], [-22.19, -48.79], [-30.17, -53.5], [-22.19, -48.79], [-22.19, -48.79], [-15.83, -47.86], [-22.25, -42.66], [-18.1, -44.38], [-22.19, -48.79], [-18.1, -44.38], [-22.19, -48.79], [-18.1, -44.38], [-22.25, -42.66], [-20.51, -54.54], [-24.89, -51.55], [-19.19, -40.34], [-22.25, -42.66], [-5.81, -36.59], [-15.83, -47.86], [-7.28, -36.72], [-15.98, -49.86], [-22.25, -42.66], [-22.19, -48.79], [-22.25, -42.66], [-7.28, -36.72], [-15.83, -47.86], [-22.19, -48.79], [-18.1, -44.38], [-13.29, -41.71], [-15.83, -47.86], [-8.38, -37.86], [-22.25, -42.66], [-22.25, -42.66], [-22.25, -42.66], [-30.17, -53.5], [-22.19, -48.79], [-5.42, -45.44], [-15.83, -47.86], [-22.19, -48.79], [-20.51, -54.54], [-18.1, -44.38], [-22.19, -48.79], [-22.25, -42.66], [-30.17, -53.5], [-22.19, -48.79], [-22.19, -48.79], [-3.79, -52.48], [-20.51, -54.54], [-22.19, -48.79], [-19.19, -40.34], [-22.19, -48.79], [-22.19, -48.79], [-22.19, -48.79], [-24.89, -51.55], [-22.19, -48.79], [-22.19, -48.79], [-22.19, -48.79], [-22.19, -48.79], [-22.19, -48.79], [-22.25, -42.66], [-18.1, -44.38], [-22.19, -48.79], [-18.1, -44.38], [-27.45, -50.95], [-22.19, -48.79], [-22.19, -48.79], [-19.19, -40.34], [-7.28, -36.72], [-22.19, -48.79], [-22.19, -48.79], [-8.38, -37.86], [-19.19, -40.34], [-22.19, -48.79], [-22.25, -42.66], [-22.25, -42.66], [-22.25, -42.66], [-19.19, -40.34], [-8.38, -37.86], [-22.19, -48.79], [-22.19, -48.79], [-22.25, -42.66], [-22.25, -42.66], [-22.19, -48.79], [-22.25, -42.66], [-22.19, -48.79], [-24.89, -51.55], [-22.19, -48.79], [-22.25, -42.66], [-22.19, -48.79], [-22.25, -42.66], [-22.25, -42.66], [-22.19, -48.79], [-22.19, -48.79], [-5.42, -45.44], [-5.2, -39.53], [-18.1, -44.38], [-18.1, -44.38], [-22.19, -48.79], [-8.38, -37.86], [-18.1, -44.38], [-22.19, -48.79], [-22.19, -48.79], [-22.19, -48.79], [-22.25, -42.66], [-22.25, -42.66], [-19.19, -40.34], [-22.19, -48.79], [-22.19, -48.79], [-24.89, -51.55], [-22.19, -48.79], [-22.19, -48.79], [-22.19, -48.79], [-22.19, -48.79], [-8.38, -37.86], [-22.19, -48.79], [-22.25, -42.66], [-22.25, -42.66], [-30.17, -53.5], [-22.19, -48.79], [-8.38, -37.86], [-22.19, -48.79], [-22.19, -48.79], [-20.51, -54.54], [-22.19, -48.79], [-30.17, -53.5], [-22.25, -42.66], [-18.1, -44.38], [-22.25, -42.66], [-22.25, -42.66], [-30.17, -53.5], [-18.1, -44.38], [-22.19, -48.79], [-18.1, -44.38], [-22.25, -42.66], [-22.19, -48.79], [-22.19, -48.79], [-27.45, -50.95], [-12.64, -55.42], [-22.25, -42.66], [-22.19, -48.79], [-22.25, -42.66], [-30.17, -53.5], [-27.45, -50.95], [-22.19, -48.79], [-5.2, -39.53], [-22.19, -48.79], [-22.19, -48.79], [-22.19, -48.79], [-22.19, -48.79], [-22.19, -48.79], [-27.45, -50.95], [-22.19, -48.79], [-22.19, -48.79], [-5.42, -45.44], [-22.19, -48.79], [-22.19, -48.79], [-22.19, -48.79], [-22.19, -48.79], [-12.64, -55.42], [-22.19, -48.79], [-18.1, -44.38], [-22.19, -48.79], [-22.19, -48.79], [-12.64, -55.42], [-30.17, -53.5], [-18.1, -44.38], [-5.81, -36.59], [-22.19, -48.79], [-22.19, -48.79], [-22.19, -48.79], [-22.19, -48.79], [-22.19, -48.79], [-24.89, -51.55], [-22.19, -48.79], [-22.19, -48.79], [-22.19, -48.79], [-22.19, -48.79], [-22.19, -48.79], [-22.19, -48.79], [-6.6, -42.28], [-22.19, -48.79], [-18.1, -44.38], [-22.19, -48.79], [-13.29, -41.71], [-27.45, -50.95], [-22.19, -48.79], [-22.19, -48.79], [-22.19, -48.79], [-24.89, -51.55], [-22.19, -48.79], [-22.19, -48.79], [-15.98, -49.86], [-22.19, -48.79], [-22.19, -48.79], [-30.17, -53.5], [-22.19, -48.79], [-22.19, -48.79], [-22.25, -42.66], [-22.25, -42.66], [-15.98, -49.86], [-22.19, -48.79], [-12.64, -55.42], [-22.19, -48.79], [-13.29, -41.71], [-22.19, -48.79], [-15.83, -47.86], [-22.19, -48.79], [-30.17, -53.5], [-22.19, -48.79], [-27.45, -50.95], [-13.29, -41.71], [-22.19, -48.79], [-22.19, -48.79], [-22.19, -48.79], [-22.19, -48.79], [-22.19, -48.79], [-22.25, -42.66], [-22.19, -48.79], [-22.19, -48.79], [-5.81, -36.59], [-22.25, -42.66], [-8.38, -37.86], [-22.25, -42.66], [-22.19, -48.79], [-22.25, -42.66], [-15.83, -47.86], [-30.17, -53.5], [-13.29, -41.71], [-22.19, -48.79], [-22.19, -48.79], [-15.98, -49.86], [-22.25, -42.66], [-22.25, -42.66], [-22.25, -42.66], [-22.25, -42.66], [-18.1, -44.38], [-22.19, -48.79], [-22.19, -48.79], [-22.19, -48.79], [-22.19, -48.79], [-27.45, -50.95], [-22.19, -48.79], [-24.89, -51.55], [-22.19, -48.79], [-24.89, -51.55], [-18.1, -44.38], [-18.1, -44.38], [-18.1, -44.38], [-22.19, -48.79], [-22.19, -48.79], [-15.83, -47.86], [-22.19, -48.79], [-18.1, -44.38], [-22.25, -42.66], [-24.89, -51.55], [-5.2, -39.53], [-9.46, -48.26], [-22.19, -48.79], [-22.19, -48.79], [-18.1, -44.38], [-22.19, -48.79], [-22.19, -48.79], [-18.1, -44.38], [-18.1, -44.38], [-22.25, -42.66], [-13.29, -41.71], [-13.29, -41.71], [-22.19, -48.79], [-15.98, -49.86], [-22.19, -48.79], [-9.46, -48.26], [-22.25, -42.66], [-30.17, -53.5], [-22.19, -48.79], [-8.38, -37.86], [-22.19, -48.79], [-22.19, -48.79], [-19.19, -40.34], [-24.89, -51.55], [-22.19, -48.79], [-18.1, -44.38], [-22.19, -48.79], [-22.19, -48.79], [-30.17, -53.5], [-22.19, -48.79], [-22.19, -48.79], [-22.25, -42.66], [-24.89, -51.55], [-22.19, -48.79], [-18.1, -44.38], [-18.1, -44.38], [-22.19, -48.79], [-22.19, -48.79], [-22.19, -48.79], [-22.19, -48.79], [-30.17, -53.5], [-18.1, -44.38], [-22.19, -48.79], [-22.19, -48.79], [-18.1, -44.38], [-22.19, -48.79], [-22.25, -42.66], [-30.17, -53.5], [-22.19, -48.79], [-18.1, -44.38], [-18.1, -44.38], [-22.19, -48.79], [-30.17, -53.5], [-22.25, -42.66], [-20.51, -54.54], [-22.19, -48.79], [-20.51, -54.54], [-18.1, -44.38], [-19.19, -40.34], [-3.47, -65.1], [-18.1, -44.38], [-22.19, -48.79], [-24.89, -51.55], [-22.19, -48.79], [-22.19, -48.79], [-27.45, -50.95], [-18.1, -44.38], [-8.38, -37.86], [-22.19, -48.79], [-19.19, -40.34], [-22.19, -48.79], [-22.19, -48.79], [-24.89, -51.55], [-13.29, -41.71], [-22.25, -42.66], [-18.1, -44.38], [-15.83, -47.86], [-9.46, -48.26], [-22.19, -48.79], [-22.19, -48.79], [-22.25, -42.66], [-22.19, -48.79], [-18.1, -44.38], [-9.62, -36.82], [-22.19, -48.79], [-22.19, -48.79], [-18.1, -44.38], [-27.45, -50.95], [-18.1, -44.38], [-22.19, -48.79], [-18.1, -44.38], [-22.19, -48.79], [-18.1, -44.38], [-22.19, -48.79], [-22.19, -48.79], [-19.19, -40.34], [-10.83, -63.34], [-22.19, -48.79], [-24.89, -51.55], [-18.1, -44.38], [-5.42, -45.44], [-18.1, -44.38], [-24.89, -51.55], [-24.89, -51.55], [-22.25, -42.66], [-22.19, -48.79], [-30.17, -53.5], [-18.1, -44.38], [-22.19, -48.79], [-22.25, -42.66], [-22.19, -48.79], [-22.25, -42.66], [-30.17, -53.5], [-5.42, -45.44], [-22.19, -48.79], [-18.1, -44.38], [-22.19, -48.79], [-19.19, -40.34], [-30.17, -53.5], [-15.83, -47.86], [-22.19, -48.79], [-18.1, -44.38], [-15.98, -49.86], [-18.1, -44.38], [-24.89, -51.55], [-30.17, -53.5], [-22.19, -48.79], [-15.83, -47.86], [-18.1, -44.38], [-22.25, -42.66], [-22.19, -48.79], [-22.19, -48.79], [-18.1, -44.38], [-22.19, -48.79], [-22.19, -48.79], [-18.1, -44.38], [-22.19, -48.79], [-22.25, -42.66], [-24.89, -51.55], [-22.19, -48.79], [-18.1, -44.38], [-15.83, -47.86], [-22.19, -48.79], [-30.17, -53.5], [-22.19, -48.79], [-22.19, -48.79], [-22.19, -48.79], [-27.45, -50.95], [-22.19, -48.79], [-13.29, -41.71], [-10.83, -63.34], [-22.19, -48.79], [-22.25, -42.66], [-22.25, -42.66], [-22.19, -48.79], [-22.25, -42.66], [-22.19, -48.79], [-22.25, -42.66], [-22.19, -48.79], [-27.45, -50.95], [-15.83, -47.86], [-27.45, -50.95], [-18.1, -44.38], [-22.19, -48.79], [-8.38, -37.86], [-13.29, -41.71], [-30.17, -53.5], [-30.17, -53.5], [-18.1, -44.38], [-22.25, -42.66], [-22.19, -48.79], [-22.19, -48.79], [-18.1, -44.38], [-22.19, -48.79], [-22.19, -48.79], [-27.45, -50.95], [-22.19, -48.79], [-18.1, -44.38], [-22.25, -42.66], [-6.6, -42.28], [-22.25, -42.66], [-3.79, -52.48], [-27.45, -50.95], [-18.1, -44.38], [-22.19, -48.79], [-20.51, -54.54], [-22.19, -48.79], [-22.19, -48.79], [-22.19, -48.79], [-20.51, -54.54], [-24.89, -51.55], [-22.25, -42.66], [-22.25, -42.66], [-15.83, -47.86], [-19.19, -40.34], [-22.19, -48.79], [-15.83, -47.86], [-30.17, -53.5], [-22.19, -48.79], [-15.83, -47.86], [-22.19, -48.79], [-30.17, -53.5], [-22.19, -48.79], [-22.19, -48.79], [-22.19, -48.79], [-22.25, -42.66], [-22.19, -48.79], [-22.19, -48.79], [-22.25, -42.66], [-24.89, -51.55], [-22.19, -48.79], [-22.19, -48.79], [-22.19, -48.79], [-12.64, -55.42], [-22.25, -42.66], [-22.19, -48.79], [-22.25, -42.66], [-18.1, -44.38], [-15.98, -49.86], [-15.83, -47.86], [-30.17, -53.5], [-22.19, -48.79], [-22.19, -48.79], [-15.83, -47.86], [-22.19, -48.79], [-24.89, -51.55], [-22.19, -48.79], [-18.1, -44.38], [-22.19, -48.79], [-18.1, -44.38], [-22.25, -42.66], [-22.19, -48.79], [-22.19, -48.79], [-27.45, -50.95], [-24.89, -51.55], [-13.29, -41.71], [-22.25, -42.66], [-30.17, -53.5], [-30.17, -53.5], [-18.1, -44.38], [-5.2, -39.53], [-22.19, -48.79], [-18.1, -44.38], [-22.19, -48.79], [-24.89, -51.55], [-22.19, -48.79], [-22.19, -48.79], [-22.19, -48.79], [-22.19, -48.79], [-22.19, -48.79], [-22.19, -48.79], [-22.19, -48.79], [-22.19, -48.79], [-22.19, -48.79], [-22.19, -48.79], [-22.25, -42.66], [-22.19, -48.79], [-22.19, -48.79], [-22.19, -48.79], [-22.19, -48.79], [-22.25, -42.66], [-22.25, -42.66], [-22.19, -48.79], [-13.29, -41.71], [-22.19, -48.79], [-22.25, -42.66], [-22.19, -48.79], [-27.45, -50.95], [-18.1, -44.38], [-30.17, -53.5], [-22.19, -48.79], [-5.2, -39.53], [-22.19, -48.79], [-5.2, -39.53], [-22.19, -48.79], [-22.19, -48.79], [-18.1, -44.38], [-13.29, -41.71], [-22.19, -48.79], [-7.28, -36.72], [-22.19, -48.79], [-22.19, -48.79], [-22.19, -48.79], [-27.45, -50.95], [-13.29, -41.71], [-22.25, -42.66], [-22.19, -48.79], [-27.45, -50.95], [-22.19, -48.79], [-22.19, -48.79], [-10.83, -63.34], [-18.1, -44.38], [-22.19, -48.79], [-22.25, -42.66], [-22.25, -42.66], [-15.83, -47.86], [-24.89, -51.55], [-22.25, -42.66], [-22.19, -48.79], [-22.25, -42.66], [-22.19, -48.79], [-22.25, -42.66], [-18.1, -44.38], [-22.19, -48.79], [-18.1, -44.38], [-15.83, -47.86], [-22.19, -48.79], [-22.25, -42.66], [-6.6, -42.28], [-22.25, -42.66], [-5.2, -39.53], [-18.1, -44.38], [-27.45, -50.95], [-18.1, -44.38], [-13.29, -41.71], [-22.19, -48.79], [-18.1, -44.38], [-18.1, -44.38], [-18.1, -44.38], [-22.19, -48.79], [-22.25, -42.66], [-30.17, -53.5], [-22.19, -48.79], [-22.19, -48.79], [-22.25, -42.66], [-22.19, -48.79], [-5.42, -45.44], [-22.19, -48.79], [-22.25, -42.66], [-13.29, -41.71], [-5.81, -36.59], [-22.25, -42.66], [-8.38, -37.86], [-13.29, -41.71], [-20.51, -54.54], [-22.25, -42.66], [-22.19, -48.79], [-22.19, -48.79], [-22.19, -48.79], [-22.19, -48.79], [-18.1, -44.38], [-15.83, -47.86], [-22.19, -48.79], [-18.1, -44.38], [-22.19, -48.79], [-22.19, -48.79], [-22.19, -48.79], [-22.25, -42.66], [-22.19, -48.79], [-12.64, -55.42], [-22.19, -48.79], [-18.1, -44.38], [-19.19, -40.34], [-22.19, -48.79], [-8.38, -37.86], [-22.19, -48.79], [-30.17, -53.5], [-15.98, -49.86], [-22.19, -48.79], [1.41, -51.77], [-30.17, -53.5], [-22.19, -48.79], [-9.46, -48.26], [-22.19, -48.79], [-22.19, -48.79], [-22.19, -48.79], [-22.25, -42.66], [-5.2, -39.53], [-15.83, -47.86], [-22.19, -48.79], [-22.25, -42.66], [-22.19, -48.79], [-22.19, -48.79], [-18.1, -44.38], [-22.19, -48.79], [-15.83, -47.86], [-18.1, -44.38], [-19.19, -40.34], [-8.38, -37.86], [-22.19, -48.79], [-22.19, -48.79], [-22.25, -42.66], [-8.38, -37.86], [-22.19, -48.79], [-8.38, -37.86], [-22.25, -42.66], [-15.98, -49.86], [-18.1, -44.38], [-22.25, -42.66], [-22.19, -48.79], [-22.25, -42.66], [-22.19, -48.79], [-22.19, -48.79], [-22.19, -48.79], [-22.25, -42.66], [-22.25, -42.66], [-18.1, -44.38], [-24.89, -51.55], [-18.1, -44.38], [-30.17, -53.5], [-22.19, -48.79], [-18.1, -44.38], [-22.19, -48.79], [-22.19, -48.79], [-22.19, -48.79], [-22.19, -48.79], [-9.46, -48.26], [-5.81, -36.59], [-22.19, -48.79], [-22.25, -42.66], [-22.25, -42.66], [-22.19, -48.79], [-24.89, -51.55], [-22.19, -48.79], [-3.79, -52.48], [-22.19, -48.79], [-18.1, -44.38], [-22.19, -48.79], [-3.79, -52.48], [-8.38, -37.86], [-18.1, -44.38], [-30.17, -53.5], [-22.19, -48.79], [-19.19, -40.34], [-18.1, -44.38], [-22.25, -42.66], [-30.17, -53.5], [-22.19, -48.79], [-18.1, -44.38], [-22.19, -48.79], [-3.79, -52.48], [-18.1, -44.38], [-22.19, -48.79], [-15.83, -47.86], [-24.89, -51.55], [-22.19, -48.79], [-22.19, -48.79], [-22.25, -42.66], [-27.45, -50.95], [-22.19, -48.79], [-12.64, -55.42], [-22.19, -48.79], [-18.1, -44.38], [-22.19, -48.79], [-22.19, -48.79], [-27.45, -50.95], [-22.19, -48.79], [-22.25, -42.66], [-22.25, -42.66], [-18.1, -44.38], [-22.19, -48.79], [-22.19, -48.79], [-5.2, -39.53], [-22.19, -48.79], [-22.19, -48.79], [-18.1, -44.38], [-22.25, -42.66], [-22.19, -48.79], [-24.89, -51.55], [-22.19, -48.79], [-22.19, -48.79], [-22.19, -48.79], [-24.89, -51.55], [-22.19, -48.79], [-22.19, -48.79], [-30.17, -53.5], [-22.19, -48.79], [-24.89, -51.55], [-30.17, -53.5], [-18.1, -44.38], [-18.1, -44.38], [-18.1, -44.38], [-22.19, -48.79], [-22.25, -42.66], [-27.45, -50.95], [-19.19, -40.34], [-5.2, -39.53], [-22.19, -48.79], [-22.19, -48.79], [-22.19, -48.79], [-30.17, -53.5], [-18.1, -44.38], [-22.25, -42.66], [-22.19, -48.79], [-22.25, -42.66], [-22.25, -42.66], [-18.1, -44.38], [-22.19, -48.79], [-27.45, -50.95], [-22.19, -48.79], [-22.25, -42.66], [-30.17, -53.5], [-6.6, -42.28], [-22.25, -42.66], [-18.1, -44.38], [-27.45, -50.95], [-18.1, -44.38], [-22.25, -42.66], [-13.29, -41.71], [-22.19, -48.79], [-13.29, -41.71], [-24.89, -51.55], [-22.25, -42.66], [-24.89, -51.55], [-22.19, -48.79], [-22.25, -42.66], [-24.89, -51.55], [-30.17, -53.5], [-22.19, -48.79], [-18.1, -44.38], [-22.25, -42.66], [-15.98, -49.86], [-22.25, -42.66], [-18.1, -44.38], [-18.1, -44.38], [-22.19, -48.79], [-22.19, -48.79], [-22.19, -48.79], [-13.29, -41.71], [-24.89, -51.55], [-30.17, -53.5], [-18.1, -44.38], [-22.19, -48.79], [-22.19, -48.79], [-18.1, -44.38], [-15.98, -49.86], [-22.19, -48.79], [-22.25, -42.66], [-22.25, -42.66], [-22.25, -42.66], [-30.17, -53.5], [-22.25, -42.66], [-22.19, -48.79], [-15.83, -47.86], [-22.25, -42.66], [-8.38, -37.86], [-27.45, -50.95], [-22.19, -48.79], [-22.19, -48.79], [-22.19, -48.79], [-22.19, -48.79], [-22.19, -48.79], [-22.19, -48.79], [-22.19, -48.79], [-22.25, -42.66], [-24.89, -51.55], [-7.28, -36.72], [-22.25, -42.66], [-22.19, -48.79], [-6.6, -42.28], [-22.25, -42.66], [-19.19, -40.34], [-13.29, -41.71], [-22.19, -48.79], [-27.45, -50.95], [-22.19, -48.79], [-22.19, -48.79], [-22.19, -48.79], [-30.17, -53.5], [-6.6, -42.28], [-22.25, -42.66], [-27.45, -50.95], [-9.62, -36.82], [-5.81, -36.59], [-22.19, -48.79], [-30.17, -53.5], [-8.38, -37.86], [-22.19, -48.79], [-9.62, -36.82], [-8.38, -37.86], [-30.17, -53.5], [-22.19, -48.79], [-22.19, -48.79], [-22.25, -42.66], [-22.19, -48.79], [-22.19, -48.79], [-19.19, -40.34], [-27.45, -50.95], [-15.83, -47.86], [-22.19, -48.79], [-8.38, -37.86], [-13.29, -41.71], [-22.25, -42.66], [-22.19, -48.79], [-15.98, -49.86], [-22.19, -48.79], [-22.19, -48.79], [-30.17, -53.5], [-22.19, -48.79], [-18.1, -44.38], [-22.19, -48.79], [-30.17, -53.5], [-22.25, -42.66], [-22.19, -48.79], [-22.19, -48.79], [-22.19, -48.79], [-22.19, -48.79], [-13.29, -41.71], [-22.25, -42.66], [-18.1, -44.38], [-22.19, -48.79], [-22.19, -48.79], [-22.19, -48.79], [-22.19, -48.79], [-8.38, -37.86], [-13.29, -41.71], [-22.19, -48.79], [-22.19, -48.79], [-22.19, -48.79], [-22.19, -48.79], [-22.25, -42.66], [-22.25, -42.66], [-22.19, -48.79], [-15.83, -47.86], [-18.1, -44.38], [-22.19, -48.79], [-22.25, -42.66], [-22.25, -42.66], [-3.79, -52.48], [-22.19, -48.79], [-18.1, -44.38], [-15.83, -47.86], [-22.19, -48.79], [-24.89, -51.55], [-22.19, -48.79], [-22.19, -48.79], [-22.19, -48.79], [-13.29, -41.71], [-15.83, -47.86], [-27.45, -50.95], [-18.1, -44.38], [-30.17, -53.5], [-8.38, -37.86], [-18.1, -44.38], [-22.19, -48.79], [-22.25, -42.66], [-22.25, -42.66], [-15.83, -47.86], [-15.83, -47.86], [-22.19, -48.79], [-22.19, -48.79], [-22.19, -48.79], [-18.1, -44.38], [-18.1, -44.38], [-5.42, -45.44], [-22.19, -48.79], [-22.25, -42.66], [-13.29, -41.71], [-22.25, -42.66], [-15.98, -49.86], [-22.19, -48.79], [-30.17, -53.5], [-22.25, -42.66], [-24.89, -51.55], [-22.19, -48.79], [-24.89, -51.55], [-22.19, -48.79], [-18.1, -44.38], [-15.83, -47.86], [-22.19, -48.79], [-18.1, -44.38], [-22.25, -42.66], [-15.83, -47.86], [-22.19, -48.79], [-22.25, -42.66], [-18.1, -44.38], [-22.25, -42.66], [-7.28, -36.72], [-30.17, -53.5], [-18.1, -44.38], [-22.25, -42.66], [-22.25, -42.66], [-22.19, -48.79], [-18.1, -44.38], [-22.25, -42.66], [-24.89, -51.55], [-18.1, -44.38], [-24.89, -51.55], [-18.1, -44.38], [-15.98, -49.86], [-22.19, -48.79], [-24.89, -51.55], [-22.19, -48.79], [-30.17, -53.5], [-22.25, -42.66], [-18.1, -44.38], [-22.19, -48.79], [-22.19, -48.79], [-22.19, -48.79], [-20.51, -54.54], [-22.19, -48.79], [-13.29, -41.71], [-22.19, -48.79], [-7.28, -36.72], [-22.19, -48.79], [-22.19, -48.79], [-24.89, -51.55], [-30.17, -53.5], [-22.19, -48.79], [-30.17, -53.5], [-20.51, -54.54], [-22.19, -48.79], [-24.89, -51.55], [-22.19, -48.79], [-9.62, -36.82], [-22.25, -42.66], [-22.25, -42.66], [-22.19, -48.79], [-10.57, -37.45], [-22.19, -48.79], [-24.89, -51.55], [-22.19, -48.79], [-18.1, -44.38], [-22.19, -48.79], [-30.17, -53.5], [-22.25, -42.66], [-22.19, -48.79], [-22.25, -42.66], [-18.1, -44.38], [-9.46, -48.26], [-27.45, -50.95], [-22.19, -48.79], [-5.42, -45.44], [-22.19, -48.79], [-22.19, -48.79], [-22.25, -42.66], [-22.19, -48.79], [-22.19, -48.79], [-22.25, -42.66], [-22.19, -48.79], [-15.98, -49.86], [-22.19, -48.79], [-22.25, -42.66], [-22.19, -48.79], [-24.89, -51.55], [-19.19, -40.34], [-9.46, -48.26], [-13.29, -41.71], [-22.19, -48.79], [-5.81, -36.59], [-22.19, -48.79], [-22.19, -48.79], [-22.19, -48.79], [-30.17, -53.5], [-30.17, -53.5], [-22.19, -48.79], [-15.98, -49.86], [-22.25, -42.66], [-5.2, -39.53], [-22.19, -48.79], [-22.19, -48.79], [-30.17, -53.5], [-22.19, -48.79], [-22.19, -48.79], [-15.98, -49.86], [-18.1, -44.38], [-22.19, -48.79], [-18.1, -44.38], [-22.19, -48.79], [-24.89, -51.55], [-27.45, -50.95], [-24.89, -51.55], [-24.89, -51.55], [-22.19, -48.79], [-18.1, -44.38], [-27.45, -50.95], [-18.1, -44.38], [-22.19, -48.79], [-22.19, -48.79], [-24.89, -51.55], [-24.89, -51.55], [-22.19, -48.79], [-22.19, -48.79], [-22.25, -42.66], [-30.17, -53.5], [-22.19, -48.79], [-22.19, -48.79], [-22.19, -48.79], [-22.19, -48.79], [-18.1, -44.38], [-22.19, -48.79], [-22.19, -48.79], [-18.1, -44.38], [-22.19, -48.79], [-22.19, -48.79], [-27.45, -50.95], [-24.89, -51.55], [-22.19, -48.79], [-15.83, -47.86], [-22.19, -48.79], [-22.19, -48.79], [-22.19, -48.79], [-22.19, -48.79], [-22.19, -48.79], [-22.19, -48.79], [-18.1, -44.38], [-18.1, -44.38], [-27.45, -50.95], [-3.79, -52.48], [-24.89, -51.55], [-22.19, -48.79], [-15.98, -49.86], [-3.79, -52.48], [-5.42, -45.44], [-22.19, -48.79], [-22.25, -42.66], [-22.19, -48.79], [-22.19, -48.79], [-22.19, -48.79], [-30.17, -53.5], [-18.1, -44.38], [-24.89, -51.55], [-22.19, -48.79], [-24.89, -51.55], [-3.79, -52.48], [-22.25, -42.66], [-27.45, -50.95], [-22.19, -48.79], [-22.25, -42.66], [-18.1, -44.38], [-22.19, -48.79], [-22.19, -48.79], [-22.19, -48.79], [-22.19, -48.79], [-22.25, -42.66], [-24.89, -51.55], [-18.1, -44.38], [-22.25, -42.66], [-22.19, -48.79], [-15.83, -47.86], [-22.25, -42.66], [-24.89, -51.55], [-18.1, -44.38], [-22.25, -42.66], [-22.19, -48.79], [-22.19, -48.79], [-18.1, -44.38], [-18.1, -44.38], [-18.1, -44.38], [-22.25, -42.66], [-5.2, -39.53], [-22.25, -42.66], [-22.25, -42.66], [-22.19, -48.79], [-22.19, -48.79], [-22.19, -48.79], [-8.38, -37.86], [-22.19, -48.79], [-22.19, -48.79], [-22.19, -48.79], [-22.19, -48.79], [-30.17, -53.5], [-22.25, -42.66], [-24.89, -51.55], [-22.19, -48.79], [-22.19, -48.79], [-30.17, -53.5], [-22.19, -48.79], [-22.19, -48.79], [-12.64, -55.42], [-22.25, -42.66], [-22.25, -42.66], [-18.1, -44.38], [-18.1, -44.38], [-24.89, -51.55], [-22.25, -42.66], [-5.2, -39.53], [-22.19, -48.79], [-5.2, -39.53], [-22.19, -48.79], [-5.2, -39.53], [-22.19, -48.79], [-22.25, -42.66], [-30.17, -53.5], [-22.19, -48.79], [-22.25, -42.66], [-13.29, -41.71], [-22.19, -48.79], [-22.19, -48.79], [-22.19, -48.79], [-22.19, -48.79], [-22.19, -48.79], [-22.19, -48.79], [-18.1, -44.38], [-18.1, -44.38], [-18.1, -44.38], [-24.89, -51.55], [-22.19, -48.79], [-22.19, -48.79], [-22.19, -48.79], [-18.1, -44.38], [-22.19, -48.79], [-30.17, -53.5], [-22.25, -42.66], [-22.25, -42.66], [-22.19, -48.79], [-30.17, -53.5], [-18.1, -44.38], [-18.1, -44.38], [-22.25, -42.66], [-27.45, -50.95], [-22.25, -42.66], [-22.19, -48.79], [-22.19, -48.79], [-22.19, -48.79], [-30.17, -53.5], [-8.38, -37.86], [-22.19, -48.79], [-22.19, -48.79], [-22.19, -48.79], [-22.25, -42.66], [-22.19, -48.79], [-24.89, -51.55], [-22.19, -48.79], [-22.19, -48.79], [-24.89, -51.55], [-22.19, -48.79], [-22.19, -48.79], [-30.17, -53.5], [-22.19, -48.79], [-22.19, -48.79], [-22.19, -48.79], [-22.19, -48.79], [-30.17, -53.5], [-13.29, -41.71], [-18.1, -44.38], [-22.19, -48.79], [-22.19, -48.79], [-22.19, -48.79], [-22.19, -48.79], [-18.1, -44.38], [-6.6, -42.28], [-13.29, -41.71], [-22.25, -42.66], [-22.25, -42.66], [-15.83, -47.86], [-22.19, -48.79], [-22.19, -48.79], [-18.1, -44.38], [-22.19, -48.79], [-24.89, -51.55], [-22.19, -48.79], [-22.19, -48.79], [-12.64, -55.42], [-27.45, -50.95], [-22.19, -48.79], [-22.19, -48.79], [-22.19, -48.79], [-22.25, -42.66], [-22.19, -48.79], [-6.6, -42.28], [-22.25, -42.66], [-22.25, -42.66], [-22.19, -48.79], [-18.1, -44.38], [-18.1, -44.38], [-24.89, -51.55], [-22.19, -48.79], [-18.1, -44.38], [-22.19, -48.79], [-24.89, -51.55], [-22.19, -48.79], [1.41, -51.77], [-5.2, -39.53], [-22.19, -48.79], [-22.19, -48.79], [-22.19, -48.79], [-30.17, -53.5], [-22.25, -42.66], [-22.19, -48.79], [-22.19, -48.79], [-22.19, -48.79], [-22.25, -42.66], [-18.1, -44.38], [-22.19, -48.79], [-22.19, -48.79], [-22.25, -42.66], [-8.38, -37.86], [-22.19, -48.79], [-22.25, -42.66], [-22.19, -48.79], [-22.25, -42.66], [-22.19, -48.79], [-22.19, -48.79], [-5.42, -45.44], [-15.83, -47.86], [-22.25, -42.66], [-8.38, -37.86], [-18.1, -44.38], [-22.19, -48.79], [-24.89, -51.55], [-22.19, -48.79], [-24.89, -51.55], [-20.51, -54.54], [-18.1, -44.38], [-22.19, -48.79], [-22.25, -42.66], [-22.25, -42.66], [-22.19, -48.79], [-22.25, -42.66], [-22.19, -48.79], [-22.25, -42.66], [-8.38, -37.86], [-22.25, -42.66], [-30.17, -53.5], [-22.25, -42.66], [-10.57, -37.45], [-22.19, -48.79], [-5.2, -39.53], [-30.17, -53.5], [-24.89, -51.55], [-13.29, -41.71], [-22.19, -48.79], [-18.1, -44.38], [-10.57, -37.45], [-22.19, -48.79], [-18.1, -44.38], [-22.19, -48.79], [-30.17, -53.5], [-18.1, -44.38], [-22.19, -48.79], [-19.19, -40.34], [-13.29, -41.71], [-15.83, -47.86], [-22.19, -48.79], [-22.19, -48.79], [-22.19, -48.79], [-22.19, -48.79], [-18.1, -44.38], [-22.19, -48.79], [-24.89, -51.55], [-27.45, -50.95], [-22.19, -48.79], [-22.19, -48.79], [-22.19, -48.79], [-22.19, -48.79], [-19.19, -40.34], [-22.19, -48.79], [-22.19, -48.79], [-22.19, -48.79], [-30.17, -53.5], [-22.19, -48.79], [-15.83, -47.86], [-27.45, -50.95], [-5.2, -39.53], [-22.19, -48.79], [-22.19, -48.79], [-20.51, -54.54], [-22.25, -42.66], [-24.89, -51.55], [-8.38, -37.86], [-22.25, -42.66], [-13.29, -41.71], [-30.17, -53.5], [-22.25, -42.66], [-30.17, -53.5], [-3.47, -65.1], [-22.19, -48.79], [-22.19, -48.79], [-18.1, -44.38], [-22.25, -42.66], [-22.25, -42.66], [-18.1, -44.38], [-24.89, -51.55], [-22.19, -48.79], [-22.19, -48.79], [-24.89, -51.55], [-24.89, -51.55], [-22.19, -48.79], [-22.19, -48.79], [-13.29, -41.71], [-22.25, -42.66], [-19.19, -40.34], [-22.19, -48.79], [-13.29, -41.71], [-22.19, -48.79], [-22.19, -48.79], [-27.45, -50.95], [-24.89, -51.55], [-22.19, -48.79], [-18.1, -44.38], [-13.29, -41.71], [-30.17, -53.5], [-22.19, -48.79], [-19.19, -40.34], [-30.17, -53.5], [-5.42, -45.44], [-22.25, -42.66], [-22.19, -48.79], [-22.25, -42.66], [-22.25, -42.66], [-22.19, -48.79], [-27.45, -50.95], [-15.83, -47.86], [-22.19, -48.79], [-22.19, -48.79], [-22.19, -48.79], [-22.19, -48.79], [-22.19, -48.79], [-30.17, -53.5], [-19.19, -40.34], [-13.29, -41.71], [-22.19, -48.79], [-22.19, -48.79], [-3.47, -65.1], [-22.19, -48.79], [-22.19, -48.79], [-22.19, -48.79], [-22.19, -48.79], [-15.83, -47.86], [-30.17, -53.5], [-5.2, -39.53], [-24.89, -51.55], [-22.19, -48.79], [-22.19, -48.79], [-22.19, -48.79], [-22.19, -48.79], [-22.19, -48.79], [-22.19, -48.79], [-13.29, -41.71], [-27.45, -50.95], [-15.83, -47.86], [-22.19, -48.79], [-5.42, -45.44], [-13.29, -41.71], [-22.19, -48.79], [-22.25, -42.66], [-22.19, -48.79], [-18.1, -44.38], [-24.89, -51.55], [-22.19, -48.79], [-22.19, -48.79], [-22.19, -48.79], [-22.19, -48.79], [-22.19, -48.79], [-22.25, -42.66], [-15.83, -47.86], [-22.19, -48.79], [-6.6, -42.28], [-22.19, -48.79], [-24.89, -51.55], [-22.19, -48.79], [-18.1, -44.38], [-18.1, -44.38], [-18.1, -44.38], [-6.6, -42.28], [-27.45, -50.95], [-18.1, -44.38], [-5.2, -39.53], [-22.19, -48.79], [-18.1, -44.38], [-22.19, -48.79], [-22.19, -48.79], [-18.1, -44.38], [-3.79, -52.48], [-22.25, -42.66], [-6.6, -42.28], [-19.19, -40.34], [-22.19, -48.79], [-18.1, -44.38], [-22.19, -48.79], [-13.29, -41.71], [-30.17, -53.5], [-22.19, -48.79], [-22.19, -48.79], [-15.83, -47.86], [-22.19, -48.79], [-22.19, -48.79], [-22.19, -48.79], [-22.19, -48.79], [-22.19, -48.79], [-22.19, -48.79], [-15.83, -47.86], [-22.19, -48.79], [-22.19, -48.79], [-30.17, -53.5], [-27.45, -50.95], [-18.1, -44.38], [-8.38, -37.86], [-22.19, -48.79], [-22.19, -48.79], [-8.38, -37.86], [-30.17, -53.5], [-22.25, -42.66], [-19.19, -40.34], [-18.1, -44.38], [-22.19, -48.79], [-22.19, -48.79], [-22.25, -42.66], [-22.19, -48.79], [-22.19, -48.79], [-22.25, -42.66], [-22.19, -48.79], [-18.1, -44.38], [-22.19, -48.79], [-24.89, -51.55], [-22.19, -48.79], [-20.51, -54.54], [-18.1, -44.38], [-7.28, -36.72], [-18.1, -44.38], [-22.19, -48.79], [-5.2, -39.53], [-19.19, -40.34], [-22.19, -48.79], [-30.17, -53.5], [-13.29, -41.71], [-15.98, -49.86], [-22.19, -48.79], [-20.51, -54.54], [-22.25, -42.66], [-5.81, -36.59], [-22.19, -48.79], [-10.83, -63.34], [-22.25, -42.66], [-22.19, -48.79], [-18.1, -44.38], [-22.19, -48.79], [-22.19, -48.79], [-22.19, -48.79], [-3.79, -52.48], [-18.1, -44.38], [-22.25, -42.66], [-5.42, -45.44], [-22.19, -48.79], [-18.1, -44.38], [-22.19, -48.79], [-24.89, -51.55], [-22.19, -48.79], [-18.1, -44.38], [-22.25, -42.66], [-19.19, -40.34], [-7.28, -36.72], [-19.19, -40.34], [-22.25, -42.66], [-12.64, -55.42], [-22.25, -42.66], [-24.89, -51.55], [-22.19, -48.79], [-22.19, -48.79], [-22.25, -42.66], [-18.1, -44.38], [-22.19, -48.79], [-27.45, -50.95], [-22.25, -42.66], [-24.89, -51.55], [-8.38, -37.86], [-18.1, -44.38], [-27.45, -50.95], [-18.1, -44.38], [-22.19, -48.79], [-27.45, -50.95], [-22.19, -48.79], [-22.19, -48.79], [-18.1, -44.38], [-22.19, -48.79], [-22.19, -48.79], [-22.19, -48.79], [-15.83, -47.86], [-20.51, -54.54], [-22.19, -48.79], [-18.1, -44.38], [-22.19, -48.79], [-22.19, -48.79], [-22.19, -48.79], [-22.19, -48.79], [-24.89, -51.55], [-13.29, -41.71], [-22.19, -48.79], [-22.25, -42.66], [-22.19, -48.79], [-22.19, -48.79], [-24.89, -51.55], [-18.1, -44.38], [-22.19, -48.79], [-22.19, -48.79], [-22.19, -48.79], [-22.19, -48.79], [-13.29, -41.71], [-22.25, -42.66], [-5.81, -36.59], [-22.19, -48.79], [-27.45, -50.95], [-30.17, -53.5], [-24.89, -51.55], [-24.89, -51.55], [-27.45, -50.95], [-18.1, -44.38], [-12.64, -55.42], [-8.38, -37.86], [-18.1, -44.38], [-22.19, -48.79], [-22.19, -48.79], [-24.89, -51.55], [-22.19, -48.79], [-22.19, -48.79], [-22.19, -48.79], [-13.29, -41.71], [-24.89, -51.55], [-22.19, -48.79], [-27.45, -50.95], [-24.89, -51.55], [-22.25, -42.66], [-22.19, -48.79], [-22.19, -48.79], [-22.19, -48.79], [-22.19, -48.79], [-22.19, -48.79], [-22.19, -48.79], [-22.19, -48.79], [-15.98, -49.86], [-20.51, -54.54], [-18.1, -44.38], [-18.1, -44.38], [-22.19, -48.79], [-22.25, -42.66], [-5.42, -45.44], [-22.19, -48.79], [-19.19, -40.34], [-24.89, -51.55], [-22.25, -42.66], [-20.51, -54.54], [-24.89, -51.55], [-13.29, -41.71], [-22.19, -48.79], [-22.19, -48.79], [-18.1, -44.38], [-22.19, -48.79], [-22.25, -42.66], [-15.98, -49.86], [-22.25, -42.66], [-22.19, -48.79], [-6.6, -42.28], [-27.45, -50.95], [-30.17, -53.5], [-24.89, -51.55], [-22.25, -42.66], [-20.51, -54.54], [1.41, -51.77], [-18.1, -44.38], [-5.42, -45.44], [-15.83, -47.86], [-15.83, -47.86], [-13.29, -41.71], [-22.19, -48.79], [-22.19, -48.79], [-22.19, -48.79], [-20.51, -54.54], [-22.19, -48.79], [-22.19, -48.79], [-20.51, -54.54], [-22.19, -48.79], [-22.19, -48.79], [-24.89, -51.55], [-22.25, -42.66], [-15.83, -47.86], [-24.89, -51.55], [-22.25, -42.66], [-30.17, -53.5], [-5.81, -36.59], [-8.38, -37.86], [-6.6, -42.28], [-5.2, -39.53], [-22.19, -48.79], [-24.89, -51.55], [-22.19, -48.79], [-13.29, -41.71], [-22.25, -42.66], [-22.19, -48.79], [-22.19, -48.79], [-22.19, -48.79], [-22.25, -42.66], [-22.19, -48.79], [-22.25, -42.66], [-22.19, -48.79], [-22.19, -48.79], [-18.1, -44.38], [-22.19, -48.79], [-22.19, -48.79], [-22.19, -48.79], [-27.45, -50.95], [-22.19, -48.79], [-13.29, -41.71], [-22.19, -48.79], [-15.98, -49.86], [-22.25, -42.66], [-18.1, -44.38], [-18.1, -44.38], [-20.51, -54.54], [-22.19, -48.79], [-22.19, -48.79], [-24.89, -51.55], [-3.79, -52.48], [-22.19, -48.79], [-18.1, -44.38], [-27.45, -50.95], [-19.19, -40.34], [-22.19, -48.79], [-22.19, -48.79], [-8.38, -37.86], [-22.19, -48.79], [-27.45, -50.95], [-22.19, -48.79], [-22.19, -48.79], [-30.17, -53.5], [-22.19, -48.79], [-13.29, -41.71], [-5.42, -45.44], [-22.19, -48.79], [-24.89, -51.55], [-22.25, -42.66], [-8.38, -37.86], [-22.19, -48.79], [-22.19, -48.79], [-22.25, -42.66], [-30.17, -53.5], [-22.19, -48.79], [-22.19, -48.79], [-22.19, -48.79], [-22.19, -48.79], [-27.45, -50.95], [-30.17, -53.5], [-22.19, -48.79], [-22.19, -48.79], [-6.6, -42.28], [-22.19, -48.79], [-18.1, -44.38], [-22.19, -48.79], [-22.19, -48.79], [-5.81, -36.59], [-8.38, -37.86], [-15.98, -49.86], [-15.98, -49.86], [-22.19, -48.79], [-27.45, -50.95], [-8.38, -37.86], [-27.45, -50.95], [-22.19, -48.79], [-22.19, -48.79], [-27.45, -50.95], [-6.6, -42.28], [-22.19, -48.79], [-24.89, -51.55], [-6.6, -42.28], [-22.19, -48.79], [-22.19, -48.79], [-19.19, -40.34], [-22.25, -42.66], [-22.19, -48.79], [-15.83, -47.86], [-22.19, -48.79], [-22.25, -42.66], [-24.89, -51.55], [-22.19, -48.79], [-22.19, -48.79], [-22.19, -48.79], [-27.45, -50.95], [-22.25, -42.66], [-18.1, -44.38], [-3.79, -52.48], [-22.19, -48.79], [-22.19, -48.79], [-22.19, -48.79], [-22.19, -48.79], [-22.19, -48.79], [-18.1, -44.38], [-22.19, -48.79], [-15.98, -49.86], [-22.19, -48.79], [-15.83, -47.86], [-22.19, -48.79], [-22.25, -42.66], [-5.42, -45.44], [-18.1, -44.38], [-13.29, -41.71], [-22.19, -48.79], [-22.25, -42.66], [-5.2, -39.53], [-12.64, -55.42], [-22.25, -42.66], [-22.19, -48.79], [-22.19, -48.79], [-22.25, -42.66], [-13.29, -41.71], [-13.29, -41.71], [-22.19, -48.79], [-15.83, -47.86], [-22.25, -42.66], [-22.19, -48.79], [-22.19, -48.79], [-13.29, -41.71], [-22.19, -48.79], [-30.17, -53.5], [-22.19, -48.79], [-22.19, -48.79], [-22.19, -48.79], [-3.79, -52.48], [-30.17, -53.5], [-22.25, -42.66], [-22.19, -48.79], [-22.19, -48.79], [-22.19, -48.79], [-7.28, -36.72], [-22.19, -48.79], [-22.25, -42.66], [-22.19, -48.79], [-22.19, -48.79], [-22.19, -48.79], [-22.19, -48.79], [-22.19, -48.79], [-24.89, -51.55], [-30.17, -53.5], [-22.19, -48.79], [-22.19, -48.79], [-24.89, -51.55], [-22.19, -48.79], [-24.89, -51.55], [-22.19, -48.79], [-22.19, -48.79], [-15.98, -49.86], [-24.89, -51.55], [-24.89, -51.55], [-15.98, -49.86], [-22.19, -48.79], [-30.17, -53.5], [-22.19, -48.79], [-22.19, -48.79], [-22.19, -48.79], [-22.19, -48.79], [-18.1, -44.38], [-22.25, -42.66], [-30.17, -53.5], [-8.38, -37.86], [-22.19, -48.79], [-22.19, -48.79], [-22.25, -42.66], [-22.19, -48.79], [-22.19, -48.79], [-22.25, -42.66], [-18.1, -44.38], [-22.19, -48.79], [-22.25, -42.66], [-5.2, -39.53], [-22.19, -48.79], [-22.25, -42.66], [-22.19, -48.79], [-22.19, -48.79], [-18.1, -44.38], [-18.1, -44.38], [-6.6, -42.28], [-13.29, -41.71], [-22.19, -48.79], [-22.19, -48.79], [-22.19, -48.79], [-13.29, -41.71], [-24.89, -51.55], [-8.38, -37.86], [-27.45, -50.95], [-22.25, -42.66], [-22.19, -48.79], [-27.45, -50.95], [-22.19, -48.79], [-22.25, -42.66], [-22.19, -48.79], [-22.19, -48.79], [-22.19, -48.79], [-22.25, -42.66], [-22.25, -42.66], [-18.1, -44.38], [-13.29, -41.71], [-22.19, -48.79], [-22.19, -48.79], [-22.19, -48.79], [-22.19, -48.79], [-22.19, -48.79], [-22.19, -48.79], [-18.1, -44.38], [-22.19, -48.79], [-13.29, -41.71], [-22.25, -42.66], [-22.25, -42.66], [-18.1, -44.38], [-18.1, -44.38], [-24.89, -51.55], [-27.45, -50.95], [-24.89, -51.55], [-22.19, -48.79], [-22.19, -48.79], [-24.89, -51.55], [-22.19, -48.79], [-22.19, -48.79], [-22.19, -48.79], [-22.25, -42.66], [-8.38, -37.86], [-13.29, -41.71], [-22.19, -48.79], [-18.1, -44.38], [-22.19, -48.79], [-22.19, -48.79], [-22.19, -48.79], [-13.29, -41.71], [-27.45, -50.95], [-22.19, -48.79], [-22.19, -48.79], [-22.19, -48.79], [-27.45, -50.95], [-18.1, -44.38], [-22.19, -48.79], [-24.89, -51.55], [-19.19, -40.34], [-22.19, -48.79], [-22.19, -48.79], [-22.19, -48.79], [-22.19, -48.79], [-18.1, -44.38], [-22.25, -42.66], [-22.19, -48.79], [-22.25, -42.66], [-19.19, -40.34], [-22.19, -48.79], [-22.19, -48.79], [-22.19, -48.79], [-27.45, -50.95], [-30.17, -53.5], [-18.1, -44.38], [-27.45, -50.95], [-18.1, -44.38], [-18.1, -44.38], [-22.19, -48.79], [-22.19, -48.79], [-6.6, -42.28], [-3.79, -52.48], [-22.25, -42.66], [-22.19, -48.79], [-13.29, -41.71], [-22.25, -42.66], [-13.29, -41.71], [-18.1, -44.38], [-22.19, -48.79], [-30.17, -53.5], [-22.19, -48.79], [-30.17, -53.5], [-22.19, -48.79], [-22.25, -42.66], [-22.25, -42.66], [-18.1, -44.38], [-22.19, -48.79], [-22.25, -42.66], [-22.25, -42.66], [-18.1, -44.38], [-27.45, -50.95], [-22.25, -42.66], [-15.98, -49.86], [-5.2, -39.53], [-22.19, -48.79], [-19.19, -40.34], [-22.19, -48.79], [-22.19, -48.79], [-5.81, -36.59], [-22.19, -48.79], [-18.1, -44.38], [-15.83, -47.86], [-12.64, -55.42], [-22.19, -48.79], [-22.19, -48.79], [-24.89, -51.55], [-22.19, -48.79], [-24.89, -51.55], [-8.38, -37.86], [-18.1, -44.38], [-22.19, -48.79], [-13.29, -41.71], [-22.19, -48.79], [-18.1, -44.38], [-22.19, -48.79], [-30.17, -53.5], [-27.45, -50.95], [-22.25, -42.66], [-18.1, -44.38], [-22.19, -48.79], [-22.19, -48.79], [-22.25, -42.66], [-27.45, -50.95], [-15.83, -47.86], [-30.17, -53.5], [-13.29, -41.71], [-19.19, -40.34], [-3.79, -52.48], [-18.1, -44.38], [-22.19, -48.79], [-18.1, -44.38], [-22.19, -48.79], [-22.25, -42.66], [-18.1, -44.38], [-18.1, -44.38], [-22.19, -48.79], [-22.19, -48.79], [-22.19, -48.79], [-18.1, -44.38], [-22.19, -48.79], [-22.19, -48.79], [-22.19, -48.79], [-8.38, -37.86], [-18.1, -44.38], [-22.19, -48.79], [-22.19, -48.79], [-22.25, -42.66], [-22.19, -48.79], [-22.19, -48.79], [-18.1, -44.38], [-30.17, -53.5], [-24.89, -51.55], [-15.98, -49.86], [-22.19, -48.79], [-22.25, -42.66], [-22.19, -48.79], [-13.29, -41.71], [-18.1, -44.38], [-22.19, -48.79], [-22.19, -48.79], [-30.17, -53.5], [-5.81, -36.59], [-22.19, -48.79], [-24.89, -51.55], [-22.25, -42.66], [-22.25, -42.66], [-5.2, -39.53], [-22.19, -48.79], [-18.1, -44.38], [-18.1, -44.38], [-30.17, -53.5], [-30.17, -53.5], [-8.38, -37.86], [-18.1, -44.38], [-18.1, -44.38], [-22.19, -48.79], [-30.17, -53.5], [-22.19, -48.79], [-22.25, -42.66], [-7.28, -36.72], [-22.19, -48.79], [-22.19, -48.79], [-22.19, -48.79], [-13.29, -41.71], [-22.19, -48.79], [-22.25, -42.66], [-22.19, -48.79], [-22.25, -42.66], [-22.25, -42.66], [-22.19, -48.79], [-22.19, -48.79], [-22.19, -48.79], [-30.17, -53.5], [-8.38, -37.86], [-22.19, -48.79], [-18.1, -44.38], [-22.25, -42.66], [-30.17, -53.5], [-18.1, -44.38], [-18.1, -44.38], [-22.19, -48.79], [-22.19, -48.79], [-22.19, -48.79], [-13.29, -41.71], [-22.19, -48.79], [-22.19, -48.79], [-24.89, -51.55], [-18.1, -44.38], [-22.25, -42.66], [-19.19, -40.34], [-22.19, -48.79], [-30.17, -53.5], [-5.2, -39.53], [-13.29, -41.71], [-18.1, -44.38], [-22.19, -48.79], [-18.1, -44.38], [-18.1, -44.38], [-22.19, -48.79], [-22.19, -48.79], [-22.19, -48.79], [-22.19, -48.79], [-22.25, -42.66], [-22.19, -48.79], [-22.19, -48.79], [-22.19, -48.79], [-22.25, -42.66], [-18.1, -44.38], [-22.19, -48.79], [-22.25, -42.66], [-20.51, -54.54], [-22.19, -48.79], [-22.19, -48.79], [-22.25, -42.66], [-22.25, -42.66], [-22.25, -42.66], [-22.25, -42.66], [-13.29, -41.71], [-18.1, -44.38], [-30.17, -53.5], [-22.19, -48.79], [-27.45, -50.95], [-24.89, -51.55], [-22.25, -42.66], [-22.25, -42.66], [-12.64, -55.42], [-22.19, -48.79], [-18.1, -44.38], [-22.25, -42.66], [-22.19, -48.79], [-30.17, -53.5], [-22.25, -42.66], [-30.17, -53.5], [-5.42, -45.44], [-30.17, -53.5], [-18.1, -44.38], [-24.89, -51.55], [-15.83, -47.86], [-30.17, -53.5], [-18.1, -44.38], [-18.1, -44.38], [-27.45, -50.95], [-22.19, -48.79], [-22.19, -48.79], [-18.1, -44.38], [-18.1, -44.38], [-24.89, -51.55], [-22.25, -42.66], [-22.19, -48.79], [-22.19, -48.79], [-22.19, -48.79], [-18.1, -44.38], [-30.17, -53.5], [-13.29, -41.71], [-22.19, -48.79], [-5.2, -39.53], [-18.1, -44.38], [-5.2, -39.53], [-7.28, -36.72], [-22.19, -48.79], [-22.19, -48.79], [-18.1, -44.38], [-22.19, -48.79], [-8.38, -37.86], [-22.25, -42.66], [-22.19, -48.79], [-22.19, -48.79], [-7.28, -36.72], [-22.19, -48.79], [-22.25, -42.66], [-22.19, -48.79], [-24.89, -51.55], [-22.19, -48.79], [-22.19, -48.79], [-18.1, -44.38], [-22.25, -42.66], [-24.89, -51.55], [-22.19, -48.79], [-18.1, -44.38], [-22.25, -42.66], [-15.98, -49.86], [-15.83, -47.86], [-24.89, -51.55], [-18.1, -44.38], [-30.17, -53.5], [-18.1, -44.38], [-22.19, -48.79], [-15.83, -47.86], [-30.17, -53.5], [-8.38, -37.86], [-15.83, -47.86], [-22.19, -48.79], [-22.19, -48.79], [-22.19, -48.79], [-22.19, -48.79], [-22.19, -48.79], [-22.19, -48.79], [-27.45, -50.95], [-22.19, -48.79], [-30.17, -53.5], [-30.17, -53.5], [-19.19, -40.34], [-8.38, -37.86], [-22.25, -42.66], [-22.19, -48.79], [-22.19, -48.79], [-22.19, -48.79], [-22.19, -48.79], [-22.25, -42.66], [-22.19, -48.79], [-22.19, -48.79], [-22.19, -48.79], [-18.1, -44.38], [-13.29, -41.71], [-22.19, -48.79], [-22.19, -48.79], [-22.19, -48.79], [-22.19, -48.79], [-13.29, -41.71], [-30.17, -53.5], [-5.2, -39.53], [-12.64, -55.42], [-22.19, -48.79], [-22.19, -48.79], [-22.19, -48.79], [-13.29, -41.71], [-22.19, -48.79], [-30.17, -53.5], [-22.25, -42.66], [-22.25, -42.66], [-8.38, -37.86], [-22.19, -48.79], [-24.89, -51.55], [-22.19, -48.79]],\n",
              "                {\n",
              "  &quot;minOpacity&quot;: 0.5,\n",
              "  &quot;maxZoom&quot;: 18,\n",
              "  &quot;radius&quot;: 25,\n",
              "  &quot;blur&quot;: 15,\n",
              "}\n",
              "            );\n",
              "        \n",
              "    \n",
              "            heat_map_07b5bcc16ce40a53fec0633e73720dcf.addTo(map_4cc124a7f57e261cc3cc8ddbc9fad3ed);\n",
              "        \n",
              "&lt;/script&gt;\n",
              "&lt;/html&gt;\" style=\"position:absolute;width:100%;height:100%;left:0;top:0;border:none !important;\" allowfullscreen webkitallowfullscreen mozallowfullscreen></iframe></div></div>"
            ]
          },
          "metadata": {},
          "execution_count": 162
        }
      ]
    },
    {
      "cell_type": "markdown",
      "source": [
        "# 7. Relatório de Desempenho Comercial – Análise Comparativa das Unidades de Venda"
      ],
      "metadata": {
        "id": "fxxzfKOqcoBW"
      }
    },
    {
      "cell_type": "markdown",
      "source": [
        "#### O objetivo deste relatório é avaliar o desempenho das quatro lojas com base em métricas comerciais e operacionais, visando recomendar qual unidade deve ser vendida para redirecionamento de investimento\n",
        "\n",
        "#### Os critérios avaliados em questão foram os seguintes:\n",
        "- Estimativa de Faturamento total\n",
        "- Média de Avaliação\n",
        "- Média de Frete\n",
        "- Vendas por Categoria\n",
        "- Produtos mais e menos vendidos\n",
        "- Análise da distribuição geográfica das vendas\n",
        "\n",
        "### 1. Faturamento por loja\n",
        "\n",
        "- A loja 1 destaca-se pela maior estimativa de faturamento total, enquanto a loja 4 surge com o valor mais baixo.\n",
        "\n",
        "### 2. Avaliação média dos clientes\n",
        "- A loja 3 se mostra no topo das médias de avaliações, enquanto a loja 1 enfrenta uma queda no índice.\n",
        "\n",
        "### 3. Frete médio\n",
        "- A loja 1 supera as outras na maior média de custo de frete, enquanto a loja 4 se mostra mais acessível em relação ao frete.\n",
        "\n",
        "### 4. Vendas por categoria em cada loja\n",
        "- Em todas as lojas, a categoria 'moveis' estrela no primeiro lugar.\n",
        "\n",
        "### 5. Produtos mais e menos vendidos\n",
        "- Produtos como Micro-ondas, 'Iniciando em programação', Kit banquetas e Cama box aparecem com vendas de 60 para cima em cada loja, respectivamente\n",
        "- Produtos como Panela de pressão, Mesa de jantar, Mochila e Violão aparecem com vendas de 36 para baixo em cada loja, respectivamente\n",
        "\n",
        "### EXTRA: Análise da distribuição geográfica das vendas\n",
        "- Ao mapear a abrangência das vendas de cada loja, foi possível identificar diferenças claras na cobertura territorial:\n",
        "  - As Lojas 1 e 2 alcançam o estado do Amapá, mas não Roraima, indicando limitações logísticas ou estratégicas nessas regiões.\n",
        "  - A Loja 3 se destaca por atingir todos os estados do Brasil, demonstrando maior capacidade de distribuição e potencial de crescimento nacional.\n",
        "  - A Loja 4 também não alcança Roraima, reforçando o padrão de cobertura incompleta no Norte do país.\n",
        "  -Essas diferenças territoriais impactam diretamente o desempenho e o potencial de faturamento das lojas, evidenciando que a abrangência geográfica é um fator crucial para a competitividade e expansão.\n",
        "\n",
        "### 6. Conclusão da Análise\n",
        "\n",
        "#### A Loja 4 deve ser vendida por desempenho consistentemente inferior em faturamento e alcance geográfico — seu menor faturamento não se justifica apenas pelo frete mais barato, indicando fragilidade operacional e de mercado.\n",
        "\n",
        "#### Além disso, sua ausência em regiões-chave como Roraima demonstra limitação logística que compromete expansão. O baixo volume e pouca diversidade nas vendas reforçam a baixa competitividade.\n",
        "\n",
        "#### Por outro lado, as Lojas 1 e 3 apresentam maior tração comercial e melhor capilaridade territorial, fundamentais para sustentar crescimento e retorno de investimento. Manter essas unidades foca recursos em ativos com potencial real de escalabilidade e fortalecimento da marca.\n"
      ],
      "metadata": {
        "id": "uyn1EAORc1gD"
      }
    }
  ]
}